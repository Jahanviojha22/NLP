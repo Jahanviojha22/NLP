{
 "cells": [
  {
   "cell_type": "markdown",
   "metadata": {},
   "source": [
    "<center style=\"font-size: 2.7rem;\n",
    "    font-weight: 600;\"> Task 3: NLP</center>"
   ]
  },
  {
   "cell_type": "markdown",
   "metadata": {},
   "source": [
    " <center style=\"font-size: 2.7rem;\n",
    "    font-weight: 600;\">MIDAS@IIITD Summer Internship/RA Task 2021\n",
    "</center>\n"
   ]
  },
  {
   "cell_type": "markdown",
   "metadata": {},
   "source": [
    "### TASK TODO\n",
    "- [x] <span style=\"color:green\">Show how you would clean and process the data </span>\n",
    "- [x] <span style=\"color:green\">Show how you would visualize this data</span>\n",
    "- [x] <span style=\"color:green\">Show how you would measure the accuracy of the model</span>\n",
    "- [x] <span style=\"color:green\">What ideas do you have to improve the accuracy of the model? What other algorithms would you try?</span>\n"
   ]
  },
  {
   "cell_type": "markdown",
   "metadata": {},
   "source": [
    "# Project Work"
   ]
  },
  {
   "cell_type": "markdown",
   "metadata": {},
   "source": [
    "# 1. Preprocessing and Cleaning of data"
   ]
  },
  {
   "cell_type": "markdown",
   "metadata": {},
   "source": [
    "#### Loading Libraries"
   ]
  },
  {
   "cell_type": "code",
   "execution_count": 2,
   "metadata": {},
   "outputs": [],
   "source": [
    "import pandas as pd\n",
    "import numpy as np\n",
    "import csv\n",
    "import re #regular expression\n",
    "import string\n",
    "import nltk\n",
    "import matplotlib.pyplot as plt\n",
    "from nltk.corpus import stopwords\n",
    "from nltk.tokenize import word_tokenize\n",
    "import seaborn as sns # To visualize the amazingly in coloful patterns\n",
    "import warnings\n",
    "warnings.filterwarnings('ignore')\n"
   ]
  },
  {
   "cell_type": "markdown",
   "metadata": {},
   "source": [
    "####  Loading Data"
   ]
  },
  {
   "cell_type": "code",
   "execution_count": 3,
   "metadata": {},
   "outputs": [
    {
     "data": {
      "text/html": [
       "<div>\n",
       "<style scoped>\n",
       "    .dataframe tbody tr th:only-of-type {\n",
       "        vertical-align: middle;\n",
       "    }\n",
       "\n",
       "    .dataframe tbody tr th {\n",
       "        vertical-align: top;\n",
       "    }\n",
       "\n",
       "    .dataframe thead th {\n",
       "        text-align: right;\n",
       "    }\n",
       "</style>\n",
       "<table border=\"1\" class=\"dataframe\">\n",
       "  <thead>\n",
       "    <tr style=\"text-align: right;\">\n",
       "      <th></th>\n",
       "      <th>uniq_id</th>\n",
       "      <th>crawl_timestamp</th>\n",
       "      <th>product_url</th>\n",
       "      <th>product_name</th>\n",
       "      <th>product_category_tree</th>\n",
       "      <th>pid</th>\n",
       "      <th>retail_price</th>\n",
       "      <th>discounted_price</th>\n",
       "      <th>image</th>\n",
       "      <th>is_FK_Advantage_product</th>\n",
       "      <th>description</th>\n",
       "      <th>product_rating</th>\n",
       "      <th>overall_rating</th>\n",
       "      <th>brand</th>\n",
       "      <th>product_specifications</th>\n",
       "    </tr>\n",
       "  </thead>\n",
       "  <tbody>\n",
       "    <tr>\n",
       "      <th>0</th>\n",
       "      <td>c2d766ca982eca8304150849735ffef9</td>\n",
       "      <td>2016-03-25 22:59:23 +0000</td>\n",
       "      <td>http://www.flipkart.com/alisha-solid-women-s-c...</td>\n",
       "      <td>Alisha Solid Women's Cycling Shorts</td>\n",
       "      <td>[\"Clothing &gt;&gt; Women's Clothing &gt;&gt; Lingerie, Sl...</td>\n",
       "      <td>SRTEH2FF9KEDEFGF</td>\n",
       "      <td>999.0</td>\n",
       "      <td>379.0</td>\n",
       "      <td>[\"http://img5a.flixcart.com/image/short/u/4/a/...</td>\n",
       "      <td>False</td>\n",
       "      <td>Key Features of Alisha Solid Women's Cycling S...</td>\n",
       "      <td>No rating available</td>\n",
       "      <td>No rating available</td>\n",
       "      <td>Alisha</td>\n",
       "      <td>{\"product_specification\"=&gt;[{\"key\"=&gt;\"Number of ...</td>\n",
       "    </tr>\n",
       "    <tr>\n",
       "      <th>1</th>\n",
       "      <td>7f7036a6d550aaa89d34c77bd39a5e48</td>\n",
       "      <td>2016-03-25 22:59:23 +0000</td>\n",
       "      <td>http://www.flipkart.com/fabhomedecor-fabric-do...</td>\n",
       "      <td>FabHomeDecor Fabric Double Sofa Bed</td>\n",
       "      <td>[\"Furniture &gt;&gt; Living Room Furniture &gt;&gt; Sofa B...</td>\n",
       "      <td>SBEEH3QGU7MFYJFY</td>\n",
       "      <td>32157.0</td>\n",
       "      <td>22646.0</td>\n",
       "      <td>[\"http://img6a.flixcart.com/image/sofa-bed/j/f...</td>\n",
       "      <td>False</td>\n",
       "      <td>FabHomeDecor Fabric Double Sofa Bed (Finish Co...</td>\n",
       "      <td>No rating available</td>\n",
       "      <td>No rating available</td>\n",
       "      <td>FabHomeDecor</td>\n",
       "      <td>{\"product_specification\"=&gt;[{\"key\"=&gt;\"Installati...</td>\n",
       "    </tr>\n",
       "    <tr>\n",
       "      <th>2</th>\n",
       "      <td>f449ec65dcbc041b6ae5e6a32717d01b</td>\n",
       "      <td>2016-03-25 22:59:23 +0000</td>\n",
       "      <td>http://www.flipkart.com/aw-bellies/p/itmeh4grg...</td>\n",
       "      <td>AW Bellies</td>\n",
       "      <td>[\"Footwear &gt;&gt; Women's Footwear &gt;&gt; Ballerinas &gt;...</td>\n",
       "      <td>SHOEH4GRSUBJGZXE</td>\n",
       "      <td>999.0</td>\n",
       "      <td>499.0</td>\n",
       "      <td>[\"http://img5a.flixcart.com/image/shoe/7/z/z/r...</td>\n",
       "      <td>False</td>\n",
       "      <td>Key Features of AW Bellies Sandals Wedges Heel...</td>\n",
       "      <td>No rating available</td>\n",
       "      <td>No rating available</td>\n",
       "      <td>AW</td>\n",
       "      <td>{\"product_specification\"=&gt;[{\"key\"=&gt;\"Ideal For\"...</td>\n",
       "    </tr>\n",
       "    <tr>\n",
       "      <th>3</th>\n",
       "      <td>0973b37acd0c664e3de26e97e5571454</td>\n",
       "      <td>2016-03-25 22:59:23 +0000</td>\n",
       "      <td>http://www.flipkart.com/alisha-solid-women-s-c...</td>\n",
       "      <td>Alisha Solid Women's Cycling Shorts</td>\n",
       "      <td>[\"Clothing &gt;&gt; Women's Clothing &gt;&gt; Lingerie, Sl...</td>\n",
       "      <td>SRTEH2F6HUZMQ6SJ</td>\n",
       "      <td>699.0</td>\n",
       "      <td>267.0</td>\n",
       "      <td>[\"http://img5a.flixcart.com/image/short/6/2/h/...</td>\n",
       "      <td>False</td>\n",
       "      <td>Key Features of Alisha Solid Women's Cycling S...</td>\n",
       "      <td>No rating available</td>\n",
       "      <td>No rating available</td>\n",
       "      <td>Alisha</td>\n",
       "      <td>{\"product_specification\"=&gt;[{\"key\"=&gt;\"Number of ...</td>\n",
       "    </tr>\n",
       "    <tr>\n",
       "      <th>4</th>\n",
       "      <td>bc940ea42ee6bef5ac7cea3fb5cfbee7</td>\n",
       "      <td>2016-03-25 22:59:23 +0000</td>\n",
       "      <td>http://www.flipkart.com/sicons-all-purpose-arn...</td>\n",
       "      <td>Sicons All Purpose Arnica Dog Shampoo</td>\n",
       "      <td>[\"Pet Supplies &gt;&gt; Grooming &gt;&gt; Skin &amp; Coat Care...</td>\n",
       "      <td>PSOEH3ZYDMSYARJ5</td>\n",
       "      <td>220.0</td>\n",
       "      <td>210.0</td>\n",
       "      <td>[\"http://img5a.flixcart.com/image/pet-shampoo/...</td>\n",
       "      <td>False</td>\n",
       "      <td>Specifications of Sicons All Purpose Arnica Do...</td>\n",
       "      <td>No rating available</td>\n",
       "      <td>No rating available</td>\n",
       "      <td>Sicons</td>\n",
       "      <td>{\"product_specification\"=&gt;[{\"key\"=&gt;\"Pet Type\",...</td>\n",
       "    </tr>\n",
       "  </tbody>\n",
       "</table>\n",
       "</div>"
      ],
      "text/plain": [
       "                            uniq_id            crawl_timestamp  \\\n",
       "0  c2d766ca982eca8304150849735ffef9  2016-03-25 22:59:23 +0000   \n",
       "1  7f7036a6d550aaa89d34c77bd39a5e48  2016-03-25 22:59:23 +0000   \n",
       "2  f449ec65dcbc041b6ae5e6a32717d01b  2016-03-25 22:59:23 +0000   \n",
       "3  0973b37acd0c664e3de26e97e5571454  2016-03-25 22:59:23 +0000   \n",
       "4  bc940ea42ee6bef5ac7cea3fb5cfbee7  2016-03-25 22:59:23 +0000   \n",
       "\n",
       "                                         product_url  \\\n",
       "0  http://www.flipkart.com/alisha-solid-women-s-c...   \n",
       "1  http://www.flipkart.com/fabhomedecor-fabric-do...   \n",
       "2  http://www.flipkart.com/aw-bellies/p/itmeh4grg...   \n",
       "3  http://www.flipkart.com/alisha-solid-women-s-c...   \n",
       "4  http://www.flipkart.com/sicons-all-purpose-arn...   \n",
       "\n",
       "                            product_name  \\\n",
       "0    Alisha Solid Women's Cycling Shorts   \n",
       "1    FabHomeDecor Fabric Double Sofa Bed   \n",
       "2                             AW Bellies   \n",
       "3    Alisha Solid Women's Cycling Shorts   \n",
       "4  Sicons All Purpose Arnica Dog Shampoo   \n",
       "\n",
       "                               product_category_tree               pid  \\\n",
       "0  [\"Clothing >> Women's Clothing >> Lingerie, Sl...  SRTEH2FF9KEDEFGF   \n",
       "1  [\"Furniture >> Living Room Furniture >> Sofa B...  SBEEH3QGU7MFYJFY   \n",
       "2  [\"Footwear >> Women's Footwear >> Ballerinas >...  SHOEH4GRSUBJGZXE   \n",
       "3  [\"Clothing >> Women's Clothing >> Lingerie, Sl...  SRTEH2F6HUZMQ6SJ   \n",
       "4  [\"Pet Supplies >> Grooming >> Skin & Coat Care...  PSOEH3ZYDMSYARJ5   \n",
       "\n",
       "   retail_price  discounted_price  \\\n",
       "0         999.0             379.0   \n",
       "1       32157.0           22646.0   \n",
       "2         999.0             499.0   \n",
       "3         699.0             267.0   \n",
       "4         220.0             210.0   \n",
       "\n",
       "                                               image  is_FK_Advantage_product  \\\n",
       "0  [\"http://img5a.flixcart.com/image/short/u/4/a/...                    False   \n",
       "1  [\"http://img6a.flixcart.com/image/sofa-bed/j/f...                    False   \n",
       "2  [\"http://img5a.flixcart.com/image/shoe/7/z/z/r...                    False   \n",
       "3  [\"http://img5a.flixcart.com/image/short/6/2/h/...                    False   \n",
       "4  [\"http://img5a.flixcart.com/image/pet-shampoo/...                    False   \n",
       "\n",
       "                                         description       product_rating  \\\n",
       "0  Key Features of Alisha Solid Women's Cycling S...  No rating available   \n",
       "1  FabHomeDecor Fabric Double Sofa Bed (Finish Co...  No rating available   \n",
       "2  Key Features of AW Bellies Sandals Wedges Heel...  No rating available   \n",
       "3  Key Features of Alisha Solid Women's Cycling S...  No rating available   \n",
       "4  Specifications of Sicons All Purpose Arnica Do...  No rating available   \n",
       "\n",
       "        overall_rating         brand  \\\n",
       "0  No rating available        Alisha   \n",
       "1  No rating available  FabHomeDecor   \n",
       "2  No rating available            AW   \n",
       "3  No rating available        Alisha   \n",
       "4  No rating available        Sicons   \n",
       "\n",
       "                              product_specifications  \n",
       "0  {\"product_specification\"=>[{\"key\"=>\"Number of ...  \n",
       "1  {\"product_specification\"=>[{\"key\"=>\"Installati...  \n",
       "2  {\"product_specification\"=>[{\"key\"=>\"Ideal For\"...  \n",
       "3  {\"product_specification\"=>[{\"key\"=>\"Number of ...  \n",
       "4  {\"product_specification\"=>[{\"key\"=>\"Pet Type\",...  "
      ]
     },
     "execution_count": 3,
     "metadata": {},
     "output_type": "execute_result"
    }
   ],
   "source": [
    "\n",
    "#.head print out a few rows to keep as a visual reference. \n",
    "flipkart_df = pd.read_csv(\"flipkart.csv\")\n",
    "totallen=len(flipkart_df)\n",
    "flipkart_df.head()\n"
   ]
  },
  {
   "cell_type": "code",
   "execution_count": 4,
   "metadata": {
    "scrolled": true
   },
   "outputs": [
    {
     "name": "stdout",
     "output_type": "stream",
     "text": [
      "<class 'pandas.core.frame.DataFrame'>\n",
      "RangeIndex: 20000 entries, 0 to 19999\n",
      "Data columns (total 15 columns):\n",
      " #   Column                   Non-Null Count  Dtype  \n",
      "---  ------                   --------------  -----  \n",
      " 0   uniq_id                  20000 non-null  object \n",
      " 1   crawl_timestamp          20000 non-null  object \n",
      " 2   product_url              20000 non-null  object \n",
      " 3   product_name             20000 non-null  object \n",
      " 4   product_category_tree    20000 non-null  object \n",
      " 5   pid                      20000 non-null  object \n",
      " 6   retail_price             19922 non-null  float64\n",
      " 7   discounted_price         19922 non-null  float64\n",
      " 8   image                    19997 non-null  object \n",
      " 9   is_FK_Advantage_product  20000 non-null  bool   \n",
      " 10  description              19998 non-null  object \n",
      " 11  product_rating           20000 non-null  object \n",
      " 12  overall_rating           20000 non-null  object \n",
      " 13  brand                    14136 non-null  object \n",
      " 14  product_specifications   19986 non-null  object \n",
      "dtypes: bool(1), float64(2), object(12)\n",
      "memory usage: 2.2+ MB\n"
     ]
    }
   ],
   "source": [
    "#.info provides the essential details about your dataset, such as the number of rows and columns\n",
    "flipkart_df.info()\n"
   ]
  },
  {
   "cell_type": "code",
   "execution_count": 5,
   "metadata": {
    "scrolled": true
   },
   "outputs": [
    {
     "data": {
      "text/plain": [
       "<AxesSubplot:>"
      ]
     },
     "execution_count": 5,
     "metadata": {},
     "output_type": "execute_result"
    },
    {
     "data": {
      "image/png": "[encoded data removed]",
      "text/plain": [
       "<Figure size 1008x864 with 2 Axes>"
      ]
     },
     "metadata": {
      "needs_background": "light"
     },
     "output_type": "display_data"
    }
   ],
   "source": [
    "# let us visualize the missing data in percentages using basic numerical equation\n",
    "data_missing = flipkart_df.isnull().sum()*100/len(flipkart_df)\n",
    "\n",
    "# Type-1 of plotting the missing data\n",
    "plt.figure(figsize=(14,12))\n",
    "sns.heatmap(flipkart_df.isnull(),yticklabels=False,cmap='viridis')"
   ]
  },
  {
   "cell_type": "code",
   "execution_count": 6,
   "metadata": {},
   "outputs": [
    {
     "data": {
      "text/plain": [
       "<AxesSubplot:>"
      ]
     },
     "execution_count": 6,
     "metadata": {},
     "output_type": "execute_result"
    },
    {
     "data": {
      "image/png": "[encoded data removed]",
      "text/plain": [
       "<Figure size 864x432 with 1 Axes>"
      ]
     },
     "metadata": {
      "needs_background": "light"
     },
     "output_type": "display_data"
    }
   ],
   "source": [
    "# Type - 2\n",
    "# Plotting the missing data in a horizontal barplot\n",
    "plt.figure(figsize=(12,6)) # To set the size of figure in the working cell\n",
    "sns.barplot(data_missing.values, data_missing.index, alpha=0.75)"
   ]
  },
  {
   "cell_type": "code",
   "execution_count": 7,
   "metadata": {},
   "outputs": [
    {
     "data": {
      "text/plain": [
       "(20000, 15)"
      ]
     },
     "execution_count": 7,
     "metadata": {},
     "output_type": "execute_result"
    }
   ],
   "source": [
    "#.shape outputs just a tuple of (rows, columns):\n",
    "flipkart_df.shape\n"
   ]
  },
  {
   "cell_type": "code",
   "execution_count": 8,
   "metadata": {},
   "outputs": [
    {
     "data": {
      "text/plain": [
       "Index(['uniq_id', 'crawl_timestamp', 'product_url', 'product_name',\n",
       "       'product_category_tree', 'pid', 'retail_price', 'discounted_price',\n",
       "       'image', 'is_FK_Advantage_product', 'description', 'product_rating',\n",
       "       'overall_rating', 'brand', 'product_specifications'],\n",
       "      dtype='object')"
      ]
     },
     "execution_count": 8,
     "metadata": {},
     "output_type": "execute_result"
    }
   ],
   "source": [
    "flipkart_df.columns"
   ]
  },
  {
   "cell_type": "code",
   "execution_count": 9,
   "metadata": {},
   "outputs": [
    {
     "data": {
      "text/html": [
       "<div>\n",
       "<style scoped>\n",
       "    .dataframe tbody tr th:only-of-type {\n",
       "        vertical-align: middle;\n",
       "    }\n",
       "\n",
       "    .dataframe tbody tr th {\n",
       "        vertical-align: top;\n",
       "    }\n",
       "\n",
       "    .dataframe thead th {\n",
       "        text-align: right;\n",
       "    }\n",
       "</style>\n",
       "<table border=\"1\" class=\"dataframe\">\n",
       "  <thead>\n",
       "    <tr style=\"text-align: right;\">\n",
       "      <th></th>\n",
       "      <th>uniq_id</th>\n",
       "      <th>crawl_timestamp</th>\n",
       "      <th>product_url</th>\n",
       "      <th>product_name</th>\n",
       "      <th>product_category_tree</th>\n",
       "      <th>pid</th>\n",
       "      <th>retail_price</th>\n",
       "      <th>discounted_price</th>\n",
       "      <th>image</th>\n",
       "      <th>is_FK_Advantage_product</th>\n",
       "      <th>description</th>\n",
       "      <th>product_rating</th>\n",
       "      <th>overall_rating</th>\n",
       "      <th>brand</th>\n",
       "      <th>product_specifications</th>\n",
       "    </tr>\n",
       "  </thead>\n",
       "  <tbody>\n",
       "    <tr>\n",
       "      <th>0</th>\n",
       "      <td>False</td>\n",
       "      <td>False</td>\n",
       "      <td>False</td>\n",
       "      <td>False</td>\n",
       "      <td>False</td>\n",
       "      <td>False</td>\n",
       "      <td>False</td>\n",
       "      <td>False</td>\n",
       "      <td>False</td>\n",
       "      <td>False</td>\n",
       "      <td>False</td>\n",
       "      <td>False</td>\n",
       "      <td>False</td>\n",
       "      <td>False</td>\n",
       "      <td>False</td>\n",
       "    </tr>\n",
       "    <tr>\n",
       "      <th>1</th>\n",
       "      <td>False</td>\n",
       "      <td>False</td>\n",
       "      <td>False</td>\n",
       "      <td>False</td>\n",
       "      <td>False</td>\n",
       "      <td>False</td>\n",
       "      <td>False</td>\n",
       "      <td>False</td>\n",
       "      <td>False</td>\n",
       "      <td>False</td>\n",
       "      <td>False</td>\n",
       "      <td>False</td>\n",
       "      <td>False</td>\n",
       "      <td>False</td>\n",
       "      <td>False</td>\n",
       "    </tr>\n",
       "    <tr>\n",
       "      <th>2</th>\n",
       "      <td>False</td>\n",
       "      <td>False</td>\n",
       "      <td>False</td>\n",
       "      <td>False</td>\n",
       "      <td>False</td>\n",
       "      <td>False</td>\n",
       "      <td>False</td>\n",
       "      <td>False</td>\n",
       "      <td>False</td>\n",
       "      <td>False</td>\n",
       "      <td>False</td>\n",
       "      <td>False</td>\n",
       "      <td>False</td>\n",
       "      <td>False</td>\n",
       "      <td>False</td>\n",
       "    </tr>\n",
       "    <tr>\n",
       "      <th>3</th>\n",
       "      <td>False</td>\n",
       "      <td>False</td>\n",
       "      <td>False</td>\n",
       "      <td>False</td>\n",
       "      <td>False</td>\n",
       "      <td>False</td>\n",
       "      <td>False</td>\n",
       "      <td>False</td>\n",
       "      <td>False</td>\n",
       "      <td>False</td>\n",
       "      <td>False</td>\n",
       "      <td>False</td>\n",
       "      <td>False</td>\n",
       "      <td>False</td>\n",
       "      <td>False</td>\n",
       "    </tr>\n",
       "    <tr>\n",
       "      <th>4</th>\n",
       "      <td>False</td>\n",
       "      <td>False</td>\n",
       "      <td>False</td>\n",
       "      <td>False</td>\n",
       "      <td>False</td>\n",
       "      <td>False</td>\n",
       "      <td>False</td>\n",
       "      <td>False</td>\n",
       "      <td>False</td>\n",
       "      <td>False</td>\n",
       "      <td>False</td>\n",
       "      <td>False</td>\n",
       "      <td>False</td>\n",
       "      <td>False</td>\n",
       "      <td>False</td>\n",
       "    </tr>\n",
       "    <tr>\n",
       "      <th>...</th>\n",
       "      <td>...</td>\n",
       "      <td>...</td>\n",
       "      <td>...</td>\n",
       "      <td>...</td>\n",
       "      <td>...</td>\n",
       "      <td>...</td>\n",
       "      <td>...</td>\n",
       "      <td>...</td>\n",
       "      <td>...</td>\n",
       "      <td>...</td>\n",
       "      <td>...</td>\n",
       "      <td>...</td>\n",
       "      <td>...</td>\n",
       "      <td>...</td>\n",
       "      <td>...</td>\n",
       "    </tr>\n",
       "    <tr>\n",
       "      <th>19995</th>\n",
       "      <td>False</td>\n",
       "      <td>False</td>\n",
       "      <td>False</td>\n",
       "      <td>False</td>\n",
       "      <td>False</td>\n",
       "      <td>False</td>\n",
       "      <td>False</td>\n",
       "      <td>False</td>\n",
       "      <td>False</td>\n",
       "      <td>False</td>\n",
       "      <td>False</td>\n",
       "      <td>False</td>\n",
       "      <td>False</td>\n",
       "      <td>False</td>\n",
       "      <td>False</td>\n",
       "    </tr>\n",
       "    <tr>\n",
       "      <th>19996</th>\n",
       "      <td>False</td>\n",
       "      <td>False</td>\n",
       "      <td>False</td>\n",
       "      <td>False</td>\n",
       "      <td>False</td>\n",
       "      <td>False</td>\n",
       "      <td>False</td>\n",
       "      <td>False</td>\n",
       "      <td>False</td>\n",
       "      <td>False</td>\n",
       "      <td>False</td>\n",
       "      <td>False</td>\n",
       "      <td>False</td>\n",
       "      <td>False</td>\n",
       "      <td>False</td>\n",
       "    </tr>\n",
       "    <tr>\n",
       "      <th>19997</th>\n",
       "      <td>False</td>\n",
       "      <td>False</td>\n",
       "      <td>False</td>\n",
       "      <td>False</td>\n",
       "      <td>False</td>\n",
       "      <td>False</td>\n",
       "      <td>False</td>\n",
       "      <td>False</td>\n",
       "      <td>False</td>\n",
       "      <td>False</td>\n",
       "      <td>False</td>\n",
       "      <td>False</td>\n",
       "      <td>False</td>\n",
       "      <td>False</td>\n",
       "      <td>False</td>\n",
       "    </tr>\n",
       "    <tr>\n",
       "      <th>19998</th>\n",
       "      <td>False</td>\n",
       "      <td>False</td>\n",
       "      <td>False</td>\n",
       "      <td>False</td>\n",
       "      <td>False</td>\n",
       "      <td>False</td>\n",
       "      <td>False</td>\n",
       "      <td>False</td>\n",
       "      <td>False</td>\n",
       "      <td>False</td>\n",
       "      <td>False</td>\n",
       "      <td>False</td>\n",
       "      <td>False</td>\n",
       "      <td>False</td>\n",
       "      <td>False</td>\n",
       "    </tr>\n",
       "    <tr>\n",
       "      <th>19999</th>\n",
       "      <td>False</td>\n",
       "      <td>False</td>\n",
       "      <td>False</td>\n",
       "      <td>False</td>\n",
       "      <td>False</td>\n",
       "      <td>False</td>\n",
       "      <td>False</td>\n",
       "      <td>False</td>\n",
       "      <td>False</td>\n",
       "      <td>False</td>\n",
       "      <td>False</td>\n",
       "      <td>False</td>\n",
       "      <td>False</td>\n",
       "      <td>False</td>\n",
       "      <td>False</td>\n",
       "    </tr>\n",
       "  </tbody>\n",
       "</table>\n",
       "<p>20000 rows × 15 columns</p>\n",
       "</div>"
      ],
      "text/plain": [
       "       uniq_id  crawl_timestamp  product_url  product_name  \\\n",
       "0        False            False        False         False   \n",
       "1        False            False        False         False   \n",
       "2        False            False        False         False   \n",
       "3        False            False        False         False   \n",
       "4        False            False        False         False   \n",
       "...        ...              ...          ...           ...   \n",
       "19995    False            False        False         False   \n",
       "19996    False            False        False         False   \n",
       "19997    False            False        False         False   \n",
       "19998    False            False        False         False   \n",
       "19999    False            False        False         False   \n",
       "\n",
       "       product_category_tree    pid  retail_price  discounted_price  image  \\\n",
       "0                      False  False         False             False  False   \n",
       "1                      False  False         False             False  False   \n",
       "2                      False  False         False             False  False   \n",
       "3                      False  False         False             False  False   \n",
       "4                      False  False         False             False  False   \n",
       "...                      ...    ...           ...               ...    ...   \n",
       "19995                  False  False         False             False  False   \n",
       "19996                  False  False         False             False  False   \n",
       "19997                  False  False         False             False  False   \n",
       "19998                  False  False         False             False  False   \n",
       "19999                  False  False         False             False  False   \n",
       "\n",
       "       is_FK_Advantage_product  description  product_rating  overall_rating  \\\n",
       "0                        False        False           False           False   \n",
       "1                        False        False           False           False   \n",
       "2                        False        False           False           False   \n",
       "3                        False        False           False           False   \n",
       "4                        False        False           False           False   \n",
       "...                        ...          ...             ...             ...   \n",
       "19995                    False        False           False           False   \n",
       "19996                    False        False           False           False   \n",
       "19997                    False        False           False           False   \n",
       "19998                    False        False           False           False   \n",
       "19999                    False        False           False           False   \n",
       "\n",
       "       brand  product_specifications  \n",
       "0      False                   False  \n",
       "1      False                   False  \n",
       "2      False                   False  \n",
       "3      False                   False  \n",
       "4      False                   False  \n",
       "...      ...                     ...  \n",
       "19995  False                   False  \n",
       "19996  False                   False  \n",
       "19997  False                   False  \n",
       "19998  False                   False  \n",
       "19999  False                   False  \n",
       "\n",
       "[20000 rows x 15 columns]"
      ]
     },
     "execution_count": 9,
     "metadata": {},
     "output_type": "execute_result"
    }
   ],
   "source": [
    "# .isnull() gives total number of nulls in each column of our dataset.\n",
    "flipkart_df.isnull()\n"
   ]
  },
  {
   "cell_type": "code",
   "execution_count": 10,
   "metadata": {
    "scrolled": true
   },
   "outputs": [
    {
     "data": {
      "text/plain": [
       "uniq_id                       0\n",
       "crawl_timestamp               0\n",
       "product_url                   0\n",
       "product_name                  0\n",
       "product_category_tree         0\n",
       "pid                           0\n",
       "retail_price                 78\n",
       "discounted_price             78\n",
       "image                         3\n",
       "is_FK_Advantage_product       0\n",
       "description                   2\n",
       "product_rating                0\n",
       "overall_rating                0\n",
       "brand                      5864\n",
       "product_specifications       14\n",
       "dtype: int64"
      ]
     },
     "execution_count": 10,
     "metadata": {},
     "output_type": "execute_result"
    }
   ],
   "source": [
    "# .sum() gives the number of nulls in each column we use an aggregate function for summing:\n",
    "flipkart_df.isnull().sum()\n"
   ]
  },
  {
   "cell_type": "code",
   "execution_count": 11,
   "metadata": {},
   "outputs": [
    {
     "data": {
      "text/html": [
       "<div>\n",
       "<style scoped>\n",
       "    .dataframe tbody tr th:only-of-type {\n",
       "        vertical-align: middle;\n",
       "    }\n",
       "\n",
       "    .dataframe tbody tr th {\n",
       "        vertical-align: top;\n",
       "    }\n",
       "\n",
       "    .dataframe thead th {\n",
       "        text-align: right;\n",
       "    }\n",
       "</style>\n",
       "<table border=\"1\" class=\"dataframe\">\n",
       "  <thead>\n",
       "    <tr style=\"text-align: right;\">\n",
       "      <th></th>\n",
       "      <th>retail_price</th>\n",
       "      <th>discounted_price</th>\n",
       "    </tr>\n",
       "  </thead>\n",
       "  <tbody>\n",
       "    <tr>\n",
       "      <th>count</th>\n",
       "      <td>19922.000000</td>\n",
       "      <td>19922.000000</td>\n",
       "    </tr>\n",
       "    <tr>\n",
       "      <th>mean</th>\n",
       "      <td>2979.206104</td>\n",
       "      <td>1973.401767</td>\n",
       "    </tr>\n",
       "    <tr>\n",
       "      <th>std</th>\n",
       "      <td>9009.639341</td>\n",
       "      <td>7333.586040</td>\n",
       "    </tr>\n",
       "    <tr>\n",
       "      <th>min</th>\n",
       "      <td>35.000000</td>\n",
       "      <td>35.000000</td>\n",
       "    </tr>\n",
       "    <tr>\n",
       "      <th>25%</th>\n",
       "      <td>666.000000</td>\n",
       "      <td>350.000000</td>\n",
       "    </tr>\n",
       "    <tr>\n",
       "      <th>50%</th>\n",
       "      <td>1040.000000</td>\n",
       "      <td>550.000000</td>\n",
       "    </tr>\n",
       "    <tr>\n",
       "      <th>75%</th>\n",
       "      <td>1999.000000</td>\n",
       "      <td>999.000000</td>\n",
       "    </tr>\n",
       "    <tr>\n",
       "      <th>max</th>\n",
       "      <td>571230.000000</td>\n",
       "      <td>571230.000000</td>\n",
       "    </tr>\n",
       "  </tbody>\n",
       "</table>\n",
       "</div>"
      ],
      "text/plain": [
       "        retail_price  discounted_price\n",
       "count   19922.000000      19922.000000\n",
       "mean     2979.206104       1973.401767\n",
       "std      9009.639341       7333.586040\n",
       "min        35.000000         35.000000\n",
       "25%       666.000000        350.000000\n",
       "50%      1040.000000        550.000000\n",
       "75%      1999.000000        999.000000\n",
       "max    571230.000000     571230.000000"
      ]
     },
     "execution_count": 11,
     "metadata": {},
     "output_type": "execute_result"
    }
   ],
   "source": [
    "# Using describe() on an entire DataFrame we can get a summary of the distribution of continuous variables:\n",
    "flipkart_df.describe()\n"
   ]
  },
  {
   "cell_type": "code",
   "execution_count": 12,
   "metadata": {},
   "outputs": [
    {
     "data": {
      "text/plain": [
       "count                                                 19998\n",
       "unique                                                17539\n",
       "top       TheLostPuppy Back Cover for Apple iPad Air (Mu...\n",
       "freq                                                     92\n",
       "Name: description, dtype: object"
      ]
     },
     "execution_count": 12,
     "metadata": {},
     "output_type": "execute_result"
    }
   ],
   "source": [
    "# .describe() can also be used on a categorical variable to get the count of rows, unique count of categories, top category, and freq of top category\n",
    "flipkart_df['description'].describe()\n"
   ]
  },
  {
   "cell_type": "code",
   "execution_count": 13,
   "metadata": {},
   "outputs": [
    {
     "data": {
      "text/plain": [
       "TheLostPuppy Back Cover for Apple iPad Air (Multicolor)\\n                         Price: Rs. 599\\n\\t\\t\\t\\t\\n\\t\\t\\tDesigned to protect and impress. The Lost Puppy brings you robust mobile covers in all sizes. With the special anti-slip technology this protects your phone in more ways than one. The matte finish and superior quality add elegance, class and sturdiness to the covers.\\nDesigned to protect and impress. The Lost Puppy brings you robust mobile covers in all sizes. With the special anti-slip technology this protects your phone in more ways than one. The matte finish and superior quality add elegance, class and sturdiness to the covers.                                                                                                                                                                                                                                                                                                                                                                                                                                                                                                                                                                                                                                                                                                                                                                                       92\n",
       "TheLostPuppy Back Cover for Apple iPad Air 2 (Multicolor)\\n                         Price: Rs. 599\\n\\t\\t\\t\\t\\n\\t\\t\\tDesigned to protect and impress. The Lost Puppy brings you robust mobile covers in all sizes. With the special anti-slip technology this protects your phone in more ways than one. The matte finish and superior quality add elegance, class and sturdiness to the covers.\\nDesigned to protect and impress. The Lost Puppy brings you robust mobile covers in all sizes. With the special anti-slip technology this protects your phone in more ways than one. The matte finish and superior quality add elegance, class and sturdiness to the covers.                                                                                                                                                                                                                                                                                                                                                                                                                                                                                                                                                                                                                                                                                                                                                                                     58\n",
       "Buy HomeeHub Polyester Multicolor Self Design Eyelet Door Curtain at Rs. 1332 at Flipkart.com. Only Genuine Products. Free Shipping. Cash On Delivery!                                                                                                                                                                                                                                                                                                                                                                                                                                                                                                                                                                                                                                                                                                                                                                                                                                                                                                                                                                                                                                                                                                                                                                                                                                                                                                           58\n",
       "Theskinmantra Sleeve for All versions of Apple ipad (Multicolor)\\n                         Price: Rs. 549\\n\\t\\t\\t\\t\\n\\t\\t\\tThe HOT new Ipad sleeves from the house of Theskinmantra are here. These are Waterproof and fadeproof sleeves for all Ipad versions (Ipad 1, 2, 3, 4, Ipad Air 1, Ipad Air 2, Ipad Air 3) . The cushioned Apple Ipad Sleeves are also compatible with all 9/10 inch tablets such as Nexus 9, Asus Fonepad . These are made of Hydra-Flex Material which means that they are water proof, and the designs on them are fadeproof for life. Made from 4.2 MM thick cushioned Material, These come with a high quality textured chain. These Apple Ipad Sleeves offer Ultimate Utility and style. Carry your gadget in one of these sleeves. Second look Guaranteed!\\nThe HOT new Ipad sleeves from the house of Theskinmantra are here. These are Waterproof and fadeproof sleeves for all Ipad versions (Ipad 1, 2, 3, 4, Ipad Air 1, Ipad Air 2, Ipad Air 3) . The cushioned Apple Ipad Sleeves are also compatible with all 9/10 inch tablets such as Nexus 9, Asus Fonepad . These are made of Hydra-Flex Material which means that they are water proof, and the designs on them are fadeproof for life. Made from 4.2 MM thick cushioned Material, These come with a high quality textured chain. These Apple Ipad Sleeves offer Ultimate Utility and style. Carry your gadget in one of these sleeves. Second look Guaranteed!    43\n",
       "TheLostPuppy Back Cover for Apple iPad Air (Multicolor)\\n                         Price: Rs. 599\\n\\t\\t\\t\\t\\n\\t\\t\\tDesigned To Protect And Impress. The Lost Puppy Brings You Robust Mobile Covers In All Sizes. With The Special Anti-Slip Technology This Protects Your Phone In More Ways Than One. The Matte Finish And Superior Quality Add Elegance, Class And Sturdiness To The Covers.\\nDesigned To Protect And Impress. The Lost Puppy Brings You Robust Mobile Covers In All Sizes. With The Special Anti-Slip Technology This Protects Your Phone In More Ways Than One. The Matte Finish And Superior Quality Add Elegance, Class And Sturdiness To The Covers.                                                                                                                                                                                                                                                                                                                                                                                                                                                                                                                                                                                                                                                                                                                                                                                       42\n",
       "Fashion Jewellery Alloy Necklace - Buy Fashion Jewellery Alloy Necklace only for Rs. 239 from Flipkart.com. Only Genuine Products. 30 Day Replacement Guarantee. Free Shipping. Cash On Delivery!                                                                                                                                                                                                                                                                                                                                                                                                                                                                                                                                                                                                                                                                                                                                                                                                                                                                                                                                                                                                                                                                                                                                                                                                                                                                38\n",
       "Buy HomeeHub Polyester Multicolor Self Design Eyelet Window Curtain at Rs. 599 at Flipkart.com. Only Genuine Products. Free Shipping. Cash On Delivery!                                                                                                                                                                                                                                                                                                                                                                                                                                                                                                                                                                                                                                                                                                                                                                                                                                                                                                                                                                                                                                                                                                                                                                                                                                                                                                          37\n",
       "TheLostPuppy Back Cover for Apple iPad Air 2 (Multicolor)\\n                         Price: Rs. 599\\n\\t\\t\\t\\t\\n\\t\\t\\tDesigned To Protect And Impress. The Lost Puppy Brings You Robust Mobile Covers In All Sizes. With The Special Anti-Slip Technology This Protects Your Phone In More Ways Than One. The Matte Finish And Superior Quality Add Elegance, Class And Sturdiness To The Covers.\\nDesigned To Protect And Impress. The Lost Puppy Brings You Robust Mobile Covers In All Sizes. With The Special Anti-Slip Technology This Protects Your Phone In More Ways Than One. The Matte Finish And Superior Quality Add Elegance, Class And Sturdiness To The Covers.                                                                                                                                                                                                                                                                                                                                                                                                                                                                                                                                                                                                                                                                                                                                                                                     37\n",
       "Jewel Paradise Brass Plated Brass Necklace - Buy Jewel Paradise Brass Plated Brass Necklace only for Rs. 399 from Flipkart.com. Only Genuine Products. 30 Day Replacement Guarantee. Free Shipping. Cash On Delivery!                                                                                                                                                                                                                                                                                                                                                                                                                                                                                                                                                                                                                                                                                                                                                                                                                                                                                                                                                                                                                                                                                                                                                                                                                                            37\n",
       "Buy DeStudio Tiny Wall Sticker for Rs.399 online. DeStudio Tiny Wall Sticker at best prices with FREE shipping & cash on delivery. Only Genuine Products. 30 Day Replacement Guarantee.                                                                                                                                                                                                                                                                                                                                                                                                                                                                                                                                                                                                                                                                                                                                                                                                                                                                                                                                                                                                                                                                                                                                                                                                                                                                          29\n",
       "Name: description, dtype: int64"
      ]
     },
     "execution_count": 13,
     "metadata": {},
     "output_type": "execute_result"
    }
   ],
   "source": [
    "#.value_counts() can tell us the frequency of all values in a column:\n",
    "flipkart_df['description'].value_counts().head(10)\n"
   ]
  },
  {
   "cell_type": "code",
   "execution_count": 14,
   "metadata": {
    "scrolled": true
   },
   "outputs": [
    {
     "data": {
      "text/html": [
       "<div>\n",
       "<style scoped>\n",
       "    .dataframe tbody tr th:only-of-type {\n",
       "        vertical-align: middle;\n",
       "    }\n",
       "\n",
       "    .dataframe tbody tr th {\n",
       "        vertical-align: top;\n",
       "    }\n",
       "\n",
       "    .dataframe thead th {\n",
       "        text-align: right;\n",
       "    }\n",
       "</style>\n",
       "<table border=\"1\" class=\"dataframe\">\n",
       "  <thead>\n",
       "    <tr style=\"text-align: right;\">\n",
       "      <th></th>\n",
       "      <th>retail_price</th>\n",
       "      <th>discounted_price</th>\n",
       "      <th>is_FK_Advantage_product</th>\n",
       "    </tr>\n",
       "  </thead>\n",
       "  <tbody>\n",
       "    <tr>\n",
       "      <th>retail_price</th>\n",
       "      <td>1.000000</td>\n",
       "      <td>0.981180</td>\n",
       "      <td>-0.026783</td>\n",
       "    </tr>\n",
       "    <tr>\n",
       "      <th>discounted_price</th>\n",
       "      <td>0.981180</td>\n",
       "      <td>1.000000</td>\n",
       "      <td>-0.018551</td>\n",
       "    </tr>\n",
       "    <tr>\n",
       "      <th>is_FK_Advantage_product</th>\n",
       "      <td>-0.026783</td>\n",
       "      <td>-0.018551</td>\n",
       "      <td>1.000000</td>\n",
       "    </tr>\n",
       "  </tbody>\n",
       "</table>\n",
       "</div>"
      ],
      "text/plain": [
       "                         retail_price  discounted_price  \\\n",
       "retail_price                 1.000000          0.981180   \n",
       "discounted_price             0.981180          1.000000   \n",
       "is_FK_Advantage_product     -0.026783         -0.018551   \n",
       "\n",
       "                         is_FK_Advantage_product  \n",
       "retail_price                           -0.026783  \n",
       "discounted_price                       -0.018551  \n",
       "is_FK_Advantage_product                 1.000000  "
      ]
     },
     "execution_count": 14,
     "metadata": {},
     "output_type": "execute_result"
    }
   ],
   "source": [
    "# Relationships between continuous variables\n",
    "flipkart_df.corr()\n"
   ]
  },
  {
   "cell_type": "markdown",
   "metadata": {},
   "source": [
    "# 2. Data Preparation & Data Cleaning"
   ]
  },
  {
   "cell_type": "markdown",
   "metadata": {},
   "source": [
    "#### From the visualizations I have observed that there are lot of data missing in the Brand column\n",
    "#### So I am dropping the brand column to avoid further hurdles while analyzing the data"
   ]
  },
  {
   "cell_type": "code",
   "execution_count": 15,
   "metadata": {},
   "outputs": [],
   "source": [
    "# Drop the column data from a dataframe using\n",
    "flipkart_df.drop(labels='brand', axis=1, inplace=True)"
   ]
  },
  {
   "cell_type": "code",
   "execution_count": 16,
   "metadata": {},
   "outputs": [
    {
     "data": {
      "text/plain": [
       "uniq_id                     0\n",
       "crawl_timestamp             0\n",
       "product_url                 0\n",
       "product_name                0\n",
       "product_category_tree       0\n",
       "pid                         0\n",
       "retail_price               78\n",
       "discounted_price           78\n",
       "image                       3\n",
       "is_FK_Advantage_product     0\n",
       "description                 2\n",
       "product_rating              0\n",
       "overall_rating              0\n",
       "product_specifications     14\n",
       "dtype: int64"
      ]
     },
     "execution_count": 16,
     "metadata": {},
     "output_type": "execute_result"
    }
   ],
   "source": [
    "flipkart_df.isnull().sum()\n"
   ]
  },
  {
   "cell_type": "code",
   "execution_count": 17,
   "metadata": {
    "scrolled": true
   },
   "outputs": [
    {
     "data": {
      "text/html": [
       "<div>\n",
       "<style scoped>\n",
       "    .dataframe tbody tr th:only-of-type {\n",
       "        vertical-align: middle;\n",
       "    }\n",
       "\n",
       "    .dataframe tbody tr th {\n",
       "        vertical-align: top;\n",
       "    }\n",
       "\n",
       "    .dataframe thead th {\n",
       "        text-align: right;\n",
       "    }\n",
       "</style>\n",
       "<table border=\"1\" class=\"dataframe\">\n",
       "  <thead>\n",
       "    <tr style=\"text-align: right;\">\n",
       "      <th></th>\n",
       "      <th>uniq_id</th>\n",
       "      <th>crawl_timestamp</th>\n",
       "      <th>product_url</th>\n",
       "      <th>product_name</th>\n",
       "      <th>product_category_tree</th>\n",
       "      <th>pid</th>\n",
       "      <th>retail_price</th>\n",
       "      <th>discounted_price</th>\n",
       "      <th>image</th>\n",
       "      <th>is_FK_Advantage_product</th>\n",
       "      <th>description</th>\n",
       "      <th>product_rating</th>\n",
       "      <th>overall_rating</th>\n",
       "      <th>product_specifications</th>\n",
       "    </tr>\n",
       "  </thead>\n",
       "  <tbody>\n",
       "    <tr>\n",
       "      <th>0</th>\n",
       "      <td>True</td>\n",
       "      <td>True</td>\n",
       "      <td>True</td>\n",
       "      <td>True</td>\n",
       "      <td>True</td>\n",
       "      <td>True</td>\n",
       "      <td>True</td>\n",
       "      <td>True</td>\n",
       "      <td>True</td>\n",
       "      <td>True</td>\n",
       "      <td>True</td>\n",
       "      <td>True</td>\n",
       "      <td>True</td>\n",
       "      <td>True</td>\n",
       "    </tr>\n",
       "    <tr>\n",
       "      <th>1</th>\n",
       "      <td>True</td>\n",
       "      <td>True</td>\n",
       "      <td>True</td>\n",
       "      <td>True</td>\n",
       "      <td>True</td>\n",
       "      <td>True</td>\n",
       "      <td>True</td>\n",
       "      <td>True</td>\n",
       "      <td>True</td>\n",
       "      <td>True</td>\n",
       "      <td>True</td>\n",
       "      <td>True</td>\n",
       "      <td>True</td>\n",
       "      <td>True</td>\n",
       "    </tr>\n",
       "    <tr>\n",
       "      <th>2</th>\n",
       "      <td>True</td>\n",
       "      <td>True</td>\n",
       "      <td>True</td>\n",
       "      <td>True</td>\n",
       "      <td>True</td>\n",
       "      <td>True</td>\n",
       "      <td>True</td>\n",
       "      <td>True</td>\n",
       "      <td>True</td>\n",
       "      <td>True</td>\n",
       "      <td>True</td>\n",
       "      <td>True</td>\n",
       "      <td>True</td>\n",
       "      <td>True</td>\n",
       "    </tr>\n",
       "    <tr>\n",
       "      <th>3</th>\n",
       "      <td>True</td>\n",
       "      <td>True</td>\n",
       "      <td>True</td>\n",
       "      <td>True</td>\n",
       "      <td>True</td>\n",
       "      <td>True</td>\n",
       "      <td>True</td>\n",
       "      <td>True</td>\n",
       "      <td>True</td>\n",
       "      <td>True</td>\n",
       "      <td>True</td>\n",
       "      <td>True</td>\n",
       "      <td>True</td>\n",
       "      <td>True</td>\n",
       "    </tr>\n",
       "    <tr>\n",
       "      <th>4</th>\n",
       "      <td>True</td>\n",
       "      <td>True</td>\n",
       "      <td>True</td>\n",
       "      <td>True</td>\n",
       "      <td>True</td>\n",
       "      <td>True</td>\n",
       "      <td>True</td>\n",
       "      <td>True</td>\n",
       "      <td>True</td>\n",
       "      <td>True</td>\n",
       "      <td>True</td>\n",
       "      <td>True</td>\n",
       "      <td>True</td>\n",
       "      <td>True</td>\n",
       "    </tr>\n",
       "  </tbody>\n",
       "</table>\n",
       "</div>"
      ],
      "text/plain": [
       "   uniq_id  crawl_timestamp  product_url  product_name  product_category_tree  \\\n",
       "0     True             True         True          True                   True   \n",
       "1     True             True         True          True                   True   \n",
       "2     True             True         True          True                   True   \n",
       "3     True             True         True          True                   True   \n",
       "4     True             True         True          True                   True   \n",
       "\n",
       "    pid  retail_price  discounted_price  image  is_FK_Advantage_product  \\\n",
       "0  True          True              True   True                     True   \n",
       "1  True          True              True   True                     True   \n",
       "2  True          True              True   True                     True   \n",
       "3  True          True              True   True                     True   \n",
       "4  True          True              True   True                     True   \n",
       "\n",
       "   description  product_rating  overall_rating  product_specifications  \n",
       "0         True            True            True                    True  \n",
       "1         True            True            True                    True  \n",
       "2         True            True            True                    True  \n",
       "3         True            True            True                    True  \n",
       "4         True            True            True                    True  "
      ]
     },
     "execution_count": 17,
     "metadata": {},
     "output_type": "execute_result"
    }
   ],
   "source": [
    "flipkart_df.notnull().head()"
   ]
  },
  {
   "cell_type": "code",
   "execution_count": 18,
   "metadata": {
    "scrolled": true
   },
   "outputs": [
    {
     "name": "stdout",
     "output_type": "stream",
     "text": [
      "There are 20000 nos of unique values in uniq_id column out of 20000\n",
      "There are 371 nos of unique values in crawl_timestamp column out of 20000\n",
      "There are 20000 nos of unique values in product_url column out of 20000\n",
      "There are 12676 nos of unique values in product_name column out of 20000\n",
      "There are 6466 nos of unique values in product_category_tree column out of 20000\n",
      "There are 19998 nos of unique values in pid column out of 20000\n",
      "There are 2247 nos of unique values in retail_price column out of 20000\n",
      "There are 2448 nos of unique values in discounted_price column out of 20000\n",
      "There are 18589 nos of unique values in image column out of 20000\n",
      "There are 2 nos of unique values in is_FK_Advantage_product column out of 20000\n",
      "There are 17539 nos of unique values in description column out of 20000\n",
      "There are 36 nos of unique values in product_rating column out of 20000\n",
      "There are 36 nos of unique values in overall_rating column out of 20000\n",
      "There are 18825 nos of unique values in product_specifications column out of 20000\n"
     ]
    }
   ],
   "source": [
    "# Let us have a look at the uniqe values present in data\n",
    "cols = flipkart_df.columns\n",
    "def Unique_Values():\n",
    "    for i in np.arange(0,len(cols)):\n",
    "        print('There are {} nos of unique values in {} column out of {}'.format(flipkart_df[cols[i]].nunique(), cols[i], len(flipkart_df)))\n",
    "Unique_Values()"
   ]
  },
  {
   "cell_type": "markdown",
   "metadata": {},
   "source": [
    "#### I am performing column study one by one to observe the pattern of data and clean it if required"
   ]
  },
  {
   "cell_type": "markdown",
   "metadata": {},
   "source": [
    "# COLUMN 1"
   ]
  },
  {
   "cell_type": "code",
   "execution_count": 19,
   "metadata": {},
   "outputs": [
    {
     "data": {
      "text/plain": [
       "1.0"
      ]
     },
     "execution_count": 19,
     "metadata": {},
     "output_type": "execute_result"
    }
   ],
   "source": [
    "flipkart_df['uniq_id'].nunique()/len(flipkart_df)"
   ]
  },
  {
   "cell_type": "markdown",
   "metadata": {},
   "source": [
    "#### uniq_id -  there was no missing values of uniq_id"
   ]
  },
  {
   "cell_type": "markdown",
   "metadata": {},
   "source": [
    "# COLUMN 2"
   ]
  },
  {
   "cell_type": "code",
   "execution_count": 20,
   "metadata": {},
   "outputs": [
    {
     "data": {
      "text/plain": [
       "'2016-03-25 22:59:23 +0000'"
      ]
     },
     "execution_count": 20,
     "metadata": {},
     "output_type": "execute_result"
    }
   ],
   "source": [
    "flipkart_df['crawl_timestamp'][0] # Look at the first element of this column data\n",
    "# Let us convert this time stamp into year & month for analysis part as per our objective no 5"
   ]
  },
  {
   "cell_type": "code",
   "execution_count": 21,
   "metadata": {},
   "outputs": [],
   "source": [
    "#make this column into a datetime type for workability\n",
    "flipkart_df['crawl_timestamp'] = pd.to_datetime(flipkart_df['crawl_timestamp'])"
   ]
  },
  {
   "cell_type": "code",
   "execution_count": 22,
   "metadata": {},
   "outputs": [],
   "source": [
    "# Let us grab the year seperated by creating an another column & we will drop/utilize this timestamp later\n",
    "flipkart_df['sale_year'] = flipkart_df['crawl_timestamp'].apply(lambda x: x.year)"
   ]
  },
  {
   "cell_type": "code",
   "execution_count": 23,
   "metadata": {},
   "outputs": [],
   "source": [
    "# Let us grab the month seperated by creating an another column & we will drop/utilize this timestamp later\n",
    "flipkart_df['sale_month'] = flipkart_df['crawl_timestamp'].apply(lambda x: x.month)"
   ]
  },
  {
   "cell_type": "markdown",
   "metadata": {},
   "source": [
    "# COLUMN 4"
   ]
  },
  {
   "cell_type": "code",
   "execution_count": 24,
   "metadata": {
    "scrolled": true
   },
   "outputs": [
    {
     "data": {
      "text/plain": [
       "TheLostPuppy Back Cover for Apple iPad Air                       134\n",
       "TheLostPuppy Back Cover for Apple iPad Air 2                      95\n",
       "S4S Stylish Women's Push-up Bra                                   94\n",
       "Voylla Metal, Alloy Necklace                                      66\n",
       "WallDesign Small Vinyl Sticker                                    65\n",
       "HomeeHub Polyester Multicolor Self Design Eyelet Door Curtain     58\n",
       "DailyObjects Back Cover for Apple iPad 2/3/4                      52\n",
       "Nimya Solid Men's Polo Neck T-Shirt                               50\n",
       "S4S Comfortable Women's Full Coverage Bra                         45\n",
       "Grafion by Grafion - Comfort Feel Women's Full Coverage Bra       44\n",
       "Name: product_name, dtype: int64"
      ]
     },
     "execution_count": 24,
     "metadata": {},
     "output_type": "execute_result"
    }
   ],
   "source": [
    "flipkart_df[cols[3]].value_counts()[:10] "
   ]
  },
  {
   "cell_type": "markdown",
   "metadata": {},
   "source": [
    "#### These are the top 10 products sold from the observed data "
   ]
  },
  {
   "cell_type": "markdown",
   "metadata": {},
   "source": [
    "# COLUMN 5"
   ]
  },
  {
   "cell_type": "code",
   "execution_count": 25,
   "metadata": {},
   "outputs": [
    {
     "data": {
      "text/plain": [
       "'[\"Clothing >> Women\\'s Clothing >> Lingerie, Sleep & Swimwear >> Shorts >> Alisha Shorts >> Alisha Solid Women\\'s Cycling Shorts\"]'"
      ]
     },
     "execution_count": 25,
     "metadata": {},
     "output_type": "execute_result"
    }
   ],
   "source": [
    "flipkart_df['product_category_tree'][0]"
   ]
  },
  {
   "cell_type": "markdown",
   "metadata": {},
   "source": [
    "#### --> This column consist of categories followed by sub-categories. This will be splitted into sub-categories using split() command"
   ]
  },
  {
   "cell_type": "code",
   "execution_count": 26,
   "metadata": {},
   "outputs": [],
   "source": [
    "# Let us define the categories initially to prepare a mockup later upto 3 sub categories\n",
    "categories = ['Primary_Category', 'Secondary_Category', 'Tertiary_Category', 'Quaternary_Category']"
   ]
  },
  {
   "cell_type": "code",
   "execution_count": 27,
   "metadata": {},
   "outputs": [],
   "source": [
    "# Apply a loop for Categorical Splits & add the categories into the Dataframe\n",
    "def Categorcal_Splits():\n",
    "    for num in [0,1,2,3]:\n",
    "        if num == 0:\n",
    "            flipkart_df[categories[num]] = flipkart_df['product_category_tree'].apply(lambda x: x.split('>>')[num])\n",
    "        elif num == 1:\n",
    "            flipkart_df[categories[num]] = flipkart_df['product_category_tree'].apply(lambda x: x.split('>>')[num:num+1])\n",
    "        elif num == 2:\n",
    "            flipkart_df[categories[num]] = flipkart_df['product_category_tree'].apply(lambda x: x.split('>>')[num:num+1])\n",
    "        elif num == 3:\n",
    "            flipkart_df[categories[num]] = flipkart_df['product_category_tree'].apply(lambda x: x.split('>>')[num:num+1])\n",
    "Categorcal_Splits()"
   ]
  },
  {
   "cell_type": "code",
   "execution_count": 28,
   "metadata": {},
   "outputs": [
    {
     "data": {
      "text/html": [
       "<div>\n",
       "<style scoped>\n",
       "    .dataframe tbody tr th:only-of-type {\n",
       "        vertical-align: middle;\n",
       "    }\n",
       "\n",
       "    .dataframe tbody tr th {\n",
       "        vertical-align: top;\n",
       "    }\n",
       "\n",
       "    .dataframe thead th {\n",
       "        text-align: right;\n",
       "    }\n",
       "</style>\n",
       "<table border=\"1\" class=\"dataframe\">\n",
       "  <thead>\n",
       "    <tr style=\"text-align: right;\">\n",
       "      <th></th>\n",
       "      <th>uniq_id</th>\n",
       "      <th>crawl_timestamp</th>\n",
       "      <th>product_url</th>\n",
       "      <th>product_name</th>\n",
       "      <th>product_category_tree</th>\n",
       "      <th>pid</th>\n",
       "      <th>retail_price</th>\n",
       "      <th>discounted_price</th>\n",
       "      <th>image</th>\n",
       "      <th>is_FK_Advantage_product</th>\n",
       "      <th>description</th>\n",
       "      <th>product_rating</th>\n",
       "      <th>overall_rating</th>\n",
       "      <th>product_specifications</th>\n",
       "      <th>sale_year</th>\n",
       "      <th>sale_month</th>\n",
       "      <th>Primary_Category</th>\n",
       "      <th>Secondary_Category</th>\n",
       "      <th>Tertiary_Category</th>\n",
       "      <th>Quaternary_Category</th>\n",
       "    </tr>\n",
       "  </thead>\n",
       "  <tbody>\n",
       "    <tr>\n",
       "      <th>0</th>\n",
       "      <td>c2d766ca982eca8304150849735ffef9</td>\n",
       "      <td>2016-03-25 22:59:23+00:00</td>\n",
       "      <td>http://www.flipkart.com/alisha-solid-women-s-c...</td>\n",
       "      <td>Alisha Solid Women's Cycling Shorts</td>\n",
       "      <td>[\"Clothing &gt;&gt; Women's Clothing &gt;&gt; Lingerie, Sl...</td>\n",
       "      <td>SRTEH2FF9KEDEFGF</td>\n",
       "      <td>999.0</td>\n",
       "      <td>379.0</td>\n",
       "      <td>[\"http://img5a.flixcart.com/image/short/u/4/a/...</td>\n",
       "      <td>False</td>\n",
       "      <td>Key Features of Alisha Solid Women's Cycling S...</td>\n",
       "      <td>No rating available</td>\n",
       "      <td>No rating available</td>\n",
       "      <td>{\"product_specification\"=&gt;[{\"key\"=&gt;\"Number of ...</td>\n",
       "      <td>2016</td>\n",
       "      <td>3</td>\n",
       "      <td>[\"Clothing</td>\n",
       "      <td>[ Women's Clothing ]</td>\n",
       "      <td>[ Lingerie, Sleep &amp; Swimwear ]</td>\n",
       "      <td>[ Shorts ]</td>\n",
       "    </tr>\n",
       "    <tr>\n",
       "      <th>1</th>\n",
       "      <td>7f7036a6d550aaa89d34c77bd39a5e48</td>\n",
       "      <td>2016-03-25 22:59:23+00:00</td>\n",
       "      <td>http://www.flipkart.com/fabhomedecor-fabric-do...</td>\n",
       "      <td>FabHomeDecor Fabric Double Sofa Bed</td>\n",
       "      <td>[\"Furniture &gt;&gt; Living Room Furniture &gt;&gt; Sofa B...</td>\n",
       "      <td>SBEEH3QGU7MFYJFY</td>\n",
       "      <td>32157.0</td>\n",
       "      <td>22646.0</td>\n",
       "      <td>[\"http://img6a.flixcart.com/image/sofa-bed/j/f...</td>\n",
       "      <td>False</td>\n",
       "      <td>FabHomeDecor Fabric Double Sofa Bed (Finish Co...</td>\n",
       "      <td>No rating available</td>\n",
       "      <td>No rating available</td>\n",
       "      <td>{\"product_specification\"=&gt;[{\"key\"=&gt;\"Installati...</td>\n",
       "      <td>2016</td>\n",
       "      <td>3</td>\n",
       "      <td>[\"Furniture</td>\n",
       "      <td>[ Living Room Furniture ]</td>\n",
       "      <td>[ Sofa Beds &amp; Futons ]</td>\n",
       "      <td>[ FabHomeDecor Fabric Double Sofa Bed (Finish ...</td>\n",
       "    </tr>\n",
       "    <tr>\n",
       "      <th>2</th>\n",
       "      <td>f449ec65dcbc041b6ae5e6a32717d01b</td>\n",
       "      <td>2016-03-25 22:59:23+00:00</td>\n",
       "      <td>http://www.flipkart.com/aw-bellies/p/itmeh4grg...</td>\n",
       "      <td>AW Bellies</td>\n",
       "      <td>[\"Footwear &gt;&gt; Women's Footwear &gt;&gt; Ballerinas &gt;...</td>\n",
       "      <td>SHOEH4GRSUBJGZXE</td>\n",
       "      <td>999.0</td>\n",
       "      <td>499.0</td>\n",
       "      <td>[\"http://img5a.flixcart.com/image/shoe/7/z/z/r...</td>\n",
       "      <td>False</td>\n",
       "      <td>Key Features of AW Bellies Sandals Wedges Heel...</td>\n",
       "      <td>No rating available</td>\n",
       "      <td>No rating available</td>\n",
       "      <td>{\"product_specification\"=&gt;[{\"key\"=&gt;\"Ideal For\"...</td>\n",
       "      <td>2016</td>\n",
       "      <td>3</td>\n",
       "      <td>[\"Footwear</td>\n",
       "      <td>[ Women's Footwear ]</td>\n",
       "      <td>[ Ballerinas ]</td>\n",
       "      <td>[ AW Bellies\"]]</td>\n",
       "    </tr>\n",
       "  </tbody>\n",
       "</table>\n",
       "</div>"
      ],
      "text/plain": [
       "                            uniq_id           crawl_timestamp  \\\n",
       "0  c2d766ca982eca8304150849735ffef9 2016-03-25 22:59:23+00:00   \n",
       "1  7f7036a6d550aaa89d34c77bd39a5e48 2016-03-25 22:59:23+00:00   \n",
       "2  f449ec65dcbc041b6ae5e6a32717d01b 2016-03-25 22:59:23+00:00   \n",
       "\n",
       "                                         product_url  \\\n",
       "0  http://www.flipkart.com/alisha-solid-women-s-c...   \n",
       "1  http://www.flipkart.com/fabhomedecor-fabric-do...   \n",
       "2  http://www.flipkart.com/aw-bellies/p/itmeh4grg...   \n",
       "\n",
       "                          product_name  \\\n",
       "0  Alisha Solid Women's Cycling Shorts   \n",
       "1  FabHomeDecor Fabric Double Sofa Bed   \n",
       "2                           AW Bellies   \n",
       "\n",
       "                               product_category_tree               pid  \\\n",
       "0  [\"Clothing >> Women's Clothing >> Lingerie, Sl...  SRTEH2FF9KEDEFGF   \n",
       "1  [\"Furniture >> Living Room Furniture >> Sofa B...  SBEEH3QGU7MFYJFY   \n",
       "2  [\"Footwear >> Women's Footwear >> Ballerinas >...  SHOEH4GRSUBJGZXE   \n",
       "\n",
       "   retail_price  discounted_price  \\\n",
       "0         999.0             379.0   \n",
       "1       32157.0           22646.0   \n",
       "2         999.0             499.0   \n",
       "\n",
       "                                               image  is_FK_Advantage_product  \\\n",
       "0  [\"http://img5a.flixcart.com/image/short/u/4/a/...                    False   \n",
       "1  [\"http://img6a.flixcart.com/image/sofa-bed/j/f...                    False   \n",
       "2  [\"http://img5a.flixcart.com/image/shoe/7/z/z/r...                    False   \n",
       "\n",
       "                                         description       product_rating  \\\n",
       "0  Key Features of Alisha Solid Women's Cycling S...  No rating available   \n",
       "1  FabHomeDecor Fabric Double Sofa Bed (Finish Co...  No rating available   \n",
       "2  Key Features of AW Bellies Sandals Wedges Heel...  No rating available   \n",
       "\n",
       "        overall_rating                             product_specifications  \\\n",
       "0  No rating available  {\"product_specification\"=>[{\"key\"=>\"Number of ...   \n",
       "1  No rating available  {\"product_specification\"=>[{\"key\"=>\"Installati...   \n",
       "2  No rating available  {\"product_specification\"=>[{\"key\"=>\"Ideal For\"...   \n",
       "\n",
       "   sale_year  sale_month Primary_Category         Secondary_Category  \\\n",
       "0       2016           3      [\"Clothing        [ Women's Clothing ]   \n",
       "1       2016           3     [\"Furniture   [ Living Room Furniture ]   \n",
       "2       2016           3      [\"Footwear        [ Women's Footwear ]   \n",
       "\n",
       "                Tertiary_Category  \\\n",
       "0  [ Lingerie, Sleep & Swimwear ]   \n",
       "1          [ Sofa Beds & Futons ]   \n",
       "2                  [ Ballerinas ]   \n",
       "\n",
       "                                 Quaternary_Category  \n",
       "0                                         [ Shorts ]  \n",
       "1  [ FabHomeDecor Fabric Double Sofa Bed (Finish ...  \n",
       "2                                    [ AW Bellies\"]]  "
      ]
     },
     "execution_count": 28,
     "metadata": {},
     "output_type": "execute_result"
    }
   ],
   "source": [
    "flipkart_df.head(3)"
   ]
  },
  {
   "cell_type": "code",
   "execution_count": 29,
   "metadata": {},
   "outputs": [],
   "source": [
    "# Let us clean the new category column data more seperately by defining a function\n",
    "flipkart_df['Primary_Category'] = flipkart_df['Primary_Category'].apply(lambda x: x.split('[\"')[1])"
   ]
  },
  {
   "cell_type": "code",
   "execution_count": 30,
   "metadata": {},
   "outputs": [
    {
     "data": {
      "text/plain": [
       "0                                            Clothing \n",
       "1                                           Furniture \n",
       "2                                            Footwear \n",
       "3                                            Clothing \n",
       "4                                        Pet Supplies \n",
       "5    Eternal Gandhi Super Series Crystal Paper Weig...\n",
       "6                                            Clothing \n",
       "7                                           Furniture \n",
       "8                                            Footwear \n",
       "9                                            Clothing \n",
       "Name: Primary_Category, dtype: object"
      ]
     },
     "execution_count": 30,
     "metadata": {},
     "output_type": "execute_result"
    }
   ],
   "source": [
    "# We can have a clean look at the primary_category now\n",
    "flipkart_df['Primary_Category'][:10]"
   ]
  },
  {
   "cell_type": "code",
   "execution_count": 31,
   "metadata": {},
   "outputs": [
    {
     "data": {
      "text/html": [
       "<div>\n",
       "<style scoped>\n",
       "    .dataframe tbody tr th:only-of-type {\n",
       "        vertical-align: middle;\n",
       "    }\n",
       "\n",
       "    .dataframe tbody tr th {\n",
       "        vertical-align: top;\n",
       "    }\n",
       "\n",
       "    .dataframe thead th {\n",
       "        text-align: right;\n",
       "    }\n",
       "</style>\n",
       "<table border=\"1\" class=\"dataframe\">\n",
       "  <thead>\n",
       "    <tr style=\"text-align: right;\">\n",
       "      <th></th>\n",
       "      <th>uniq_id</th>\n",
       "      <th>crawl_timestamp</th>\n",
       "      <th>product_url</th>\n",
       "      <th>product_name</th>\n",
       "      <th>product_category_tree</th>\n",
       "      <th>pid</th>\n",
       "      <th>retail_price</th>\n",
       "      <th>discounted_price</th>\n",
       "      <th>image</th>\n",
       "      <th>is_FK_Advantage_product</th>\n",
       "      <th>description</th>\n",
       "      <th>product_rating</th>\n",
       "      <th>overall_rating</th>\n",
       "      <th>product_specifications</th>\n",
       "      <th>sale_year</th>\n",
       "      <th>sale_month</th>\n",
       "      <th>Primary_Category</th>\n",
       "      <th>Secondary_Category</th>\n",
       "      <th>Tertiary_Category</th>\n",
       "      <th>Quaternary_Category</th>\n",
       "    </tr>\n",
       "  </thead>\n",
       "  <tbody>\n",
       "    <tr>\n",
       "      <th>0</th>\n",
       "      <td>c2d766ca982eca8304150849735ffef9</td>\n",
       "      <td>2016-03-25 22:59:23+00:00</td>\n",
       "      <td>http://www.flipkart.com/alisha-solid-women-s-c...</td>\n",
       "      <td>Alisha Solid Women's Cycling Shorts</td>\n",
       "      <td>[\"Clothing &gt;&gt; Women's Clothing &gt;&gt; Lingerie, Sl...</td>\n",
       "      <td>SRTEH2FF9KEDEFGF</td>\n",
       "      <td>999.0</td>\n",
       "      <td>379.0</td>\n",
       "      <td>[\"http://img5a.flixcart.com/image/short/u/4/a/...</td>\n",
       "      <td>False</td>\n",
       "      <td>Key Features of Alisha Solid Women's Cycling S...</td>\n",
       "      <td>No rating available</td>\n",
       "      <td>No rating available</td>\n",
       "      <td>{\"product_specification\"=&gt;[{\"key\"=&gt;\"Number of ...</td>\n",
       "      <td>2016</td>\n",
       "      <td>3</td>\n",
       "      <td>Clothing</td>\n",
       "      <td>[ Women's Clothing ]</td>\n",
       "      <td>[ Lingerie, Sleep &amp; Swimwear ]</td>\n",
       "      <td>[ Shorts ]</td>\n",
       "    </tr>\n",
       "    <tr>\n",
       "      <th>1</th>\n",
       "      <td>7f7036a6d550aaa89d34c77bd39a5e48</td>\n",
       "      <td>2016-03-25 22:59:23+00:00</td>\n",
       "      <td>http://www.flipkart.com/fabhomedecor-fabric-do...</td>\n",
       "      <td>FabHomeDecor Fabric Double Sofa Bed</td>\n",
       "      <td>[\"Furniture &gt;&gt; Living Room Furniture &gt;&gt; Sofa B...</td>\n",
       "      <td>SBEEH3QGU7MFYJFY</td>\n",
       "      <td>32157.0</td>\n",
       "      <td>22646.0</td>\n",
       "      <td>[\"http://img6a.flixcart.com/image/sofa-bed/j/f...</td>\n",
       "      <td>False</td>\n",
       "      <td>FabHomeDecor Fabric Double Sofa Bed (Finish Co...</td>\n",
       "      <td>No rating available</td>\n",
       "      <td>No rating available</td>\n",
       "      <td>{\"product_specification\"=&gt;[{\"key\"=&gt;\"Installati...</td>\n",
       "      <td>2016</td>\n",
       "      <td>3</td>\n",
       "      <td>Furniture</td>\n",
       "      <td>[ Living Room Furniture ]</td>\n",
       "      <td>[ Sofa Beds &amp; Futons ]</td>\n",
       "      <td>[ FabHomeDecor Fabric Double Sofa Bed (Finish ...</td>\n",
       "    </tr>\n",
       "    <tr>\n",
       "      <th>2</th>\n",
       "      <td>f449ec65dcbc041b6ae5e6a32717d01b</td>\n",
       "      <td>2016-03-25 22:59:23+00:00</td>\n",
       "      <td>http://www.flipkart.com/aw-bellies/p/itmeh4grg...</td>\n",
       "      <td>AW Bellies</td>\n",
       "      <td>[\"Footwear &gt;&gt; Women's Footwear &gt;&gt; Ballerinas &gt;...</td>\n",
       "      <td>SHOEH4GRSUBJGZXE</td>\n",
       "      <td>999.0</td>\n",
       "      <td>499.0</td>\n",
       "      <td>[\"http://img5a.flixcart.com/image/shoe/7/z/z/r...</td>\n",
       "      <td>False</td>\n",
       "      <td>Key Features of AW Bellies Sandals Wedges Heel...</td>\n",
       "      <td>No rating available</td>\n",
       "      <td>No rating available</td>\n",
       "      <td>{\"product_specification\"=&gt;[{\"key\"=&gt;\"Ideal For\"...</td>\n",
       "      <td>2016</td>\n",
       "      <td>3</td>\n",
       "      <td>Footwear</td>\n",
       "      <td>[ Women's Footwear ]</td>\n",
       "      <td>[ Ballerinas ]</td>\n",
       "      <td>[ AW Bellies\"]]</td>\n",
       "    </tr>\n",
       "    <tr>\n",
       "      <th>3</th>\n",
       "      <td>0973b37acd0c664e3de26e97e5571454</td>\n",
       "      <td>2016-03-25 22:59:23+00:00</td>\n",
       "      <td>http://www.flipkart.com/alisha-solid-women-s-c...</td>\n",
       "      <td>Alisha Solid Women's Cycling Shorts</td>\n",
       "      <td>[\"Clothing &gt;&gt; Women's Clothing &gt;&gt; Lingerie, Sl...</td>\n",
       "      <td>SRTEH2F6HUZMQ6SJ</td>\n",
       "      <td>699.0</td>\n",
       "      <td>267.0</td>\n",
       "      <td>[\"http://img5a.flixcart.com/image/short/6/2/h/...</td>\n",
       "      <td>False</td>\n",
       "      <td>Key Features of Alisha Solid Women's Cycling S...</td>\n",
       "      <td>No rating available</td>\n",
       "      <td>No rating available</td>\n",
       "      <td>{\"product_specification\"=&gt;[{\"key\"=&gt;\"Number of ...</td>\n",
       "      <td>2016</td>\n",
       "      <td>3</td>\n",
       "      <td>Clothing</td>\n",
       "      <td>[ Women's Clothing ]</td>\n",
       "      <td>[ Lingerie, Sleep &amp; Swimwear ]</td>\n",
       "      <td>[ Shorts ]</td>\n",
       "    </tr>\n",
       "    <tr>\n",
       "      <th>4</th>\n",
       "      <td>bc940ea42ee6bef5ac7cea3fb5cfbee7</td>\n",
       "      <td>2016-03-25 22:59:23+00:00</td>\n",
       "      <td>http://www.flipkart.com/sicons-all-purpose-arn...</td>\n",
       "      <td>Sicons All Purpose Arnica Dog Shampoo</td>\n",
       "      <td>[\"Pet Supplies &gt;&gt; Grooming &gt;&gt; Skin &amp; Coat Care...</td>\n",
       "      <td>PSOEH3ZYDMSYARJ5</td>\n",
       "      <td>220.0</td>\n",
       "      <td>210.0</td>\n",
       "      <td>[\"http://img5a.flixcart.com/image/pet-shampoo/...</td>\n",
       "      <td>False</td>\n",
       "      <td>Specifications of Sicons All Purpose Arnica Do...</td>\n",
       "      <td>No rating available</td>\n",
       "      <td>No rating available</td>\n",
       "      <td>{\"product_specification\"=&gt;[{\"key\"=&gt;\"Pet Type\",...</td>\n",
       "      <td>2016</td>\n",
       "      <td>3</td>\n",
       "      <td>Pet Supplies</td>\n",
       "      <td>[ Grooming ]</td>\n",
       "      <td>[ Skin &amp; Coat Care ]</td>\n",
       "      <td>[ Shampoo ]</td>\n",
       "    </tr>\n",
       "  </tbody>\n",
       "</table>\n",
       "</div>"
      ],
      "text/plain": [
       "                            uniq_id           crawl_timestamp  \\\n",
       "0  c2d766ca982eca8304150849735ffef9 2016-03-25 22:59:23+00:00   \n",
       "1  7f7036a6d550aaa89d34c77bd39a5e48 2016-03-25 22:59:23+00:00   \n",
       "2  f449ec65dcbc041b6ae5e6a32717d01b 2016-03-25 22:59:23+00:00   \n",
       "3  0973b37acd0c664e3de26e97e5571454 2016-03-25 22:59:23+00:00   \n",
       "4  bc940ea42ee6bef5ac7cea3fb5cfbee7 2016-03-25 22:59:23+00:00   \n",
       "\n",
       "                                         product_url  \\\n",
       "0  http://www.flipkart.com/alisha-solid-women-s-c...   \n",
       "1  http://www.flipkart.com/fabhomedecor-fabric-do...   \n",
       "2  http://www.flipkart.com/aw-bellies/p/itmeh4grg...   \n",
       "3  http://www.flipkart.com/alisha-solid-women-s-c...   \n",
       "4  http://www.flipkart.com/sicons-all-purpose-arn...   \n",
       "\n",
       "                            product_name  \\\n",
       "0    Alisha Solid Women's Cycling Shorts   \n",
       "1    FabHomeDecor Fabric Double Sofa Bed   \n",
       "2                             AW Bellies   \n",
       "3    Alisha Solid Women's Cycling Shorts   \n",
       "4  Sicons All Purpose Arnica Dog Shampoo   \n",
       "\n",
       "                               product_category_tree               pid  \\\n",
       "0  [\"Clothing >> Women's Clothing >> Lingerie, Sl...  SRTEH2FF9KEDEFGF   \n",
       "1  [\"Furniture >> Living Room Furniture >> Sofa B...  SBEEH3QGU7MFYJFY   \n",
       "2  [\"Footwear >> Women's Footwear >> Ballerinas >...  SHOEH4GRSUBJGZXE   \n",
       "3  [\"Clothing >> Women's Clothing >> Lingerie, Sl...  SRTEH2F6HUZMQ6SJ   \n",
       "4  [\"Pet Supplies >> Grooming >> Skin & Coat Care...  PSOEH3ZYDMSYARJ5   \n",
       "\n",
       "   retail_price  discounted_price  \\\n",
       "0         999.0             379.0   \n",
       "1       32157.0           22646.0   \n",
       "2         999.0             499.0   \n",
       "3         699.0             267.0   \n",
       "4         220.0             210.0   \n",
       "\n",
       "                                               image  is_FK_Advantage_product  \\\n",
       "0  [\"http://img5a.flixcart.com/image/short/u/4/a/...                    False   \n",
       "1  [\"http://img6a.flixcart.com/image/sofa-bed/j/f...                    False   \n",
       "2  [\"http://img5a.flixcart.com/image/shoe/7/z/z/r...                    False   \n",
       "3  [\"http://img5a.flixcart.com/image/short/6/2/h/...                    False   \n",
       "4  [\"http://img5a.flixcart.com/image/pet-shampoo/...                    False   \n",
       "\n",
       "                                         description       product_rating  \\\n",
       "0  Key Features of Alisha Solid Women's Cycling S...  No rating available   \n",
       "1  FabHomeDecor Fabric Double Sofa Bed (Finish Co...  No rating available   \n",
       "2  Key Features of AW Bellies Sandals Wedges Heel...  No rating available   \n",
       "3  Key Features of Alisha Solid Women's Cycling S...  No rating available   \n",
       "4  Specifications of Sicons All Purpose Arnica Do...  No rating available   \n",
       "\n",
       "        overall_rating                             product_specifications  \\\n",
       "0  No rating available  {\"product_specification\"=>[{\"key\"=>\"Number of ...   \n",
       "1  No rating available  {\"product_specification\"=>[{\"key\"=>\"Installati...   \n",
       "2  No rating available  {\"product_specification\"=>[{\"key\"=>\"Ideal For\"...   \n",
       "3  No rating available  {\"product_specification\"=>[{\"key\"=>\"Number of ...   \n",
       "4  No rating available  {\"product_specification\"=>[{\"key\"=>\"Pet Type\",...   \n",
       "\n",
       "   sale_year  sale_month Primary_Category         Secondary_Category  \\\n",
       "0       2016           3        Clothing        [ Women's Clothing ]   \n",
       "1       2016           3       Furniture   [ Living Room Furniture ]   \n",
       "2       2016           3        Footwear        [ Women's Footwear ]   \n",
       "3       2016           3        Clothing        [ Women's Clothing ]   \n",
       "4       2016           3    Pet Supplies                [ Grooming ]   \n",
       "\n",
       "                Tertiary_Category  \\\n",
       "0  [ Lingerie, Sleep & Swimwear ]   \n",
       "1          [ Sofa Beds & Futons ]   \n",
       "2                  [ Ballerinas ]   \n",
       "3  [ Lingerie, Sleep & Swimwear ]   \n",
       "4            [ Skin & Coat Care ]   \n",
       "\n",
       "                                 Quaternary_Category  \n",
       "0                                         [ Shorts ]  \n",
       "1  [ FabHomeDecor Fabric Double Sofa Bed (Finish ...  \n",
       "2                                    [ AW Bellies\"]]  \n",
       "3                                         [ Shorts ]  \n",
       "4                                        [ Shampoo ]  "
      ]
     },
     "execution_count": 31,
     "metadata": {},
     "output_type": "execute_result"
    }
   ],
   "source": [
    "flipkart_df.head(5)"
   ]
  },
  {
   "cell_type": "code",
   "execution_count": 32,
   "metadata": {},
   "outputs": [],
   "source": [
    "for i in [1,2,3]:\n",
    "    flipkart_df[categories[i]] = flipkart_df[categories[i]].apply(lambda x: str(x))\n",
    "    flipkart_df[categories[i]] = flipkart_df[categories[i]].apply(lambda x: x[2:-2])"
   ]
  },
  {
   "cell_type": "code",
   "execution_count": 33,
   "metadata": {},
   "outputs": [
    {
     "data": {
      "text/html": [
       "<div>\n",
       "<style scoped>\n",
       "    .dataframe tbody tr th:only-of-type {\n",
       "        vertical-align: middle;\n",
       "    }\n",
       "\n",
       "    .dataframe tbody tr th {\n",
       "        vertical-align: top;\n",
       "    }\n",
       "\n",
       "    .dataframe thead th {\n",
       "        text-align: right;\n",
       "    }\n",
       "</style>\n",
       "<table border=\"1\" class=\"dataframe\">\n",
       "  <thead>\n",
       "    <tr style=\"text-align: right;\">\n",
       "      <th></th>\n",
       "      <th>uniq_id</th>\n",
       "      <th>crawl_timestamp</th>\n",
       "      <th>product_url</th>\n",
       "      <th>product_name</th>\n",
       "      <th>product_category_tree</th>\n",
       "      <th>pid</th>\n",
       "      <th>retail_price</th>\n",
       "      <th>discounted_price</th>\n",
       "      <th>image</th>\n",
       "      <th>is_FK_Advantage_product</th>\n",
       "      <th>description</th>\n",
       "      <th>product_rating</th>\n",
       "      <th>overall_rating</th>\n",
       "      <th>product_specifications</th>\n",
       "      <th>sale_year</th>\n",
       "      <th>sale_month</th>\n",
       "      <th>Primary_Category</th>\n",
       "      <th>Secondary_Category</th>\n",
       "      <th>Tertiary_Category</th>\n",
       "      <th>Quaternary_Category</th>\n",
       "    </tr>\n",
       "  </thead>\n",
       "  <tbody>\n",
       "    <tr>\n",
       "      <th>0</th>\n",
       "      <td>c2d766ca982eca8304150849735ffef9</td>\n",
       "      <td>2016-03-25 22:59:23+00:00</td>\n",
       "      <td>http://www.flipkart.com/alisha-solid-women-s-c...</td>\n",
       "      <td>Alisha Solid Women's Cycling Shorts</td>\n",
       "      <td>[\"Clothing &gt;&gt; Women's Clothing &gt;&gt; Lingerie, Sl...</td>\n",
       "      <td>SRTEH2FF9KEDEFGF</td>\n",
       "      <td>999.0</td>\n",
       "      <td>379.0</td>\n",
       "      <td>[\"http://img5a.flixcart.com/image/short/u/4/a/...</td>\n",
       "      <td>False</td>\n",
       "      <td>Key Features of Alisha Solid Women's Cycling S...</td>\n",
       "      <td>No rating available</td>\n",
       "      <td>No rating available</td>\n",
       "      <td>{\"product_specification\"=&gt;[{\"key\"=&gt;\"Number of ...</td>\n",
       "      <td>2016</td>\n",
       "      <td>3</td>\n",
       "      <td>Clothing</td>\n",
       "      <td>Women's Clothing</td>\n",
       "      <td>Lingerie, Sleep &amp; Swimwear</td>\n",
       "      <td>Shorts</td>\n",
       "    </tr>\n",
       "    <tr>\n",
       "      <th>1</th>\n",
       "      <td>7f7036a6d550aaa89d34c77bd39a5e48</td>\n",
       "      <td>2016-03-25 22:59:23+00:00</td>\n",
       "      <td>http://www.flipkart.com/fabhomedecor-fabric-do...</td>\n",
       "      <td>FabHomeDecor Fabric Double Sofa Bed</td>\n",
       "      <td>[\"Furniture &gt;&gt; Living Room Furniture &gt;&gt; Sofa B...</td>\n",
       "      <td>SBEEH3QGU7MFYJFY</td>\n",
       "      <td>32157.0</td>\n",
       "      <td>22646.0</td>\n",
       "      <td>[\"http://img6a.flixcart.com/image/sofa-bed/j/f...</td>\n",
       "      <td>False</td>\n",
       "      <td>FabHomeDecor Fabric Double Sofa Bed (Finish Co...</td>\n",
       "      <td>No rating available</td>\n",
       "      <td>No rating available</td>\n",
       "      <td>{\"product_specification\"=&gt;[{\"key\"=&gt;\"Installati...</td>\n",
       "      <td>2016</td>\n",
       "      <td>3</td>\n",
       "      <td>Furniture</td>\n",
       "      <td>Living Room Furniture</td>\n",
       "      <td>Sofa Beds &amp; Futons</td>\n",
       "      <td>FabHomeDecor Fabric Double Sofa Bed (Finish C...</td>\n",
       "    </tr>\n",
       "    <tr>\n",
       "      <th>2</th>\n",
       "      <td>f449ec65dcbc041b6ae5e6a32717d01b</td>\n",
       "      <td>2016-03-25 22:59:23+00:00</td>\n",
       "      <td>http://www.flipkart.com/aw-bellies/p/itmeh4grg...</td>\n",
       "      <td>AW Bellies</td>\n",
       "      <td>[\"Footwear &gt;&gt; Women's Footwear &gt;&gt; Ballerinas &gt;...</td>\n",
       "      <td>SHOEH4GRSUBJGZXE</td>\n",
       "      <td>999.0</td>\n",
       "      <td>499.0</td>\n",
       "      <td>[\"http://img5a.flixcart.com/image/shoe/7/z/z/r...</td>\n",
       "      <td>False</td>\n",
       "      <td>Key Features of AW Bellies Sandals Wedges Heel...</td>\n",
       "      <td>No rating available</td>\n",
       "      <td>No rating available</td>\n",
       "      <td>{\"product_specification\"=&gt;[{\"key\"=&gt;\"Ideal For\"...</td>\n",
       "      <td>2016</td>\n",
       "      <td>3</td>\n",
       "      <td>Footwear</td>\n",
       "      <td>Women's Footwear</td>\n",
       "      <td>Ballerinas</td>\n",
       "      <td>AW Bellies\"]</td>\n",
       "    </tr>\n",
       "    <tr>\n",
       "      <th>3</th>\n",
       "      <td>0973b37acd0c664e3de26e97e5571454</td>\n",
       "      <td>2016-03-25 22:59:23+00:00</td>\n",
       "      <td>http://www.flipkart.com/alisha-solid-women-s-c...</td>\n",
       "      <td>Alisha Solid Women's Cycling Shorts</td>\n",
       "      <td>[\"Clothing &gt;&gt; Women's Clothing &gt;&gt; Lingerie, Sl...</td>\n",
       "      <td>SRTEH2F6HUZMQ6SJ</td>\n",
       "      <td>699.0</td>\n",
       "      <td>267.0</td>\n",
       "      <td>[\"http://img5a.flixcart.com/image/short/6/2/h/...</td>\n",
       "      <td>False</td>\n",
       "      <td>Key Features of Alisha Solid Women's Cycling S...</td>\n",
       "      <td>No rating available</td>\n",
       "      <td>No rating available</td>\n",
       "      <td>{\"product_specification\"=&gt;[{\"key\"=&gt;\"Number of ...</td>\n",
       "      <td>2016</td>\n",
       "      <td>3</td>\n",
       "      <td>Clothing</td>\n",
       "      <td>Women's Clothing</td>\n",
       "      <td>Lingerie, Sleep &amp; Swimwear</td>\n",
       "      <td>Shorts</td>\n",
       "    </tr>\n",
       "    <tr>\n",
       "      <th>4</th>\n",
       "      <td>bc940ea42ee6bef5ac7cea3fb5cfbee7</td>\n",
       "      <td>2016-03-25 22:59:23+00:00</td>\n",
       "      <td>http://www.flipkart.com/sicons-all-purpose-arn...</td>\n",
       "      <td>Sicons All Purpose Arnica Dog Shampoo</td>\n",
       "      <td>[\"Pet Supplies &gt;&gt; Grooming &gt;&gt; Skin &amp; Coat Care...</td>\n",
       "      <td>PSOEH3ZYDMSYARJ5</td>\n",
       "      <td>220.0</td>\n",
       "      <td>210.0</td>\n",
       "      <td>[\"http://img5a.flixcart.com/image/pet-shampoo/...</td>\n",
       "      <td>False</td>\n",
       "      <td>Specifications of Sicons All Purpose Arnica Do...</td>\n",
       "      <td>No rating available</td>\n",
       "      <td>No rating available</td>\n",
       "      <td>{\"product_specification\"=&gt;[{\"key\"=&gt;\"Pet Type\",...</td>\n",
       "      <td>2016</td>\n",
       "      <td>3</td>\n",
       "      <td>Pet Supplies</td>\n",
       "      <td>Grooming</td>\n",
       "      <td>Skin &amp; Coat Care</td>\n",
       "      <td>Shampoo</td>\n",
       "    </tr>\n",
       "  </tbody>\n",
       "</table>\n",
       "</div>"
      ],
      "text/plain": [
       "                            uniq_id           crawl_timestamp  \\\n",
       "0  c2d766ca982eca8304150849735ffef9 2016-03-25 22:59:23+00:00   \n",
       "1  7f7036a6d550aaa89d34c77bd39a5e48 2016-03-25 22:59:23+00:00   \n",
       "2  f449ec65dcbc041b6ae5e6a32717d01b 2016-03-25 22:59:23+00:00   \n",
       "3  0973b37acd0c664e3de26e97e5571454 2016-03-25 22:59:23+00:00   \n",
       "4  bc940ea42ee6bef5ac7cea3fb5cfbee7 2016-03-25 22:59:23+00:00   \n",
       "\n",
       "                                         product_url  \\\n",
       "0  http://www.flipkart.com/alisha-solid-women-s-c...   \n",
       "1  http://www.flipkart.com/fabhomedecor-fabric-do...   \n",
       "2  http://www.flipkart.com/aw-bellies/p/itmeh4grg...   \n",
       "3  http://www.flipkart.com/alisha-solid-women-s-c...   \n",
       "4  http://www.flipkart.com/sicons-all-purpose-arn...   \n",
       "\n",
       "                            product_name  \\\n",
       "0    Alisha Solid Women's Cycling Shorts   \n",
       "1    FabHomeDecor Fabric Double Sofa Bed   \n",
       "2                             AW Bellies   \n",
       "3    Alisha Solid Women's Cycling Shorts   \n",
       "4  Sicons All Purpose Arnica Dog Shampoo   \n",
       "\n",
       "                               product_category_tree               pid  \\\n",
       "0  [\"Clothing >> Women's Clothing >> Lingerie, Sl...  SRTEH2FF9KEDEFGF   \n",
       "1  [\"Furniture >> Living Room Furniture >> Sofa B...  SBEEH3QGU7MFYJFY   \n",
       "2  [\"Footwear >> Women's Footwear >> Ballerinas >...  SHOEH4GRSUBJGZXE   \n",
       "3  [\"Clothing >> Women's Clothing >> Lingerie, Sl...  SRTEH2F6HUZMQ6SJ   \n",
       "4  [\"Pet Supplies >> Grooming >> Skin & Coat Care...  PSOEH3ZYDMSYARJ5   \n",
       "\n",
       "   retail_price  discounted_price  \\\n",
       "0         999.0             379.0   \n",
       "1       32157.0           22646.0   \n",
       "2         999.0             499.0   \n",
       "3         699.0             267.0   \n",
       "4         220.0             210.0   \n",
       "\n",
       "                                               image  is_FK_Advantage_product  \\\n",
       "0  [\"http://img5a.flixcart.com/image/short/u/4/a/...                    False   \n",
       "1  [\"http://img6a.flixcart.com/image/sofa-bed/j/f...                    False   \n",
       "2  [\"http://img5a.flixcart.com/image/shoe/7/z/z/r...                    False   \n",
       "3  [\"http://img5a.flixcart.com/image/short/6/2/h/...                    False   \n",
       "4  [\"http://img5a.flixcart.com/image/pet-shampoo/...                    False   \n",
       "\n",
       "                                         description       product_rating  \\\n",
       "0  Key Features of Alisha Solid Women's Cycling S...  No rating available   \n",
       "1  FabHomeDecor Fabric Double Sofa Bed (Finish Co...  No rating available   \n",
       "2  Key Features of AW Bellies Sandals Wedges Heel...  No rating available   \n",
       "3  Key Features of Alisha Solid Women's Cycling S...  No rating available   \n",
       "4  Specifications of Sicons All Purpose Arnica Do...  No rating available   \n",
       "\n",
       "        overall_rating                             product_specifications  \\\n",
       "0  No rating available  {\"product_specification\"=>[{\"key\"=>\"Number of ...   \n",
       "1  No rating available  {\"product_specification\"=>[{\"key\"=>\"Installati...   \n",
       "2  No rating available  {\"product_specification\"=>[{\"key\"=>\"Ideal For\"...   \n",
       "3  No rating available  {\"product_specification\"=>[{\"key\"=>\"Number of ...   \n",
       "4  No rating available  {\"product_specification\"=>[{\"key\"=>\"Pet Type\",...   \n",
       "\n",
       "   sale_year  sale_month Primary_Category       Secondary_Category  \\\n",
       "0       2016           3        Clothing         Women's Clothing    \n",
       "1       2016           3       Furniture    Living Room Furniture    \n",
       "2       2016           3        Footwear         Women's Footwear    \n",
       "3       2016           3        Clothing         Women's Clothing    \n",
       "4       2016           3    Pet Supplies                 Grooming    \n",
       "\n",
       "              Tertiary_Category  \\\n",
       "0   Lingerie, Sleep & Swimwear    \n",
       "1           Sofa Beds & Futons    \n",
       "2                   Ballerinas    \n",
       "3   Lingerie, Sleep & Swimwear    \n",
       "4             Skin & Coat Care    \n",
       "\n",
       "                                 Quaternary_Category  \n",
       "0                                            Shorts   \n",
       "1   FabHomeDecor Fabric Double Sofa Bed (Finish C...  \n",
       "2                                       AW Bellies\"]  \n",
       "3                                            Shorts   \n",
       "4                                           Shampoo   "
      ]
     },
     "execution_count": 33,
     "metadata": {},
     "output_type": "execute_result"
    }
   ],
   "source": [
    "flipkart_df.head()"
   ]
  },
  {
   "cell_type": "code",
   "execution_count": 34,
   "metadata": {},
   "outputs": [],
   "source": [
    "flipkart_df['Discount%'] = round((flipkart_df['retail_price'] - flipkart_df['discounted_price'])*100/flipkart_df['retail_price'], 1)"
   ]
  },
  {
   "cell_type": "code",
   "execution_count": 35,
   "metadata": {
    "scrolled": true
   },
   "outputs": [
    {
     "data": {
      "text/html": [
       "<div>\n",
       "<style scoped>\n",
       "    .dataframe tbody tr th:only-of-type {\n",
       "        vertical-align: middle;\n",
       "    }\n",
       "\n",
       "    .dataframe tbody tr th {\n",
       "        vertical-align: top;\n",
       "    }\n",
       "\n",
       "    .dataframe thead th {\n",
       "        text-align: right;\n",
       "    }\n",
       "</style>\n",
       "<table border=\"1\" class=\"dataframe\">\n",
       "  <thead>\n",
       "    <tr style=\"text-align: right;\">\n",
       "      <th></th>\n",
       "      <th>uniq_id</th>\n",
       "      <th>crawl_timestamp</th>\n",
       "      <th>product_url</th>\n",
       "      <th>product_name</th>\n",
       "      <th>product_category_tree</th>\n",
       "      <th>pid</th>\n",
       "      <th>retail_price</th>\n",
       "      <th>discounted_price</th>\n",
       "      <th>image</th>\n",
       "      <th>is_FK_Advantage_product</th>\n",
       "      <th>...</th>\n",
       "      <th>product_rating</th>\n",
       "      <th>overall_rating</th>\n",
       "      <th>product_specifications</th>\n",
       "      <th>sale_year</th>\n",
       "      <th>sale_month</th>\n",
       "      <th>Primary_Category</th>\n",
       "      <th>Secondary_Category</th>\n",
       "      <th>Tertiary_Category</th>\n",
       "      <th>Quaternary_Category</th>\n",
       "      <th>Discount%</th>\n",
       "    </tr>\n",
       "  </thead>\n",
       "  <tbody>\n",
       "    <tr>\n",
       "      <th>0</th>\n",
       "      <td>c2d766ca982eca8304150849735ffef9</td>\n",
       "      <td>2016-03-25 22:59:23+00:00</td>\n",
       "      <td>http://www.flipkart.com/alisha-solid-women-s-c...</td>\n",
       "      <td>Alisha Solid Women's Cycling Shorts</td>\n",
       "      <td>[\"Clothing &gt;&gt; Women's Clothing &gt;&gt; Lingerie, Sl...</td>\n",
       "      <td>SRTEH2FF9KEDEFGF</td>\n",
       "      <td>999.0</td>\n",
       "      <td>379.0</td>\n",
       "      <td>[\"http://img5a.flixcart.com/image/short/u/4/a/...</td>\n",
       "      <td>False</td>\n",
       "      <td>...</td>\n",
       "      <td>No rating available</td>\n",
       "      <td>No rating available</td>\n",
       "      <td>{\"product_specification\"=&gt;[{\"key\"=&gt;\"Number of ...</td>\n",
       "      <td>2016</td>\n",
       "      <td>3</td>\n",
       "      <td>Clothing</td>\n",
       "      <td>Women's Clothing</td>\n",
       "      <td>Lingerie, Sleep &amp; Swimwear</td>\n",
       "      <td>Shorts</td>\n",
       "      <td>62.1</td>\n",
       "    </tr>\n",
       "    <tr>\n",
       "      <th>1</th>\n",
       "      <td>7f7036a6d550aaa89d34c77bd39a5e48</td>\n",
       "      <td>2016-03-25 22:59:23+00:00</td>\n",
       "      <td>http://www.flipkart.com/fabhomedecor-fabric-do...</td>\n",
       "      <td>FabHomeDecor Fabric Double Sofa Bed</td>\n",
       "      <td>[\"Furniture &gt;&gt; Living Room Furniture &gt;&gt; Sofa B...</td>\n",
       "      <td>SBEEH3QGU7MFYJFY</td>\n",
       "      <td>32157.0</td>\n",
       "      <td>22646.0</td>\n",
       "      <td>[\"http://img6a.flixcart.com/image/sofa-bed/j/f...</td>\n",
       "      <td>False</td>\n",
       "      <td>...</td>\n",
       "      <td>No rating available</td>\n",
       "      <td>No rating available</td>\n",
       "      <td>{\"product_specification\"=&gt;[{\"key\"=&gt;\"Installati...</td>\n",
       "      <td>2016</td>\n",
       "      <td>3</td>\n",
       "      <td>Furniture</td>\n",
       "      <td>Living Room Furniture</td>\n",
       "      <td>Sofa Beds &amp; Futons</td>\n",
       "      <td>FabHomeDecor Fabric Double Sofa Bed (Finish C...</td>\n",
       "      <td>29.6</td>\n",
       "    </tr>\n",
       "    <tr>\n",
       "      <th>2</th>\n",
       "      <td>f449ec65dcbc041b6ae5e6a32717d01b</td>\n",
       "      <td>2016-03-25 22:59:23+00:00</td>\n",
       "      <td>http://www.flipkart.com/aw-bellies/p/itmeh4grg...</td>\n",
       "      <td>AW Bellies</td>\n",
       "      <td>[\"Footwear &gt;&gt; Women's Footwear &gt;&gt; Ballerinas &gt;...</td>\n",
       "      <td>SHOEH4GRSUBJGZXE</td>\n",
       "      <td>999.0</td>\n",
       "      <td>499.0</td>\n",
       "      <td>[\"http://img5a.flixcart.com/image/shoe/7/z/z/r...</td>\n",
       "      <td>False</td>\n",
       "      <td>...</td>\n",
       "      <td>No rating available</td>\n",
       "      <td>No rating available</td>\n",
       "      <td>{\"product_specification\"=&gt;[{\"key\"=&gt;\"Ideal For\"...</td>\n",
       "      <td>2016</td>\n",
       "      <td>3</td>\n",
       "      <td>Footwear</td>\n",
       "      <td>Women's Footwear</td>\n",
       "      <td>Ballerinas</td>\n",
       "      <td>AW Bellies\"]</td>\n",
       "      <td>50.1</td>\n",
       "    </tr>\n",
       "    <tr>\n",
       "      <th>3</th>\n",
       "      <td>0973b37acd0c664e3de26e97e5571454</td>\n",
       "      <td>2016-03-25 22:59:23+00:00</td>\n",
       "      <td>http://www.flipkart.com/alisha-solid-women-s-c...</td>\n",
       "      <td>Alisha Solid Women's Cycling Shorts</td>\n",
       "      <td>[\"Clothing &gt;&gt; Women's Clothing &gt;&gt; Lingerie, Sl...</td>\n",
       "      <td>SRTEH2F6HUZMQ6SJ</td>\n",
       "      <td>699.0</td>\n",
       "      <td>267.0</td>\n",
       "      <td>[\"http://img5a.flixcart.com/image/short/6/2/h/...</td>\n",
       "      <td>False</td>\n",
       "      <td>...</td>\n",
       "      <td>No rating available</td>\n",
       "      <td>No rating available</td>\n",
       "      <td>{\"product_specification\"=&gt;[{\"key\"=&gt;\"Number of ...</td>\n",
       "      <td>2016</td>\n",
       "      <td>3</td>\n",
       "      <td>Clothing</td>\n",
       "      <td>Women's Clothing</td>\n",
       "      <td>Lingerie, Sleep &amp; Swimwear</td>\n",
       "      <td>Shorts</td>\n",
       "      <td>61.8</td>\n",
       "    </tr>\n",
       "    <tr>\n",
       "      <th>4</th>\n",
       "      <td>bc940ea42ee6bef5ac7cea3fb5cfbee7</td>\n",
       "      <td>2016-03-25 22:59:23+00:00</td>\n",
       "      <td>http://www.flipkart.com/sicons-all-purpose-arn...</td>\n",
       "      <td>Sicons All Purpose Arnica Dog Shampoo</td>\n",
       "      <td>[\"Pet Supplies &gt;&gt; Grooming &gt;&gt; Skin &amp; Coat Care...</td>\n",
       "      <td>PSOEH3ZYDMSYARJ5</td>\n",
       "      <td>220.0</td>\n",
       "      <td>210.0</td>\n",
       "      <td>[\"http://img5a.flixcart.com/image/pet-shampoo/...</td>\n",
       "      <td>False</td>\n",
       "      <td>...</td>\n",
       "      <td>No rating available</td>\n",
       "      <td>No rating available</td>\n",
       "      <td>{\"product_specification\"=&gt;[{\"key\"=&gt;\"Pet Type\",...</td>\n",
       "      <td>2016</td>\n",
       "      <td>3</td>\n",
       "      <td>Pet Supplies</td>\n",
       "      <td>Grooming</td>\n",
       "      <td>Skin &amp; Coat Care</td>\n",
       "      <td>Shampoo</td>\n",
       "      <td>4.5</td>\n",
       "    </tr>\n",
       "  </tbody>\n",
       "</table>\n",
       "<p>5 rows × 21 columns</p>\n",
       "</div>"
      ],
      "text/plain": [
       "                            uniq_id           crawl_timestamp  \\\n",
       "0  c2d766ca982eca8304150849735ffef9 2016-03-25 22:59:23+00:00   \n",
       "1  7f7036a6d550aaa89d34c77bd39a5e48 2016-03-25 22:59:23+00:00   \n",
       "2  f449ec65dcbc041b6ae5e6a32717d01b 2016-03-25 22:59:23+00:00   \n",
       "3  0973b37acd0c664e3de26e97e5571454 2016-03-25 22:59:23+00:00   \n",
       "4  bc940ea42ee6bef5ac7cea3fb5cfbee7 2016-03-25 22:59:23+00:00   \n",
       "\n",
       "                                         product_url  \\\n",
       "0  http://www.flipkart.com/alisha-solid-women-s-c...   \n",
       "1  http://www.flipkart.com/fabhomedecor-fabric-do...   \n",
       "2  http://www.flipkart.com/aw-bellies/p/itmeh4grg...   \n",
       "3  http://www.flipkart.com/alisha-solid-women-s-c...   \n",
       "4  http://www.flipkart.com/sicons-all-purpose-arn...   \n",
       "\n",
       "                            product_name  \\\n",
       "0    Alisha Solid Women's Cycling Shorts   \n",
       "1    FabHomeDecor Fabric Double Sofa Bed   \n",
       "2                             AW Bellies   \n",
       "3    Alisha Solid Women's Cycling Shorts   \n",
       "4  Sicons All Purpose Arnica Dog Shampoo   \n",
       "\n",
       "                               product_category_tree               pid  \\\n",
       "0  [\"Clothing >> Women's Clothing >> Lingerie, Sl...  SRTEH2FF9KEDEFGF   \n",
       "1  [\"Furniture >> Living Room Furniture >> Sofa B...  SBEEH3QGU7MFYJFY   \n",
       "2  [\"Footwear >> Women's Footwear >> Ballerinas >...  SHOEH4GRSUBJGZXE   \n",
       "3  [\"Clothing >> Women's Clothing >> Lingerie, Sl...  SRTEH2F6HUZMQ6SJ   \n",
       "4  [\"Pet Supplies >> Grooming >> Skin & Coat Care...  PSOEH3ZYDMSYARJ5   \n",
       "\n",
       "   retail_price  discounted_price  \\\n",
       "0         999.0             379.0   \n",
       "1       32157.0           22646.0   \n",
       "2         999.0             499.0   \n",
       "3         699.0             267.0   \n",
       "4         220.0             210.0   \n",
       "\n",
       "                                               image  is_FK_Advantage_product  \\\n",
       "0  [\"http://img5a.flixcart.com/image/short/u/4/a/...                    False   \n",
       "1  [\"http://img6a.flixcart.com/image/sofa-bed/j/f...                    False   \n",
       "2  [\"http://img5a.flixcart.com/image/shoe/7/z/z/r...                    False   \n",
       "3  [\"http://img5a.flixcart.com/image/short/6/2/h/...                    False   \n",
       "4  [\"http://img5a.flixcart.com/image/pet-shampoo/...                    False   \n",
       "\n",
       "   ...       product_rating       overall_rating  \\\n",
       "0  ...  No rating available  No rating available   \n",
       "1  ...  No rating available  No rating available   \n",
       "2  ...  No rating available  No rating available   \n",
       "3  ...  No rating available  No rating available   \n",
       "4  ...  No rating available  No rating available   \n",
       "\n",
       "                              product_specifications sale_year  sale_month  \\\n",
       "0  {\"product_specification\"=>[{\"key\"=>\"Number of ...      2016           3   \n",
       "1  {\"product_specification\"=>[{\"key\"=>\"Installati...      2016           3   \n",
       "2  {\"product_specification\"=>[{\"key\"=>\"Ideal For\"...      2016           3   \n",
       "3  {\"product_specification\"=>[{\"key\"=>\"Number of ...      2016           3   \n",
       "4  {\"product_specification\"=>[{\"key\"=>\"Pet Type\",...      2016           3   \n",
       "\n",
       "   Primary_Category       Secondary_Category             Tertiary_Category  \\\n",
       "0         Clothing         Women's Clothing    Lingerie, Sleep & Swimwear    \n",
       "1        Furniture    Living Room Furniture            Sofa Beds & Futons    \n",
       "2         Footwear         Women's Footwear                    Ballerinas    \n",
       "3         Clothing         Women's Clothing    Lingerie, Sleep & Swimwear    \n",
       "4     Pet Supplies                 Grooming              Skin & Coat Care    \n",
       "\n",
       "                                 Quaternary_Category Discount%  \n",
       "0                                            Shorts       62.1  \n",
       "1   FabHomeDecor Fabric Double Sofa Bed (Finish C...      29.6  \n",
       "2                                       AW Bellies\"]      50.1  \n",
       "3                                            Shorts       61.8  \n",
       "4                                           Shampoo        4.5  \n",
       "\n",
       "[5 rows x 21 columns]"
      ]
     },
     "execution_count": 35,
     "metadata": {},
     "output_type": "execute_result"
    }
   ],
   "source": [
    "flipkart_df.head()"
   ]
  },
  {
   "cell_type": "markdown",
   "metadata": {},
   "source": [
    "## FINAL DATA FRAME"
   ]
  },
  {
   "cell_type": "code",
   "execution_count": 36,
   "metadata": {},
   "outputs": [
    {
     "data": {
      "text/plain": [
       "Index(['uniq_id', 'crawl_timestamp', 'product_url', 'product_name',\n",
       "       'product_category_tree', 'pid', 'retail_price', 'discounted_price',\n",
       "       'image', 'is_FK_Advantage_product', 'description', 'product_rating',\n",
       "       'overall_rating', 'product_specifications', 'sale_year', 'sale_month',\n",
       "       'Primary_Category', 'Secondary_Category', 'Tertiary_Category',\n",
       "       'Quaternary_Category', 'Discount%'],\n",
       "      dtype='object')"
      ]
     },
     "execution_count": 36,
     "metadata": {},
     "output_type": "execute_result"
    }
   ],
   "source": [
    "flipkart_df.columns"
   ]
  },
  {
   "cell_type": "code",
   "execution_count": 37,
   "metadata": {},
   "outputs": [],
   "source": [
    "col_study = ['product_name','Primary_Category','retail_price','discounted_price','description','Discount%','sale_month','sale_year',\n",
    "             'Secondary_Category','Tertiary_Category','Quaternary_Category',]\n",
    "flipkart1_df = flipkart_df[col_study]"
   ]
  },
  {
   "cell_type": "code",
   "execution_count": 38,
   "metadata": {},
   "outputs": [
    {
     "data": {
      "text/html": [
       "<div>\n",
       "<style scoped>\n",
       "    .dataframe tbody tr th:only-of-type {\n",
       "        vertical-align: middle;\n",
       "    }\n",
       "\n",
       "    .dataframe tbody tr th {\n",
       "        vertical-align: top;\n",
       "    }\n",
       "\n",
       "    .dataframe thead th {\n",
       "        text-align: right;\n",
       "    }\n",
       "</style>\n",
       "<table border=\"1\" class=\"dataframe\">\n",
       "  <thead>\n",
       "    <tr style=\"text-align: right;\">\n",
       "      <th></th>\n",
       "      <th>product_name</th>\n",
       "      <th>Primary_Category</th>\n",
       "      <th>retail_price</th>\n",
       "      <th>discounted_price</th>\n",
       "      <th>description</th>\n",
       "      <th>Discount%</th>\n",
       "      <th>sale_month</th>\n",
       "      <th>sale_year</th>\n",
       "      <th>Secondary_Category</th>\n",
       "      <th>Tertiary_Category</th>\n",
       "      <th>Quaternary_Category</th>\n",
       "    </tr>\n",
       "  </thead>\n",
       "  <tbody>\n",
       "    <tr>\n",
       "      <th>0</th>\n",
       "      <td>Alisha Solid Women's Cycling Shorts</td>\n",
       "      <td>Clothing</td>\n",
       "      <td>999.0</td>\n",
       "      <td>379.0</td>\n",
       "      <td>Key Features of Alisha Solid Women's Cycling S...</td>\n",
       "      <td>62.1</td>\n",
       "      <td>3</td>\n",
       "      <td>2016</td>\n",
       "      <td>Women's Clothing</td>\n",
       "      <td>Lingerie, Sleep &amp; Swimwear</td>\n",
       "      <td>Shorts</td>\n",
       "    </tr>\n",
       "    <tr>\n",
       "      <th>1</th>\n",
       "      <td>FabHomeDecor Fabric Double Sofa Bed</td>\n",
       "      <td>Furniture</td>\n",
       "      <td>32157.0</td>\n",
       "      <td>22646.0</td>\n",
       "      <td>FabHomeDecor Fabric Double Sofa Bed (Finish Co...</td>\n",
       "      <td>29.6</td>\n",
       "      <td>3</td>\n",
       "      <td>2016</td>\n",
       "      <td>Living Room Furniture</td>\n",
       "      <td>Sofa Beds &amp; Futons</td>\n",
       "      <td>FabHomeDecor Fabric Double Sofa Bed (Finish C...</td>\n",
       "    </tr>\n",
       "    <tr>\n",
       "      <th>2</th>\n",
       "      <td>AW Bellies</td>\n",
       "      <td>Footwear</td>\n",
       "      <td>999.0</td>\n",
       "      <td>499.0</td>\n",
       "      <td>Key Features of AW Bellies Sandals Wedges Heel...</td>\n",
       "      <td>50.1</td>\n",
       "      <td>3</td>\n",
       "      <td>2016</td>\n",
       "      <td>Women's Footwear</td>\n",
       "      <td>Ballerinas</td>\n",
       "      <td>AW Bellies\"]</td>\n",
       "    </tr>\n",
       "    <tr>\n",
       "      <th>3</th>\n",
       "      <td>Alisha Solid Women's Cycling Shorts</td>\n",
       "      <td>Clothing</td>\n",
       "      <td>699.0</td>\n",
       "      <td>267.0</td>\n",
       "      <td>Key Features of Alisha Solid Women's Cycling S...</td>\n",
       "      <td>61.8</td>\n",
       "      <td>3</td>\n",
       "      <td>2016</td>\n",
       "      <td>Women's Clothing</td>\n",
       "      <td>Lingerie, Sleep &amp; Swimwear</td>\n",
       "      <td>Shorts</td>\n",
       "    </tr>\n",
       "    <tr>\n",
       "      <th>4</th>\n",
       "      <td>Sicons All Purpose Arnica Dog Shampoo</td>\n",
       "      <td>Pet Supplies</td>\n",
       "      <td>220.0</td>\n",
       "      <td>210.0</td>\n",
       "      <td>Specifications of Sicons All Purpose Arnica Do...</td>\n",
       "      <td>4.5</td>\n",
       "      <td>3</td>\n",
       "      <td>2016</td>\n",
       "      <td>Grooming</td>\n",
       "      <td>Skin &amp; Coat Care</td>\n",
       "      <td>Shampoo</td>\n",
       "    </tr>\n",
       "  </tbody>\n",
       "</table>\n",
       "</div>"
      ],
      "text/plain": [
       "                            product_name Primary_Category  retail_price  \\\n",
       "0    Alisha Solid Women's Cycling Shorts        Clothing          999.0   \n",
       "1    FabHomeDecor Fabric Double Sofa Bed       Furniture        32157.0   \n",
       "2                             AW Bellies        Footwear          999.0   \n",
       "3    Alisha Solid Women's Cycling Shorts        Clothing          699.0   \n",
       "4  Sicons All Purpose Arnica Dog Shampoo    Pet Supplies          220.0   \n",
       "\n",
       "   discounted_price                                        description  \\\n",
       "0             379.0  Key Features of Alisha Solid Women's Cycling S...   \n",
       "1           22646.0  FabHomeDecor Fabric Double Sofa Bed (Finish Co...   \n",
       "2             499.0  Key Features of AW Bellies Sandals Wedges Heel...   \n",
       "3             267.0  Key Features of Alisha Solid Women's Cycling S...   \n",
       "4             210.0  Specifications of Sicons All Purpose Arnica Do...   \n",
       "\n",
       "   Discount%  sale_month  sale_year       Secondary_Category  \\\n",
       "0       62.1           3       2016        Women's Clothing    \n",
       "1       29.6           3       2016   Living Room Furniture    \n",
       "2       50.1           3       2016        Women's Footwear    \n",
       "3       61.8           3       2016        Women's Clothing    \n",
       "4        4.5           3       2016                Grooming    \n",
       "\n",
       "              Tertiary_Category  \\\n",
       "0   Lingerie, Sleep & Swimwear    \n",
       "1           Sofa Beds & Futons    \n",
       "2                   Ballerinas    \n",
       "3   Lingerie, Sleep & Swimwear    \n",
       "4             Skin & Coat Care    \n",
       "\n",
       "                                 Quaternary_Category  \n",
       "0                                            Shorts   \n",
       "1   FabHomeDecor Fabric Double Sofa Bed (Finish C...  \n",
       "2                                       AW Bellies\"]  \n",
       "3                                            Shorts   \n",
       "4                                           Shampoo   "
      ]
     },
     "execution_count": 38,
     "metadata": {},
     "output_type": "execute_result"
    }
   ],
   "source": [
    "# Head of our Dataframe\n",
    "flipkart1_df.head()"
   ]
  },
  {
   "cell_type": "markdown",
   "metadata": {},
   "source": [
    "####  Convert all text data into SmallCase"
   ]
  },
  {
   "cell_type": "code",
   "execution_count": 39,
   "metadata": {},
   "outputs": [
    {
     "name": "stdout",
     "output_type": "stream",
     "text": [
      "Converted to small case\n"
     ]
    }
   ],
   "source": [
    "#convert text to small case\n",
    "flipkart1_df['product_name'] = flipkart1_df['product_name'].str.lower()\n",
    "print(\"Converted to small case\")"
   ]
  },
  {
   "cell_type": "code",
   "execution_count": 40,
   "metadata": {},
   "outputs": [
    {
     "name": "stdout",
     "output_type": "stream",
     "text": [
      "Converted to small case\n"
     ]
    }
   ],
   "source": [
    "#convert text to small case\n",
    "flipkart1_df['Primary_Category'] = flipkart1_df['Primary_Category'].str.lower()\n",
    "print(\"Converted to small case\")"
   ]
  },
  {
   "cell_type": "code",
   "execution_count": 41,
   "metadata": {},
   "outputs": [
    {
     "name": "stdout",
     "output_type": "stream",
     "text": [
      "Converted to small case\n"
     ]
    }
   ],
   "source": [
    "#convert text to small case\n",
    "flipkart1_df['Secondary_Category'] = flipkart1_df['Secondary_Category'].str.lower()\n",
    "print(\"Converted to small case\")"
   ]
  },
  {
   "cell_type": "code",
   "execution_count": 42,
   "metadata": {},
   "outputs": [
    {
     "name": "stdout",
     "output_type": "stream",
     "text": [
      "Converted to small case\n"
     ]
    }
   ],
   "source": [
    "#convert text to small case\n",
    "flipkart1_df['Tertiary_Category'] = flipkart1_df['Tertiary_Category'].str.lower()\n",
    "print(\"Converted to small case\")"
   ]
  },
  {
   "cell_type": "code",
   "execution_count": 43,
   "metadata": {},
   "outputs": [
    {
     "name": "stdout",
     "output_type": "stream",
     "text": [
      "Converted to small case\n"
     ]
    }
   ],
   "source": [
    "#convert text to small case\n",
    "flipkart1_df['Quaternary_Category'] = flipkart1_df['Quaternary_Category'].str.lower()\n",
    "print(\"Converted to small case\")"
   ]
  },
  {
   "cell_type": "code",
   "execution_count": 79,
   "metadata": {},
   "outputs": [
    {
     "name": "stdout",
     "output_type": "stream",
     "text": [
      "Converted to small case\n"
     ]
    }
   ],
   "source": [
    "#convert text to small case\n",
    "flipkart1_df['description'] = flipkart1_df['description'].str.lower()\n",
    "print(\"Converted to small case\")"
   ]
  },
  {
   "cell_type": "code",
   "execution_count": 80,
   "metadata": {},
   "outputs": [
    {
     "data": {
      "text/html": [
       "<div>\n",
       "<style scoped>\n",
       "    .dataframe tbody tr th:only-of-type {\n",
       "        vertical-align: middle;\n",
       "    }\n",
       "\n",
       "    .dataframe tbody tr th {\n",
       "        vertical-align: top;\n",
       "    }\n",
       "\n",
       "    .dataframe thead th {\n",
       "        text-align: right;\n",
       "    }\n",
       "</style>\n",
       "<table border=\"1\" class=\"dataframe\">\n",
       "  <thead>\n",
       "    <tr style=\"text-align: right;\">\n",
       "      <th></th>\n",
       "      <th>product_name</th>\n",
       "      <th>Primary_Category</th>\n",
       "      <th>retail_price</th>\n",
       "      <th>discounted_price</th>\n",
       "      <th>description</th>\n",
       "      <th>Discount%</th>\n",
       "      <th>sale_month</th>\n",
       "      <th>sale_year</th>\n",
       "      <th>Secondary_Category</th>\n",
       "      <th>Tertiary_Category</th>\n",
       "      <th>Quaternary_Category</th>\n",
       "    </tr>\n",
       "  </thead>\n",
       "  <tbody>\n",
       "    <tr>\n",
       "      <th>0</th>\n",
       "      <td>alisha solid women cycling shorts</td>\n",
       "      <td>clothing</td>\n",
       "      <td>999.0</td>\n",
       "      <td>379.0</td>\n",
       "      <td>key features of alisha solid women's cycling s...</td>\n",
       "      <td>62.1</td>\n",
       "      <td>3</td>\n",
       "      <td>2016</td>\n",
       "      <td>women clothing</td>\n",
       "      <td>lingeriesleepswimwear</td>\n",
       "      <td>shorts</td>\n",
       "    </tr>\n",
       "    <tr>\n",
       "      <th>1</th>\n",
       "      <td>fabhomedecor fabric double sofa bed</td>\n",
       "      <td>furniture</td>\n",
       "      <td>32157.0</td>\n",
       "      <td>22646.0</td>\n",
       "      <td>fabhomedecor fabric double sofa bed (finish co...</td>\n",
       "      <td>29.6</td>\n",
       "      <td>3</td>\n",
       "      <td>2016</td>\n",
       "      <td>living room furniture</td>\n",
       "      <td>sofa bedsfutons</td>\n",
       "      <td>fabhomedecor fabric double sofa bedfinish colo</td>\n",
       "    </tr>\n",
       "    <tr>\n",
       "      <th>2</th>\n",
       "      <td>aw bellies</td>\n",
       "      <td>footwear</td>\n",
       "      <td>999.0</td>\n",
       "      <td>499.0</td>\n",
       "      <td>key features of aw bellies sandals wedges heel...</td>\n",
       "      <td>50.1</td>\n",
       "      <td>3</td>\n",
       "      <td>2016</td>\n",
       "      <td>women footwear</td>\n",
       "      <td>ballerinas</td>\n",
       "      <td>aw bellies</td>\n",
       "    </tr>\n",
       "    <tr>\n",
       "      <th>3</th>\n",
       "      <td>alisha solid women cycling shorts</td>\n",
       "      <td>clothing</td>\n",
       "      <td>699.0</td>\n",
       "      <td>267.0</td>\n",
       "      <td>key features of alisha solid women's cycling s...</td>\n",
       "      <td>61.8</td>\n",
       "      <td>3</td>\n",
       "      <td>2016</td>\n",
       "      <td>women clothing</td>\n",
       "      <td>lingeriesleepswimwear</td>\n",
       "      <td>shorts</td>\n",
       "    </tr>\n",
       "    <tr>\n",
       "      <th>4</th>\n",
       "      <td>sicons purpose arnica dog shampoo</td>\n",
       "      <td>pet supplies</td>\n",
       "      <td>220.0</td>\n",
       "      <td>210.0</td>\n",
       "      <td>specifications of sicons all purpose arnica do...</td>\n",
       "      <td>4.5</td>\n",
       "      <td>3</td>\n",
       "      <td>2016</td>\n",
       "      <td>grooming</td>\n",
       "      <td>skincoat care</td>\n",
       "      <td>shampoo</td>\n",
       "    </tr>\n",
       "  </tbody>\n",
       "</table>\n",
       "</div>"
      ],
      "text/plain": [
       "                          product_name Primary_Category  retail_price  \\\n",
       "0    alisha solid women cycling shorts         clothing         999.0   \n",
       "1  fabhomedecor fabric double sofa bed        furniture       32157.0   \n",
       "2                           aw bellies         footwear         999.0   \n",
       "3    alisha solid women cycling shorts         clothing         699.0   \n",
       "4    sicons purpose arnica dog shampoo     pet supplies         220.0   \n",
       "\n",
       "   discounted_price                                        description  \\\n",
       "0             379.0  key features of alisha solid women's cycling s...   \n",
       "1           22646.0  fabhomedecor fabric double sofa bed (finish co...   \n",
       "2             499.0  key features of aw bellies sandals wedges heel...   \n",
       "3             267.0  key features of alisha solid women's cycling s...   \n",
       "4             210.0  specifications of sicons all purpose arnica do...   \n",
       "\n",
       "   Discount%  sale_month  sale_year     Secondary_Category  \\\n",
       "0       62.1           3       2016         women clothing   \n",
       "1       29.6           3       2016  living room furniture   \n",
       "2       50.1           3       2016         women footwear   \n",
       "3       61.8           3       2016         women clothing   \n",
       "4        4.5           3       2016               grooming   \n",
       "\n",
       "       Tertiary_Category                             Quaternary_Category  \n",
       "0  lingeriesleepswimwear                                          shorts  \n",
       "1        sofa bedsfutons  fabhomedecor fabric double sofa bedfinish colo  \n",
       "2             ballerinas                                      aw bellies  \n",
       "3  lingeriesleepswimwear                                          shorts  \n",
       "4          skincoat care                                         shampoo  "
      ]
     },
     "execution_count": 80,
     "metadata": {},
     "output_type": "execute_result"
    }
   ],
   "source": [
    "flipkart1_df.head()"
   ]
  },
  {
   "cell_type": "markdown",
   "metadata": {},
   "source": [
    "####  Remove Numbers "
   ]
  },
  {
   "cell_type": "code",
   "execution_count": 45,
   "metadata": {},
   "outputs": [
    {
     "name": "stdout",
     "output_type": "stream",
     "text": [
      "Numbers are removed from text\n"
     ]
    }
   ],
   "source": [
    "#removes numbers from text\n",
    "flipkart1_df['product_name'] = flipkart1_df['product_name'].str.replace('\\d+', '')\n",
    "print(\"Numbers are removed from text\")"
   ]
  },
  {
   "cell_type": "code",
   "execution_count": 46,
   "metadata": {},
   "outputs": [
    {
     "name": "stdout",
     "output_type": "stream",
     "text": [
      "Numbers are removed from text\n"
     ]
    }
   ],
   "source": [
    "#removes numbers from text\n",
    "flipkart1_df['Primary_Category'] = flipkart1_df['Primary_Category'].str.replace('\\d+', '')\n",
    "print(\"Numbers are removed from text\")"
   ]
  },
  {
   "cell_type": "code",
   "execution_count": 47,
   "metadata": {},
   "outputs": [
    {
     "name": "stdout",
     "output_type": "stream",
     "text": [
      "Numbers are removed from text\n"
     ]
    }
   ],
   "source": [
    "#removes numbers from text\n",
    "flipkart1_df['Secondary_Category'] = flipkart1_df['Secondary_Category'].str.replace('\\d+', '')\n",
    "print(\"Numbers are removed from text\")"
   ]
  },
  {
   "cell_type": "code",
   "execution_count": 48,
   "metadata": {
    "scrolled": true
   },
   "outputs": [
    {
     "name": "stdout",
     "output_type": "stream",
     "text": [
      "Numbers are removed from text\n"
     ]
    }
   ],
   "source": [
    "#removes numbers from text\n",
    "flipkart1_df['Tertiary_Category'] = flipkart1_df['Tertiary_Category'].str.replace('\\d+', '')\n",
    "print(\"Numbers are removed from text\")"
   ]
  },
  {
   "cell_type": "code",
   "execution_count": 49,
   "metadata": {
    "scrolled": true
   },
   "outputs": [
    {
     "name": "stdout",
     "output_type": "stream",
     "text": [
      "Numbers are removed from text\n"
     ]
    }
   ],
   "source": [
    "#removes numbers from text\n",
    "flipkart1_df['Quaternary_Category'] = flipkart1_df['Quaternary_Category'].str.replace('\\d+', '')\n",
    "print(\"Numbers are removed from text\")"
   ]
  },
  {
   "cell_type": "code",
   "execution_count": 81,
   "metadata": {},
   "outputs": [
    {
     "name": "stdout",
     "output_type": "stream",
     "text": [
      "Numbers are removed from text\n"
     ]
    }
   ],
   "source": [
    "#removes numbers from text\n",
    "flipkart1_df['description'] = flipkart1_df['description'].str.replace('\\d+', '')\n",
    "print(\"Numbers are removed from text\")"
   ]
  },
  {
   "cell_type": "markdown",
   "metadata": {},
   "source": [
    "####  Remove Single Character"
   ]
  },
  {
   "cell_type": "code",
   "execution_count": 82,
   "metadata": {},
   "outputs": [
    {
     "name": "stdout",
     "output_type": "stream",
     "text": [
      "Single character words are Removed\n"
     ]
    }
   ],
   "source": [
    "#remove single character chracter\n",
    "flipkart1_df['product_name'] = flipkart1_df['product_name'].replace(re.compile(r\"(^| ).( |$)\"), \"\")\n",
    "print(\"Single character words are Removed\")"
   ]
  },
  {
   "cell_type": "code",
   "execution_count": 83,
   "metadata": {},
   "outputs": [
    {
     "name": "stdout",
     "output_type": "stream",
     "text": [
      "Single character words are Removed\n"
     ]
    }
   ],
   "source": [
    "#remove single character chracter\n",
    "flipkart1_df['Primary_Category'] = flipkart1_df['Primary_Category'].replace(re.compile(r\"(^| ).( |$)\"), \"\")\n",
    "print(\"Single character words are Removed\")"
   ]
  },
  {
   "cell_type": "code",
   "execution_count": 84,
   "metadata": {},
   "outputs": [
    {
     "name": "stdout",
     "output_type": "stream",
     "text": [
      "Single character words are Removed\n"
     ]
    }
   ],
   "source": [
    "#remove single character chracter\n",
    "flipkart1_df['Secondary_Category'] = flipkart1_df['Secondary_Category'].replace(re.compile(r\"(^| ).( |$)\"), \"\")\n",
    "print(\"Single character words are Removed\")"
   ]
  },
  {
   "cell_type": "code",
   "execution_count": 85,
   "metadata": {
    "scrolled": true
   },
   "outputs": [
    {
     "name": "stdout",
     "output_type": "stream",
     "text": [
      "Single character words are Removed\n"
     ]
    }
   ],
   "source": [
    "#remove single character chracter\n",
    "flipkart1_df['Tertiary_Category'] = flipkart1_df['Tertiary_Category'].replace(re.compile(r\"(^| ).( |$)\"), \"\")\n",
    "print(\"Single character words are Removed\")"
   ]
  },
  {
   "cell_type": "code",
   "execution_count": 86,
   "metadata": {},
   "outputs": [
    {
     "name": "stdout",
     "output_type": "stream",
     "text": [
      "Single character words are Removed\n"
     ]
    }
   ],
   "source": [
    "#remove single character chracter\n",
    "flipkart1_df['Quaternary_Category'] = flipkart1_df['Quaternary_Category'].replace(re.compile(r\"(^| ).( |$)\"), \"\")\n",
    "print(\"Single character words are Removed\")"
   ]
  },
  {
   "cell_type": "code",
   "execution_count": 87,
   "metadata": {},
   "outputs": [
    {
     "name": "stdout",
     "output_type": "stream",
     "text": [
      "Single character words are Removed\n"
     ]
    }
   ],
   "source": [
    "#remove single character chracter\n",
    "flipkart1_df['description'] = flipkart1_df['description'].replace(re.compile(r\"(^| ).( |$)\"), \"\")\n",
    "print(\"Single character words are Removed\")"
   ]
  },
  {
   "cell_type": "markdown",
   "metadata": {},
   "source": [
    "####  Remove Hyperlink's"
   ]
  },
  {
   "cell_type": "code",
   "execution_count": 88,
   "metadata": {},
   "outputs": [
    {
     "name": "stdout",
     "output_type": "stream",
     "text": [
      "HyperLinks are removed\n"
     ]
    }
   ],
   "source": [
    "#removes links and urls\n",
    "flipkart1_df['product_name'] = flipkart1_df['product_name'].replace(re.compile(r'((www\\.[\\S]+)|(https?://[\\S]+))'),\"\")\n",
    "print(\"HyperLinks are removed\")"
   ]
  },
  {
   "cell_type": "code",
   "execution_count": 89,
   "metadata": {},
   "outputs": [
    {
     "name": "stdout",
     "output_type": "stream",
     "text": [
      "HyperLinks are removed\n"
     ]
    }
   ],
   "source": [
    "#removes links and urls\n",
    "flipkart1_df['Primary_Category'] = flipkart1_df['Primary_Category'].replace(re.compile(r'((www\\.[\\S]+)|(https?://[\\S]+))'),\"\")\n",
    "print(\"HyperLinks are removed\")"
   ]
  },
  {
   "cell_type": "code",
   "execution_count": 90,
   "metadata": {},
   "outputs": [
    {
     "name": "stdout",
     "output_type": "stream",
     "text": [
      "HyperLinks are removed\n"
     ]
    }
   ],
   "source": [
    "#removes links and urls\n",
    "flipkart1_df['Secondary_Category'] = flipkart1_df['Secondary_Category'].replace(re.compile(r'((www\\.[\\S]+)|(https?://[\\S]+))'),\"\")\n",
    "print(\"HyperLinks are removed\")"
   ]
  },
  {
   "cell_type": "code",
   "execution_count": 91,
   "metadata": {},
   "outputs": [
    {
     "name": "stdout",
     "output_type": "stream",
     "text": [
      "HyperLinks are removed\n"
     ]
    }
   ],
   "source": [
    "#removes links and urls\n",
    "flipkart1_df['Tertiary_Category'] = flipkart1_df['Tertiary_Category'].replace(re.compile(r'((www\\.[\\S]+)|(https?://[\\S]+))'),\"\")\n",
    "print(\"HyperLinks are removed\")"
   ]
  },
  {
   "cell_type": "code",
   "execution_count": 94,
   "metadata": {},
   "outputs": [
    {
     "name": "stdout",
     "output_type": "stream",
     "text": [
      "HyperLinks are removed\n"
     ]
    }
   ],
   "source": [
    "#removes links and urls\n",
    "flipkart1_df['Quaternary_Category'] = flipkart1_df['Quaternary_Category'].replace(re.compile(r'((www\\.[\\S]+)|(https?://[\\S]+))'),\"\")\n",
    "print(\"HyperLinks are removed\")"
   ]
  },
  {
   "cell_type": "code",
   "execution_count": 95,
   "metadata": {},
   "outputs": [
    {
     "name": "stdout",
     "output_type": "stream",
     "text": [
      "HyperLinks are removed\n"
     ]
    }
   ],
   "source": [
    "#removes links and urls\n",
    "flipkart1_df['description'] = flipkart1_df['description'].replace(re.compile(r'((www\\.[\\S]+)|(https?://[\\S]+))'),\"\")\n",
    "print(\"HyperLinks are removed\")"
   ]
  },
  {
   "cell_type": "markdown",
   "metadata": {},
   "source": [
    "#### Remove Punctuation & Special Character's"
   ]
  },
  {
   "cell_type": "code",
   "execution_count": 96,
   "metadata": {},
   "outputs": [
    {
     "name": "stdout",
     "output_type": "stream",
     "text": [
      "Punctuation & Special characters are removed...\n"
     ]
    }
   ],
   "source": [
    "#removes Punctuation\n",
    "flipkart1_df['product_name'] = flipkart1_df['product_name'].str.replace('[^\\w\\s]',' ').str.replace('\\s\\s+', '')\n",
    "print(\"Punctuation & Special characters are removed...\")"
   ]
  },
  {
   "cell_type": "code",
   "execution_count": 97,
   "metadata": {},
   "outputs": [
    {
     "name": "stdout",
     "output_type": "stream",
     "text": [
      "Punctuation & Special characters are removed...\n"
     ]
    }
   ],
   "source": [
    "#removes Punctuation\n",
    "flipkart1_df['Primary_Category'] = flipkart1_df['Primary_Category'].str.replace('[^\\w\\s]',' ').str.replace('\\s\\s+', '')\n",
    "print(\"Punctuation & Special characters are removed...\")"
   ]
  },
  {
   "cell_type": "code",
   "execution_count": 99,
   "metadata": {},
   "outputs": [
    {
     "name": "stdout",
     "output_type": "stream",
     "text": [
      "Punctuation & Special characters are removed...\n"
     ]
    }
   ],
   "source": [
    "#removes Punctuation\n",
    "flipkart1_df['Secondary_Category'] = flipkart1_df['Secondary_Category'].str.replace('[^\\w\\s]',' ').str.replace('\\s\\s+', '')\n",
    "print(\"Punctuation & Special characters are removed...\")"
   ]
  },
  {
   "cell_type": "code",
   "execution_count": 100,
   "metadata": {},
   "outputs": [
    {
     "name": "stdout",
     "output_type": "stream",
     "text": [
      "Punctuation & Special characters are removed...\n"
     ]
    }
   ],
   "source": [
    "#removes Punctuation\n",
    "flipkart1_df['Tertiary_Category'] = flipkart1_df['Tertiary_Category'].str.replace('[^\\w\\s]',' ').str.replace('\\s\\s+', '')\n",
    "print(\"Punctuation & Special characters are removed...\")"
   ]
  },
  {
   "cell_type": "code",
   "execution_count": 101,
   "metadata": {},
   "outputs": [
    {
     "name": "stdout",
     "output_type": "stream",
     "text": [
      "Punctuation & Special characters are removed...\n"
     ]
    }
   ],
   "source": [
    "#removes Punctuation\n",
    "flipkart1_df['Quaternary_Category'] = flipkart1_df['Quaternary_Category'].str.replace('[^\\w\\s]',' ').str.replace('\\s\\s+', '')\n",
    "print(\"Punctuation & Special characters are removed...\")"
   ]
  },
  {
   "cell_type": "code",
   "execution_count": 102,
   "metadata": {},
   "outputs": [
    {
     "name": "stdout",
     "output_type": "stream",
     "text": [
      "Punctuation & Special characters are removed...\n"
     ]
    }
   ],
   "source": [
    "#removes Punctuation\n",
    "flipkart1_df['description'] = flipkart1_df['description'].str.replace('[^\\w\\s]',' ').str.replace('\\s\\s+', '')\n",
    "print(\"Punctuation & Special characters are removed...\")"
   ]
  },
  {
   "cell_type": "markdown",
   "metadata": {},
   "source": [
    "####  Remove Stop Words"
   ]
  },
  {
   "cell_type": "code",
   "execution_count": 103,
   "metadata": {},
   "outputs": [
    {
     "name": "stdout",
     "output_type": "stream",
     "text": [
      "Stop words are removed...\n"
     ]
    }
   ],
   "source": [
    "#stops words\n",
    "stop = stopwords.words('english')\n",
    "\n",
    "#remove stop words\n",
    "flipkart1_df['product_name'] = flipkart1_df['product_name'].apply(lambda x: ' '.join([word for word in x.split() if word not in (stop)]))\n",
    "print(\"Stop words are removed...\")"
   ]
  },
  {
   "cell_type": "code",
   "execution_count": 104,
   "metadata": {
    "scrolled": true
   },
   "outputs": [
    {
     "name": "stdout",
     "output_type": "stream",
     "text": [
      "Stop words are removed...\n"
     ]
    }
   ],
   "source": [
    "#stops words\n",
    "stop = stopwords.words('english')\n",
    "\n",
    "#remove stop words\n",
    "flipkart1_df['Primary_Category'] = flipkart1_df['Primary_Category'].apply(lambda x: ' '.join([word for word in x.split() if word not in (stop)]))\n",
    "print(\"Stop words are removed...\")"
   ]
  },
  {
   "cell_type": "code",
   "execution_count": 105,
   "metadata": {},
   "outputs": [
    {
     "name": "stdout",
     "output_type": "stream",
     "text": [
      "Stop words are removed...\n"
     ]
    }
   ],
   "source": [
    "#stops words\n",
    "stop = stopwords.words('english')\n",
    "\n",
    "#remove stop words\n",
    "flipkart1_df['Secondary_Category'] = flipkart1_df['Secondary_Category'].apply(lambda x: ' '.join([word for word in x.split() if word not in (stop)]))\n",
    "print(\"Stop words are removed...\")"
   ]
  },
  {
   "cell_type": "code",
   "execution_count": 106,
   "metadata": {},
   "outputs": [
    {
     "name": "stdout",
     "output_type": "stream",
     "text": [
      "Stop words are removed...\n"
     ]
    }
   ],
   "source": [
    "#stops words\n",
    "stop = stopwords.words('english')\n",
    "\n",
    "#remove stop words\n",
    "flipkart1_df['Tertiary_Category'] = flipkart1_df['Tertiary_Category'].apply(lambda x: ' '.join([word for word in x.split() if word not in (stop)]))\n",
    "print(\"Stop words are removed...\")"
   ]
  },
  {
   "cell_type": "code",
   "execution_count": 107,
   "metadata": {},
   "outputs": [
    {
     "name": "stdout",
     "output_type": "stream",
     "text": [
      "Stop words are removed...\n"
     ]
    }
   ],
   "source": [
    "#stops words\n",
    "stop = stopwords.words('english')\n",
    "\n",
    "#remove stop words\n",
    "flipkart1_df['Quaternary_Category'] = flipkart1_df['Quaternary_Category'].apply(lambda x: ' '.join([word for word in x.split() if word not in (stop)]))\n",
    "print(\"Stop words are removed...\")"
   ]
  },
  {
   "cell_type": "markdown",
   "metadata": {},
   "source": [
    "####  Remove extra spaces"
   ]
  },
  {
   "cell_type": "code",
   "execution_count": 111,
   "metadata": {},
   "outputs": [
    {
     "name": "stdout",
     "output_type": "stream",
     "text": [
      "Extra spaces are removed...\n"
     ]
    }
   ],
   "source": [
    "flipkart1_df['product_name']=flipkart1_df['product_name'].str.strip()\n",
    "flipkart1_df['product_name'] = flipkart1_df['product_name'].replace(re.compile(r\"(^| ).( |$)\"), \" \")\n",
    "print(\"Extra spaces are removed...\")"
   ]
  },
  {
   "cell_type": "code",
   "execution_count": 112,
   "metadata": {},
   "outputs": [
    {
     "name": "stdout",
     "output_type": "stream",
     "text": [
      "Extra spaces are removed...\n"
     ]
    }
   ],
   "source": [
    "flipkart1_df['Primary_Category']=flipkart1_df['Primary_Category'].str.strip()\n",
    "flipkart1_df['Primary_Category'] = flipkart1_df['Primary_Category'].replace(re.compile(r\"(^| ).( |$)\"), \" \")\n",
    "print(\"Extra spaces are removed...\")"
   ]
  },
  {
   "cell_type": "code",
   "execution_count": 113,
   "metadata": {},
   "outputs": [
    {
     "name": "stdout",
     "output_type": "stream",
     "text": [
      "Extra spaces are removed...\n"
     ]
    }
   ],
   "source": [
    "flipkart1_df['Secondary_Category']=flipkart1_df['Secondary_Category'].str.strip()\n",
    "flipkart1_df['Secondary_Category'] = flipkart1_df['Secondary_Category'].replace(re.compile(r\"(^| ).( |$)\"), \" \")\n",
    "print(\"Extra spaces are removed...\")"
   ]
  },
  {
   "cell_type": "code",
   "execution_count": 114,
   "metadata": {},
   "outputs": [
    {
     "name": "stdout",
     "output_type": "stream",
     "text": [
      "Extra spaces are removed...\n"
     ]
    }
   ],
   "source": [
    "flipkart1_df['Tertiary_Category']=flipkart1_df['Tertiary_Category'].str.strip()\n",
    "flipkart1_df['Tertiary_Category'] = flipkart1_df['Tertiary_Category'].replace(re.compile(r\"(^| ).( |$)\"), \" \")\n",
    "print(\"Extra spaces are removed...\")"
   ]
  },
  {
   "cell_type": "code",
   "execution_count": 115,
   "metadata": {
    "scrolled": true
   },
   "outputs": [
    {
     "name": "stdout",
     "output_type": "stream",
     "text": [
      "Extra spaces are removed...\n"
     ]
    }
   ],
   "source": [
    "flipkart1_df['Quaternary_Category']=flipkart1_df['Quaternary_Category'].str.strip()\n",
    "flipkart1_df['Quaternary_Category'] = flipkart1_df['Quaternary_Category'].replace(re.compile(r\"(^| ).( |$)\"), \" \")\n",
    "print(\"Extra spaces are removed...\")"
   ]
  },
  {
   "cell_type": "code",
   "execution_count": 117,
   "metadata": {},
   "outputs": [
    {
     "name": "stdout",
     "output_type": "stream",
     "text": [
      "Extra spaces are removed...\n"
     ]
    }
   ],
   "source": [
    "flipkart1_df['description']=flipkart1_df['description'].str.strip()\n",
    "flipkart1_df['description'] = flipkart1_df['description'].replace(re.compile(r\"(^| ).( |$)\"), \" \")\n",
    "print(\"Extra spaces are removed...\")"
   ]
  },
  {
   "cell_type": "code",
   "execution_count": 118,
   "metadata": {},
   "outputs": [
    {
     "data": {
      "text/html": [
       "<div>\n",
       "<style scoped>\n",
       "    .dataframe tbody tr th:only-of-type {\n",
       "        vertical-align: middle;\n",
       "    }\n",
       "\n",
       "    .dataframe tbody tr th {\n",
       "        vertical-align: top;\n",
       "    }\n",
       "\n",
       "    .dataframe thead th {\n",
       "        text-align: right;\n",
       "    }\n",
       "</style>\n",
       "<table border=\"1\" class=\"dataframe\">\n",
       "  <thead>\n",
       "    <tr style=\"text-align: right;\">\n",
       "      <th></th>\n",
       "      <th>product_name</th>\n",
       "      <th>Primary_Category</th>\n",
       "      <th>retail_price</th>\n",
       "      <th>discounted_price</th>\n",
       "      <th>description</th>\n",
       "      <th>Discount%</th>\n",
       "      <th>sale_month</th>\n",
       "      <th>sale_year</th>\n",
       "      <th>Secondary_Category</th>\n",
       "      <th>Tertiary_Category</th>\n",
       "      <th>Quaternary_Category</th>\n",
       "    </tr>\n",
       "  </thead>\n",
       "  <tbody>\n",
       "    <tr>\n",
       "      <th>0</th>\n",
       "      <td>alisha solid women cycling shorts</td>\n",
       "      <td>clothing</td>\n",
       "      <td>999.0</td>\n",
       "      <td>379.0</td>\n",
       "      <td>key features of alisha solid women cycling sho...</td>\n",
       "      <td>62.1</td>\n",
       "      <td>3</td>\n",
       "      <td>2016</td>\n",
       "      <td>women clothing</td>\n",
       "      <td>lingeriesleepswimwear</td>\n",
       "      <td>shorts</td>\n",
       "    </tr>\n",
       "    <tr>\n",
       "      <th>1</th>\n",
       "      <td>fabhomedecor fabric double sofa bed</td>\n",
       "      <td>furniture</td>\n",
       "      <td>32157.0</td>\n",
       "      <td>22646.0</td>\n",
       "      <td>fabhomedecor fabric double sofa bedfinish colo...</td>\n",
       "      <td>29.6</td>\n",
       "      <td>3</td>\n",
       "      <td>2016</td>\n",
       "      <td>living room furniture</td>\n",
       "      <td>sofa bedsfutons</td>\n",
       "      <td>fabhomedecor fabric double sofa bedfinish colo</td>\n",
       "    </tr>\n",
       "    <tr>\n",
       "      <th>2</th>\n",
       "      <td>aw bellies</td>\n",
       "      <td>footwear</td>\n",
       "      <td>999.0</td>\n",
       "      <td>499.0</td>\n",
       "      <td>key features of aw bellies sandals wedges heel...</td>\n",
       "      <td>50.1</td>\n",
       "      <td>3</td>\n",
       "      <td>2016</td>\n",
       "      <td>women footwear</td>\n",
       "      <td>ballerinas</td>\n",
       "      <td>aw bellies</td>\n",
       "    </tr>\n",
       "    <tr>\n",
       "      <th>3</th>\n",
       "      <td>alisha solid women cycling shorts</td>\n",
       "      <td>clothing</td>\n",
       "      <td>699.0</td>\n",
       "      <td>267.0</td>\n",
       "      <td>key features of alisha solid women cycling sho...</td>\n",
       "      <td>61.8</td>\n",
       "      <td>3</td>\n",
       "      <td>2016</td>\n",
       "      <td>women clothing</td>\n",
       "      <td>lingeriesleepswimwear</td>\n",
       "      <td>shorts</td>\n",
       "    </tr>\n",
       "    <tr>\n",
       "      <th>4</th>\n",
       "      <td>sicons purpose arnica dog shampoo</td>\n",
       "      <td>pet supplies</td>\n",
       "      <td>220.0</td>\n",
       "      <td>210.0</td>\n",
       "      <td>specifications of sicons all purpose arnica do...</td>\n",
       "      <td>4.5</td>\n",
       "      <td>3</td>\n",
       "      <td>2016</td>\n",
       "      <td>grooming</td>\n",
       "      <td>skincoat care</td>\n",
       "      <td>shampoo</td>\n",
       "    </tr>\n",
       "  </tbody>\n",
       "</table>\n",
       "</div>"
      ],
      "text/plain": [
       "                          product_name Primary_Category  retail_price  \\\n",
       "0    alisha solid women cycling shorts         clothing         999.0   \n",
       "1  fabhomedecor fabric double sofa bed        furniture       32157.0   \n",
       "2                           aw bellies         footwear         999.0   \n",
       "3    alisha solid women cycling shorts         clothing         699.0   \n",
       "4    sicons purpose arnica dog shampoo     pet supplies         220.0   \n",
       "\n",
       "   discounted_price                                        description  \\\n",
       "0             379.0  key features of alisha solid women cycling sho...   \n",
       "1           22646.0  fabhomedecor fabric double sofa bedfinish colo...   \n",
       "2             499.0  key features of aw bellies sandals wedges heel...   \n",
       "3             267.0  key features of alisha solid women cycling sho...   \n",
       "4             210.0  specifications of sicons all purpose arnica do...   \n",
       "\n",
       "   Discount%  sale_month  sale_year     Secondary_Category  \\\n",
       "0       62.1           3       2016         women clothing   \n",
       "1       29.6           3       2016  living room furniture   \n",
       "2       50.1           3       2016         women footwear   \n",
       "3       61.8           3       2016         women clothing   \n",
       "4        4.5           3       2016               grooming   \n",
       "\n",
       "       Tertiary_Category                             Quaternary_Category  \n",
       "0  lingeriesleepswimwear                                          shorts  \n",
       "1        sofa bedsfutons  fabhomedecor fabric double sofa bedfinish colo  \n",
       "2             ballerinas                                      aw bellies  \n",
       "3  lingeriesleepswimwear                                          shorts  \n",
       "4          skincoat care                                         shampoo  "
      ]
     },
     "execution_count": 118,
     "metadata": {},
     "output_type": "execute_result"
    }
   ],
   "source": [
    "flipkart1_df.head()"
   ]
  },
  {
   "cell_type": "markdown",
   "metadata": {},
   "source": [
    "####  Save Clean Data"
   ]
  },
  {
   "cell_type": "code",
   "execution_count": 119,
   "metadata": {
    "scrolled": true
   },
   "outputs": [
    {
     "name": "stdout",
     "output_type": "stream",
     "text": [
      "clean data is saved on preprocessed_data.csv\n"
     ]
    }
   ],
   "source": [
    "#write clean data to new file\n",
    "flipkart1_df.to_csv('preprocessed_data.csv',index=False, encoding=\"utf-8\")\n",
    "print(\"clean data is saved on preprocessed_data.csv\")"
   ]
  },
  {
   "cell_type": "markdown",
   "metadata": {},
   "source": [
    "###  Loading Model"
   ]
  },
  {
   "cell_type": "code",
   "execution_count": 121,
   "metadata": {},
   "outputs": [
    {
     "name": "stdout",
     "output_type": "stream",
     "text": [
      "    appel du vide women sheath dressbuy red appel du vide women sheath dress for only rsonline in indiashop online for apparelshuge collection of branded clothes only at flipkart com  \\\n",
      "0                                                  0                                                                                                                                     \n",
      "1                                                  0                                                                                                                                     \n",
      "2                                                  0                                                                                                                                     \n",
      "3                                                  0                                                                                                                                     \n",
      "4                                                  0                                                                                                                                     \n",
      "\n",
      "    appel du vide women shift dressbuy black appel du vide women shift dress for only rsonline in indiashop online for apparelshuge collection of branded clothes only at flipkart com  \\\n",
      "0                                                  0                                                                                                                                     \n",
      "1                                                  0                                                                                                                                     \n",
      "2                                                  0                                                                                                                                     \n",
      "3                                                  0                                                                                                                                     \n",
      "4                                                  0                                                                                                                                     \n",
      "\n",
      "    appel du vide women shift dressbuy blue appel du vide women shift dress for only rsonline in indiashop online for apparelshuge collection of branded clothes only at flipkart com  \\\n",
      "0                                                  0                                                                                                                                    \n",
      "1                                                  0                                                                                                                                    \n",
      "2                                                  0                                                                                                                                    \n",
      "3                                                  0                                                                                                                                    \n",
      "4                                                  0                                                                                                                                    \n",
      "\n",
      "    appel du vide women shift dressbuy red appel du vide women shift dress for only rsonline in indiashop online for apparelshuge collection of branded clothes only at flipkart com  \\\n",
      "0                                                  0                                                                                                                                   \n",
      "1                                                  0                                                                                                                                   \n",
      "2                                                  0                                                                                                                                   \n",
      "3                                                  0                                                                                                                                   \n",
      "4                                                  0                                                                                                                                   \n",
      "\n",
      "    b cotton bath towelclassic printed bath towelsmulticolorpricersthis set of smoothluxury bath towels from the house of b ismust havein your bath linen collection\\nthis set of smoothluxury bath towels from the house of b ismust havein your bath linen collection  \\\n",
      "0                                                  0                                                                                                                                                                                                                      \n",
      "1                                                  0                                                                                                                                                                                                                      \n",
      "2                                                  0                                                                                                                                                                                                                      \n",
      "3                                                  0                                                                                                                                                                                                                      \n",
      "4                                                  0                                                                                                                                                                                                                      \n",
      "\n",
      "    b textiles casual solid women kurtibuy yellow b textiles casual solid women kurti for only rsonline in indiashop online for apparelshuge collection of branded clothes only at flipkart com  \\\n",
      "0                                                  0                                                                                                                                              \n",
      "1                                                  0                                                                                                                                              \n",
      "2                                                  0                                                                                                                                              \n",
      "3                                                  0                                                                                                                                              \n",
      "4                                                  0                                                                                                                                              \n",
      "\n",
      "    b textiles casual solid women kurtipricerspatanakrfab solid net on chest cotton printed kurtis\\npatanakrfab solid net on chest cotton printed kurtis  \\\n",
      "0                                                  0                                                                                                       \n",
      "1                                                  0                                                                                                       \n",
      "2                                                  0                                                                                                       \n",
      "3                                                  0                                                                                                       \n",
      "4                                                  0                                                                                                       \n",
      "\n",
      "    clothing women printed casual shirtbuy yellowm clothing women printed casual shirt for only rsonline in indiashop online for apparelshuge collection of branded clothes only at flipkart com  \\\n",
      "0                                                  0                                                                                                                                               \n",
      "1                                                  0                                                                                                                                               \n",
      "2                                                  0                                                                                                                                               \n",
      "3                                                  0                                                                                                                                               \n",
      "4                                                  0                                                                                                                                               \n",
      "\n",
      "    clothing women printed casual shirtpricersthis shirt stays extremely soft against the skinthis attractive shirt withcatchy print features pintucks on the yoke along with ruffled sleeves and band collarit will lend your daughter an adorable look when teamed with denimsthis shirt stays extremely soft against the skinthis attractive shirt withcatchy print features pintucks on the yoke along with ruffled sleeves and band collarit will lend your daughter an adorable look when teamed with denims  \\\n",
      "0                                                  0                                                                                                                                                                                                                                                                                                                                                                                                                                                                 \n",
      "1                                                  0                                                                                                                                                                                                                                                                                                                                                                                                                                                                 \n",
      "2                                                  0                                                                                                                                                                                                                                                                                                                                                                                                                                                                 \n",
      "3                                                  0                                                                                                                                                                                                                                                                                                                                                                                                                                                                 \n",
      "4                                                  0                                                                                                                                                                                                                                                                                                                                                                                                                                                                 \n",
      "\n",
      "    creations brass cubic zirconia yellow gold ringbuye creations brass cubic zirconia yellow gold ring only for rsfrom flipkart comonly genuine productsday replacement guaranteefree shippingcash on delivery  \\\n",
      "0                                                  0                                                                                                                                                              \n",
      "1                                                  0                                                                                                                                                              \n",
      "2                                                  0                                                                                                                                                              \n",
      "3                                                  0                                                                                                                                                              \n",
      "4                                                  0                                                                                                                                                              \n",
      "\n",
      "   ...  \\\n",
      "0  ...   \n",
      "1  ...   \n",
      "2  ...   \n",
      "3  ...   \n",
      "4  ...   \n",
      "\n",
      "   zotw women floral print casual shirtbuy cream zotw women floral print casual shirt for only rsonline in indiashop online for apparelshuge collection of branded clothes only at flipkart com  \\\n",
      "0                                                  0                                                                                                                                              \n",
      "1                                                  0                                                                                                                                              \n",
      "2                                                  0                                                                                                                                              \n",
      "3                                                  0                                                                                                                                              \n",
      "4                                                  0                                                                                                                                              \n",
      "\n",
      "   zovi high ankle zipper bootspricersleavelasting impression on everybodythese beautifully designed shoes are as exclusive as you arebrown casual shoeshigh anklecentral lace ups along with zipper on the sidetpr soleleather upper materialteam them withpair of denims and checkered shirt forstylish lookmaterialupperleathersoletpr weight gmsper shoeweight of the product may vary depending on size disclaimerslight color difference may appear in the physical product due to the nature of the material used in the product or lighting effectsleavelasting impression on everybodythese beautifully designed shoes are as exclusive as you arebrown casual shoeshigh anklecentral lace ups along with zipper on the sidetpr soleleather upper materialteam them withpair of denims and checkered shirt forstylish lookmaterialupperleathersoletpr weight gmsper shoeweight of the product may vary depending on size disclaimerslight color difference may appear in the physical product due to the nature of the material used in the product or lighting effects  \\\n",
      "0                                                  0                                                                                                                                                                                                                                                                                                                                                                                                                                                                                                                                                                                                                                                                                                                                                                                                                                                                                                                                                                                                                               \n",
      "1                                                  0                                                                                                                                                                                                                                                                                                                                                                                                                                                                                                                                                                                                                                                                                                                                                                                                                                                                                                                                                                                                                               \n",
      "2                                                  0                                                                                                                                                                                                                                                                                                                                                                                                                                                                                                                                                                                                                                                                                                                                                                                                                                                                                                                                                                                                                               \n",
      "3                                                  0                                                                                                                                                                                                                                                                                                                                                                                                                                                                                                                                                                                                                                                                                                                                                                                                                                                                                                                                                                                                                               \n",
      "4                                                  0                                                                                                                                                                                                                                                                                                                                                                                                                                                                                                                                                                                                                                                                                                                                                                                                                                                                                                                                                                                                                               \n",
      "\n",
      "   zovi regular fit men trouserspricersslip on this pair of classy trousers when you head to work forprofessional lookblack self striped formal trousers regular fitzippered flywaistband with belt loopstwo slant pockets on the sidestwo welt pockets at the back with buttoned closurematch this pair withstriped or checked shirt and brogues forsuave lookfabricpolyester viscose blend\\nslip on this pair of classy trousers when you head to work forprofessional lookblack self striped formal trousers regular fitzippered flywaistband with belt loopstwo slant pockets on the sidestwo welt pockets at the back with buttoned closurematch this pair withstriped or checked shirt and brogues forsuave lookfabricpolyester viscose blend  \\\n",
      "0                                                  0                                                                                                                                                                                                                                                                                                                                                                                                                                                                                                                                                                                                                                                                                                  \n",
      "1                                                  0                                                                                                                                                                                                                                                                                                                                                                                                                                                                                                                                                                                                                                                                                                  \n",
      "2                                                  0                                                                                                                                                                                                                                                                                                                                                                                                                                                                                                                                                                                                                                                                                                  \n",
      "3                                                  0                                                                                                                                                                                                                                                                                                                                                                                                                                                                                                                                                                                                                                                                                                  \n",
      "4                                                  0                                                                                                                                                                                                                                                                                                                                                                                                                                                                                                                                                                                                                                                                                                  \n",
      "\n",
      "   zovon metal necklacebuy zovon metal necklace only for rsfrom flipkart comonly genuine productsday replacement guaranteefree shippingcash on delivery  \\\n",
      "0                                                  0                                                                                                      \n",
      "1                                                  0                                                                                                      \n",
      "2                                                  0                                                                                                      \n",
      "3                                                  0                                                                                                      \n",
      "4                                                  0                                                                                                      \n",
      "\n",
      "   zovon plastic necklacebuy zovon plastic necklace only for rsfrom flipkart comonly genuine productsday replacement guaranteefree shippingcash on delivery  \\\n",
      "0                                                  0                                                                                                          \n",
      "1                                                  0                                                                                                          \n",
      "2                                                  0                                                                                                          \n",
      "3                                                  0                                                                                                          \n",
      "4                                                  0                                                                                                          \n",
      "\n",
      "   zoya jq zjq cmbnsolid color analog watch for girlswomenbuy zoya jq zjq cmbnsolid color analog watch for girlswomenzjq cmbnonline at rsin india only at flipkart com great discountsonly genuine productsday replacement guaranteefree shippingcash on delivery  \\\n",
      "0                                                  0                                                                                                                                                                                                                \n",
      "1                                                  0                                                                                                                                                                                                                \n",
      "2                                                  0                                                                                                                                                                                                                \n",
      "3                                                  0                                                                                                                                                                                                                \n",
      "4                                                  0                                                                                                                                                                                                                \n",
      "\n",
      "   zoysia casualsleeve solid women toppricerszoysia premium wear denim top for womenmade from authentic denimusing the most advanced precision cut technology it gives youfeather soft touchfeel withperfect fit and all day long comfortzoysia premium wear denim top for womenmade from authentic denimusing the most advanced precision cut technology it gives youfeather soft touchfeel withperfect fit and all day long comfort  \\\n",
      "0                                                  0                                                                                                                                                                                                                                                                                                                                                                                    \n",
      "1                                                  0                                                                                                                                                                                                                                                                                                                                                                                    \n",
      "2                                                  0                                                                                                                                                                                                                                                                                                                                                                                    \n",
      "3                                                  0                                                                                                                                                                                                                                                                                                                                                                                    \n",
      "4                                                  0                                                                                                                                                                                                                                                                                                                                                                                    \n",
      "\n",
      "   zrestha full sleeve printed men sweatshirtbuy green zrestha full sleeve printed men sweatshirt for only rsonline in indiashop online for apparelshuge collection of branded clothes only at flipkart com  \\\n",
      "0                                                  0                                                                                                                                                          \n",
      "1                                                  0                                                                                                                                                          \n",
      "2                                                  0                                                                                                                                                          \n",
      "3                                                  0                                                                                                                                                          \n",
      "4                                                  0                                                                                                                                                          \n",
      "\n",
      "   zwart clinrov medium backpackgreysizepricersgreen and black rucksackhas adjustable shoulder strap with branding at frontstress points reinforced for durabilityideal for traveltrek and outdoors\\ngreen and black rucksackhas adjustable shoulder strap with branding at frontstress points reinforced for durabilityideal for traveltrek and outdoors  \\\n",
      "0                                                  0                                                                                                                                                                                                                                                                                                        \n",
      "1                                                  0                                                                                                                                                                                                                                                                                                        \n",
      "2                                                  0                                                                                                                                                                                                                                                                                                        \n",
      "3                                                  0                                                                                                                                                                                                                                                                                                        \n",
      "4                                                  0                                                                                                                                                                                                                                                                                                        \n",
      "\n",
      "   zwart ryker medium backpackyellowsizepricersthis backpack from zwart is spacious withcompartments andpocketswith vibrant colour combination this bag is no less in styleideal for casual work college usagemay also be suitable as school bag\\nthis backpack from zwart is spacious withcompartments andpocketswith vibrant colour combination this bag is no less in styleideal for casual work college usagemay also be suitable as school bag  \n",
      "0                                                  0                                                                                                                                                                                                                                                                                                                                                                                                 \n",
      "1                                                  0                                                                                                                                                                                                                                                                                                                                                                                                 \n",
      "2                                                  0                                                                                                                                                                                                                                                                                                                                                                                                 \n",
      "3                                                  0                                                                                                                                                                                                                                                                                                                                                                                                 \n",
      "4                                                  0                                                                                                                                                                                                                                                                                                                                                                                                 \n",
      "\n",
      "[5 rows x 14957 columns]\n"
     ]
    }
   ],
   "source": [
    "from sklearn.linear_model import LogisticRegression\n",
    "\n",
    "X = flipkart1_df['Primary_Category']\n",
    "y = flipkart1_df['description']\n",
    "one_hot_encoded_label = pd.get_dummies(y)\n",
    "print(one_hot_encoded_label.head())"
   ]
  },
  {
   "cell_type": "markdown",
   "metadata": {},
   "source": [
    "# 3. DATA VISUALIZATION"
   ]
  },
  {
   "cell_type": "code",
   "execution_count": 122,
   "metadata": {},
   "outputs": [
    {
     "data": {
      "text/html": [
       "<div>\n",
       "<style scoped>\n",
       "    .dataframe tbody tr th:only-of-type {\n",
       "        vertical-align: middle;\n",
       "    }\n",
       "\n",
       "    .dataframe tbody tr th {\n",
       "        vertical-align: top;\n",
       "    }\n",
       "\n",
       "    .dataframe thead th {\n",
       "        text-align: right;\n",
       "    }\n",
       "</style>\n",
       "<table border=\"1\" class=\"dataframe\">\n",
       "  <thead>\n",
       "    <tr style=\"text-align: right;\">\n",
       "      <th></th>\n",
       "      <th>product_name</th>\n",
       "      <th>Primary_Category</th>\n",
       "      <th>retail_price</th>\n",
       "      <th>discounted_price</th>\n",
       "      <th>description</th>\n",
       "      <th>Discount%</th>\n",
       "      <th>sale_month</th>\n",
       "      <th>sale_year</th>\n",
       "      <th>Secondary_Category</th>\n",
       "      <th>Tertiary_Category</th>\n",
       "      <th>Quaternary_Category</th>\n",
       "    </tr>\n",
       "  </thead>\n",
       "  <tbody>\n",
       "    <tr>\n",
       "      <th>0</th>\n",
       "      <td>alisha solid women cycling shorts</td>\n",
       "      <td>clothing</td>\n",
       "      <td>999.0</td>\n",
       "      <td>379.0</td>\n",
       "      <td>key features of alisha solid women cycling sho...</td>\n",
       "      <td>62.1</td>\n",
       "      <td>3</td>\n",
       "      <td>2016</td>\n",
       "      <td>women clothing</td>\n",
       "      <td>lingeriesleepswimwear</td>\n",
       "      <td>shorts</td>\n",
       "    </tr>\n",
       "    <tr>\n",
       "      <th>1</th>\n",
       "      <td>fabhomedecor fabric double sofa bed</td>\n",
       "      <td>furniture</td>\n",
       "      <td>32157.0</td>\n",
       "      <td>22646.0</td>\n",
       "      <td>fabhomedecor fabric double sofa bedfinish colo...</td>\n",
       "      <td>29.6</td>\n",
       "      <td>3</td>\n",
       "      <td>2016</td>\n",
       "      <td>living room furniture</td>\n",
       "      <td>sofa bedsfutons</td>\n",
       "      <td>fabhomedecor fabric double sofa bedfinish colo</td>\n",
       "    </tr>\n",
       "    <tr>\n",
       "      <th>2</th>\n",
       "      <td>aw bellies</td>\n",
       "      <td>footwear</td>\n",
       "      <td>999.0</td>\n",
       "      <td>499.0</td>\n",
       "      <td>key features of aw bellies sandals wedges heel...</td>\n",
       "      <td>50.1</td>\n",
       "      <td>3</td>\n",
       "      <td>2016</td>\n",
       "      <td>women footwear</td>\n",
       "      <td>ballerinas</td>\n",
       "      <td>aw bellies</td>\n",
       "    </tr>\n",
       "    <tr>\n",
       "      <th>3</th>\n",
       "      <td>alisha solid women cycling shorts</td>\n",
       "      <td>clothing</td>\n",
       "      <td>699.0</td>\n",
       "      <td>267.0</td>\n",
       "      <td>key features of alisha solid women cycling sho...</td>\n",
       "      <td>61.8</td>\n",
       "      <td>3</td>\n",
       "      <td>2016</td>\n",
       "      <td>women clothing</td>\n",
       "      <td>lingeriesleepswimwear</td>\n",
       "      <td>shorts</td>\n",
       "    </tr>\n",
       "    <tr>\n",
       "      <th>4</th>\n",
       "      <td>sicons purpose arnica dog shampoo</td>\n",
       "      <td>pet supplies</td>\n",
       "      <td>220.0</td>\n",
       "      <td>210.0</td>\n",
       "      <td>specifications of sicons all purpose arnica do...</td>\n",
       "      <td>4.5</td>\n",
       "      <td>3</td>\n",
       "      <td>2016</td>\n",
       "      <td>grooming</td>\n",
       "      <td>skincoat care</td>\n",
       "      <td>shampoo</td>\n",
       "    </tr>\n",
       "  </tbody>\n",
       "</table>\n",
       "</div>"
      ],
      "text/plain": [
       "                          product_name Primary_Category  retail_price  \\\n",
       "0    alisha solid women cycling shorts         clothing         999.0   \n",
       "1  fabhomedecor fabric double sofa bed        furniture       32157.0   \n",
       "2                           aw bellies         footwear         999.0   \n",
       "3    alisha solid women cycling shorts         clothing         699.0   \n",
       "4    sicons purpose arnica dog shampoo     pet supplies         220.0   \n",
       "\n",
       "   discounted_price                                        description  \\\n",
       "0             379.0  key features of alisha solid women cycling sho...   \n",
       "1           22646.0  fabhomedecor fabric double sofa bedfinish colo...   \n",
       "2             499.0  key features of aw bellies sandals wedges heel...   \n",
       "3             267.0  key features of alisha solid women cycling sho...   \n",
       "4             210.0  specifications of sicons all purpose arnica do...   \n",
       "\n",
       "   Discount%  sale_month  sale_year     Secondary_Category  \\\n",
       "0       62.1           3       2016         women clothing   \n",
       "1       29.6           3       2016  living room furniture   \n",
       "2       50.1           3       2016         women footwear   \n",
       "3       61.8           3       2016         women clothing   \n",
       "4        4.5           3       2016               grooming   \n",
       "\n",
       "       Tertiary_Category                             Quaternary_Category  \n",
       "0  lingeriesleepswimwear                                          shorts  \n",
       "1        sofa bedsfutons  fabhomedecor fabric double sofa bedfinish colo  \n",
       "2             ballerinas                                      aw bellies  \n",
       "3  lingeriesleepswimwear                                          shorts  \n",
       "4          skincoat care                                         shampoo  "
      ]
     },
     "execution_count": 122,
     "metadata": {},
     "output_type": "execute_result"
    }
   ],
   "source": [
    "# Head of our Dataframe\n",
    "flipkart1_df.head()"
   ]
  },
  {
   "cell_type": "markdown",
   "metadata": {},
   "source": [
    "#### AIM 1 : THE COSTLIEST PRODUCT"
   ]
  },
  {
   "cell_type": "code",
   "execution_count": 123,
   "metadata": {},
   "outputs": [
    {
     "name": "stdout",
     "output_type": "stream",
     "text": [
      "The costliest product sold is Rs.571230\n"
     ]
    }
   ],
   "source": [
    "print(\"The costliest product sold is Rs.{}\".format(int(flipkart1_df['discounted_price'].max())))"
   ]
  },
  {
   "cell_type": "code",
   "execution_count": 124,
   "metadata": {},
   "outputs": [
    {
     "data": {
      "text/html": [
       "<div>\n",
       "<style scoped>\n",
       "    .dataframe tbody tr th:only-of-type {\n",
       "        vertical-align: middle;\n",
       "    }\n",
       "\n",
       "    .dataframe tbody tr th {\n",
       "        vertical-align: top;\n",
       "    }\n",
       "\n",
       "    .dataframe thead th {\n",
       "        text-align: right;\n",
       "    }\n",
       "</style>\n",
       "<table border=\"1\" class=\"dataframe\">\n",
       "  <thead>\n",
       "    <tr style=\"text-align: right;\">\n",
       "      <th></th>\n",
       "      <th>product_name</th>\n",
       "      <th>Primary_Category</th>\n",
       "      <th>retail_price</th>\n",
       "      <th>discounted_price</th>\n",
       "      <th>description</th>\n",
       "      <th>Discount%</th>\n",
       "      <th>sale_month</th>\n",
       "      <th>sale_year</th>\n",
       "      <th>Secondary_Category</th>\n",
       "      <th>Tertiary_Category</th>\n",
       "      <th>Quaternary_Category</th>\n",
       "    </tr>\n",
       "  </thead>\n",
       "  <tbody>\n",
       "    <tr>\n",
       "      <th>116</th>\n",
       "      <td>breitling ab bbchronomatanalog watch boysmen</td>\n",
       "      <td>watches</td>\n",
       "      <td>571230.0</td>\n",
       "      <td>571230.0</td>\n",
       "      <td>breitling ab bbchronomatanalog watch for boysm...</td>\n",
       "      <td>0.0</td>\n",
       "      <td>12</td>\n",
       "      <td>2015</td>\n",
       "      <td>wrist watches</td>\n",
       "      <td>breitling wrist watches</td>\n",
       "      <td></td>\n",
       "    </tr>\n",
       "  </tbody>\n",
       "</table>\n",
       "</div>"
      ],
      "text/plain": [
       "                                     product_name Primary_Category  \\\n",
       "116  breitling ab bbchronomatanalog watch boysmen          watches   \n",
       "\n",
       "     retail_price  discounted_price  \\\n",
       "116      571230.0          571230.0   \n",
       "\n",
       "                                           description  Discount%  sale_month  \\\n",
       "116  breitling ab bbchronomatanalog watch for boysm...        0.0          12   \n",
       "\n",
       "     sale_year Secondary_Category        Tertiary_Category Quaternary_Category  \n",
       "116       2015      wrist watches  breitling wrist watches                      "
      ]
     },
     "execution_count": 124,
     "metadata": {},
     "output_type": "execute_result"
    }
   ],
   "source": [
    "flipkart1_df[flipkart1_df['discounted_price'] == flipkart1_df['discounted_price'].max()]"
   ]
  },
  {
   "cell_type": "markdown",
   "metadata": {},
   "source": [
    "#### AIM 2 : THE CHEAPEST PRODUCT SOLD"
   ]
  },
  {
   "cell_type": "code",
   "execution_count": 125,
   "metadata": {},
   "outputs": [
    {
     "name": "stdout",
     "output_type": "stream",
     "text": [
      "The cheapest product sold is Rs.35\n"
     ]
    }
   ],
   "source": [
    "print(\"The cheapest product sold is Rs.{}\".format(int(flipkart1_df['discounted_price'].min())))"
   ]
  },
  {
   "cell_type": "code",
   "execution_count": 126,
   "metadata": {},
   "outputs": [
    {
     "data": {
      "text/html": [
       "<div>\n",
       "<style scoped>\n",
       "    .dataframe tbody tr th:only-of-type {\n",
       "        vertical-align: middle;\n",
       "    }\n",
       "\n",
       "    .dataframe tbody tr th {\n",
       "        vertical-align: top;\n",
       "    }\n",
       "\n",
       "    .dataframe thead th {\n",
       "        text-align: right;\n",
       "    }\n",
       "</style>\n",
       "<table border=\"1\" class=\"dataframe\">\n",
       "  <thead>\n",
       "    <tr style=\"text-align: right;\">\n",
       "      <th></th>\n",
       "      <th>product_name</th>\n",
       "      <th>Primary_Category</th>\n",
       "      <th>retail_price</th>\n",
       "      <th>discounted_price</th>\n",
       "      <th>description</th>\n",
       "      <th>Discount%</th>\n",
       "      <th>sale_month</th>\n",
       "      <th>sale_year</th>\n",
       "      <th>Secondary_Category</th>\n",
       "      <th>Tertiary_Category</th>\n",
       "      <th>Quaternary_Category</th>\n",
       "    </tr>\n",
       "  </thead>\n",
       "  <tbody>\n",
       "    <tr>\n",
       "      <th>10554</th>\n",
       "      <td>geol wooden wet dry broom</td>\n",
       "      <td>kitchendining</td>\n",
       "      <td>35.0</td>\n",
       "      <td>35.0</td>\n",
       "      <td>specifications of geol wooden wet and dry broo...</td>\n",
       "      <td>0.0</td>\n",
       "      <td>4</td>\n",
       "      <td>2016</td>\n",
       "      <td>housekeepinglaundry</td>\n",
       "      <td>home cleaning</td>\n",
       "      <td>broomsbrushes</td>\n",
       "    </tr>\n",
       "  </tbody>\n",
       "</table>\n",
       "</div>"
      ],
      "text/plain": [
       "                    product_name Primary_Category  retail_price  \\\n",
       "10554  geol wooden wet dry broom    kitchendining          35.0   \n",
       "\n",
       "       discounted_price                                        description  \\\n",
       "10554              35.0  specifications of geol wooden wet and dry broo...   \n",
       "\n",
       "       Discount%  sale_month  sale_year   Secondary_Category  \\\n",
       "10554        0.0           4       2016  housekeepinglaundry   \n",
       "\n",
       "      Tertiary_Category Quaternary_Category  \n",
       "10554     home cleaning       broomsbrushes  "
      ]
     },
     "execution_count": 126,
     "metadata": {},
     "output_type": "execute_result"
    }
   ],
   "source": [
    "flipkart1_df[flipkart1_df['discounted_price'] == flipkart1_df['discounted_price'].min()]"
   ]
  },
  {
   "cell_type": "markdown",
   "metadata": {},
   "source": [
    "#### AIM 3 : THE PRODUCT SOLD AT HIGHEST DISCOUNT"
   ]
  },
  {
   "cell_type": "code",
   "execution_count": 127,
   "metadata": {},
   "outputs": [
    {
     "name": "stdout",
     "output_type": "stream",
     "text": [
      "The highest discounted product sold at 96%\n"
     ]
    }
   ],
   "source": [
    "print(\"The highest discounted product sold at {}%\".format(int(flipkart1_df['Discount%'].max())))"
   ]
  },
  {
   "cell_type": "code",
   "execution_count": 128,
   "metadata": {},
   "outputs": [
    {
     "data": {
      "text/html": [
       "<div>\n",
       "<style scoped>\n",
       "    .dataframe tbody tr th:only-of-type {\n",
       "        vertical-align: middle;\n",
       "    }\n",
       "\n",
       "    .dataframe tbody tr th {\n",
       "        vertical-align: top;\n",
       "    }\n",
       "\n",
       "    .dataframe thead th {\n",
       "        text-align: right;\n",
       "    }\n",
       "</style>\n",
       "<table border=\"1\" class=\"dataframe\">\n",
       "  <thead>\n",
       "    <tr style=\"text-align: right;\">\n",
       "      <th></th>\n",
       "      <th>product_name</th>\n",
       "      <th>Primary_Category</th>\n",
       "      <th>retail_price</th>\n",
       "      <th>discounted_price</th>\n",
       "      <th>description</th>\n",
       "      <th>Discount%</th>\n",
       "      <th>sale_month</th>\n",
       "      <th>sale_year</th>\n",
       "      <th>Secondary_Category</th>\n",
       "      <th>Tertiary_Category</th>\n",
       "      <th>Quaternary_Category</th>\n",
       "    </tr>\n",
       "  </thead>\n",
       "  <tbody>\n",
       "    <tr>\n",
       "      <th>17205</th>\n",
       "      <td>rajcrafts floral double quiltscomforters white</td>\n",
       "      <td>home furnishing</td>\n",
       "      <td>6000.0</td>\n",
       "      <td>208.0</td>\n",
       "      <td>rajcrafts floral double quiltscomforters white...</td>\n",
       "      <td>96.5</td>\n",
       "      <td>12</td>\n",
       "      <td>2015</td>\n",
       "      <td>bed linen</td>\n",
       "      <td>blanketsquiltsdohars</td>\n",
       "      <td></td>\n",
       "    </tr>\n",
       "  </tbody>\n",
       "</table>\n",
       "</div>"
      ],
      "text/plain": [
       "                                         product_name Primary_Category  \\\n",
       "17205  rajcrafts floral double quiltscomforters white  home furnishing   \n",
       "\n",
       "       retail_price  discounted_price  \\\n",
       "17205        6000.0             208.0   \n",
       "\n",
       "                                             description  Discount%  \\\n",
       "17205  rajcrafts floral double quiltscomforters white...       96.5   \n",
       "\n",
       "       sale_month  sale_year Secondary_Category     Tertiary_Category  \\\n",
       "17205          12       2015          bed linen  blanketsquiltsdohars   \n",
       "\n",
       "      Quaternary_Category  \n",
       "17205                      "
      ]
     },
     "execution_count": 128,
     "metadata": {},
     "output_type": "execute_result"
    }
   ],
   "source": [
    "flipkart1_df[flipkart1_df['Discount%'] == flipkart1_df['Discount%'].max()]"
   ]
  },
  {
   "cell_type": "markdown",
   "metadata": {},
   "source": [
    "#### AIM 4 : PER CATEGORY DISCOUNT PROVIDED"
   ]
  },
  {
   "cell_type": "code",
   "execution_count": 129,
   "metadata": {},
   "outputs": [],
   "source": [
    "product_categories = flipkart1_df['Primary_Category'].value_counts()"
   ]
  },
  {
   "cell_type": "code",
   "execution_count": 130,
   "metadata": {},
   "outputs": [],
   "source": [
    "product_categories = product_categories[:15]\n"
   ]
  },
  {
   "cell_type": "code",
   "execution_count": 131,
   "metadata": {},
   "outputs": [
    {
     "data": {
      "text/plain": [
       "Text(-0.9, 1.25, 'PIE Diagram for TOP 15 PRODUCT CATEGORIES')"
      ]
     },
     "execution_count": 131,
     "metadata": {},
     "output_type": "execute_result"
    },
    {
     "data": {
      "image/png": "[encoded data removed]",
      "text/plain": [
       "<Figure size 720x720 with 1 Axes>"
      ]
     },
     "metadata": {},
     "output_type": "display_data"
    }
   ],
   "source": [
    "plt.figure(figsize=(10,10))\n",
    "product_categories.plot.pie(y = product_categories.index, autopct='%1.1f%%')\n",
    "plt.ylabel('')\n",
    "plt.axis('equal')\n",
    "plt.tight_layout()\n",
    "plt.text(-0.9,1.25,'PIE Diagram for TOP 15 PRODUCT CATEGORIES', fontsize=20)"
   ]
  },
  {
   "cell_type": "code",
   "execution_count": 132,
   "metadata": {},
   "outputs": [],
   "source": [
    "# Creating a Dataframe with grouping the categories to allocate mean and count using aggregate function\n",
    "Primary_Category_Discounts = pd.DataFrame(flipkart1_df.groupby('Primary_Category').agg({\n",
    "    'Discount%': [np.mean],\n",
    "    'Primary_Category': ['count']\n",
    "}))\n",
    "\n",
    "Secondary_Category_Discounts = pd.DataFrame(flipkart1_df.groupby('Secondary_Category').agg({\n",
    "    'Discount%': [np.mean],\n",
    "    'Secondary_Category': ['count']\n",
    "}))\n",
    "\n",
    "Tertiary_Category_Discounts = pd.DataFrame(flipkart1_df.groupby('Tertiary_Category').agg({\n",
    "    'Discount%': [np.mean],\n",
    "    'Tertiary_Category': ['count']\n",
    "}))\n",
    "\n",
    "Quaternary_Category_Discounts = pd.DataFrame(flipkart1_df.groupby('Quaternary_Category').agg({\n",
    "    'Discount%': [np.mean],\n",
    "    'Quaternary_Category': ['count']\n",
    "}))"
   ]
  },
  {
   "cell_type": "code",
   "execution_count": 133,
   "metadata": {},
   "outputs": [
    {
     "data": {
      "text/html": [
       "<div>\n",
       "<style scoped>\n",
       "    .dataframe tbody tr th:only-of-type {\n",
       "        vertical-align: middle;\n",
       "    }\n",
       "\n",
       "    .dataframe tbody tr th {\n",
       "        vertical-align: top;\n",
       "    }\n",
       "\n",
       "    .dataframe thead tr th {\n",
       "        text-align: left;\n",
       "    }\n",
       "\n",
       "    .dataframe thead tr:last-of-type th {\n",
       "        text-align: right;\n",
       "    }\n",
       "</style>\n",
       "<table border=\"1\" class=\"dataframe\">\n",
       "  <thead>\n",
       "    <tr>\n",
       "      <th></th>\n",
       "      <th>Discount%</th>\n",
       "      <th>Primary_Category</th>\n",
       "    </tr>\n",
       "    <tr>\n",
       "      <th></th>\n",
       "      <th>mean</th>\n",
       "      <th>count</th>\n",
       "    </tr>\n",
       "    <tr>\n",
       "      <th>Primary_Category</th>\n",
       "      <th></th>\n",
       "      <th></th>\n",
       "    </tr>\n",
       "  </thead>\n",
       "  <tbody>\n",
       "    <tr>\n",
       "      <th>abeez boysmengirlsblackpack</th>\n",
       "      <td>27.6</td>\n",
       "      <td>1</td>\n",
       "    </tr>\n",
       "    <tr>\n",
       "      <th>abhinl fashion cotton printed semi stitched salw</th>\n",
       "      <td>61.6</td>\n",
       "      <td>1</td>\n",
       "    </tr>\n",
       "    <tr>\n",
       "      <th>adidas ind pro thi gua thigh guardwhiteblue</th>\n",
       "      <td>0.0</td>\n",
       "      <td>1</td>\n",
       "    </tr>\n",
       "    <tr>\n",
       "      <th>ajaero slim fit women dark blue jeans</th>\n",
       "      <td>55.0</td>\n",
       "      <td>2</td>\n",
       "    </tr>\n",
       "    <tr>\n",
       "      <th>amita home furnishing cotton floral single bedsh</th>\n",
       "      <td>50.1</td>\n",
       "      <td>1</td>\n",
       "    </tr>\n",
       "  </tbody>\n",
       "</table>\n",
       "</div>"
      ],
      "text/plain": [
       "                                                 Discount% Primary_Category\n",
       "                                                      mean            count\n",
       "Primary_Category                                                           \n",
       "abeez boysmengirlsblackpack                           27.6                1\n",
       "abhinl fashion cotton printed semi stitched salw      61.6                1\n",
       "adidas ind pro thi gua thigh guardwhiteblue            0.0                1\n",
       "ajaero slim fit women dark blue jeans                 55.0                2\n",
       "amita home furnishing cotton floral single bedsh      50.1                1"
      ]
     },
     "execution_count": 133,
     "metadata": {},
     "output_type": "execute_result"
    }
   ],
   "source": [
    "Primary_Category_Discounts.head()"
   ]
  },
  {
   "cell_type": "markdown",
   "metadata": {},
   "source": [
    "#### I am clubbing the multiindex for visualization"
   ]
  },
  {
   "cell_type": "code",
   "execution_count": 134,
   "metadata": {},
   "outputs": [],
   "source": [
    "# Using a loop I will club Multi Index and Reset the Index\n",
    "disc_cate = [Primary_Category_Discounts, Secondary_Category_Discounts,\n",
    "           Tertiary_Category_Discounts, Quaternary_Category_Discounts]\n",
    "for i in disc_cate:\n",
    "    i.columns = ['-'.join(col) for col in i.columns]\n",
    "    i.reset_index(inplace=True)"
   ]
  },
  {
   "cell_type": "code",
   "execution_count": 135,
   "metadata": {},
   "outputs": [],
   "source": [
    "# Let us Consider top 15 categories from every Categories\n",
    "# Lets sort by Category Count\n",
    "Primary_Category_Discounts = Primary_Category_Discounts.sort_values(by='Primary_Category-count', ascending=False)[:15]\n",
    "Secondary_Category_Discounts = Secondary_Category_Discounts.sort_values(by='Secondary_Category-count', ascending=False)[:15]\n",
    "Tertiary_Category_Discounts = Tertiary_Category_Discounts.sort_values(by='Tertiary_Category-count', ascending=False)[:15]\n",
    "Quaternary_Category_Discounts = Quaternary_Category_Discounts.sort_values(by='Quaternary_Category-count', ascending=False)[:15]"
   ]
  },
  {
   "cell_type": "code",
   "execution_count": 136,
   "metadata": {},
   "outputs": [],
   "source": [
    "# Lets sort the values by Discounts Now\n",
    "Primary_Category_Discounts = Primary_Category_Discounts.sort_values('Discount%-mean', ascending=False)\n",
    "Secondary_Category_Discounts = Secondary_Category_Discounts.sort_values('Discount%-mean', ascending=False)\n",
    "Tertiary_Category_Discounts = Tertiary_Category_Discounts.sort_values('Discount%-mean', ascending=False)\n",
    "Quaternary_Category_Discounts = Quaternary_Category_Discounts.sort_values('Discount%-mean', ascending=False)"
   ]
  },
  {
   "cell_type": "code",
   "execution_count": 137,
   "metadata": {},
   "outputs": [
    {
     "data": {
      "text/plain": [
       "<AxesSubplot:title={'center':'Primary Category Discount%'}, xlabel='Discount%-mean', ylabel='Primary_Category'>"
      ]
     },
     "execution_count": 137,
     "metadata": {},
     "output_type": "execute_result"
    },
    {
     "data": {
      "image/png": "[encoded data removed]",
      "text/plain": [
       "<Figure size 1008x432 with 1 Axes>"
      ]
     },
     "metadata": {
      "needs_background": "light"
     },
     "output_type": "display_data"
    }
   ],
   "source": [
    "plt.figure(figsize=(14,6))\n",
    "plt.title('Primary Category Discount%', fontsize=20)\n",
    "sns.barplot(Primary_Category_Discounts['Discount%-mean'], Primary_Category_Discounts['Primary_Category'], alpha = 0.75)"
   ]
  },
  {
   "cell_type": "code",
   "execution_count": 138,
   "metadata": {},
   "outputs": [
    {
     "data": {
      "text/plain": [
       "<AxesSubplot:title={'center':'Secondary Category Discount%'}, xlabel='Discount%-mean', ylabel='Secondary_Category'>"
      ]
     },
     "execution_count": 138,
     "metadata": {},
     "output_type": "execute_result"
    },
    {
     "data": {
      "image/png": "[encoded data removed]",
      "text/plain": [
       "<Figure size 1008x432 with 1 Axes>"
      ]
     },
     "metadata": {
      "needs_background": "light"
     },
     "output_type": "display_data"
    }
   ],
   "source": [
    "plt.figure(figsize=(14,6))\n",
    "plt.title('Secondary Category Discount%', fontsize=20)\n",
    "sns.barplot(Secondary_Category_Discounts['Discount%-mean'], Secondary_Category_Discounts['Secondary_Category'], alpha = 0.75)"
   ]
  },
  {
   "cell_type": "code",
   "execution_count": 139,
   "metadata": {},
   "outputs": [
    {
     "data": {
      "text/plain": [
       "<AxesSubplot:title={'center':'Tertiary Category Discount%'}, xlabel='Discount%-mean', ylabel='Tertiary_Category'>"
      ]
     },
     "execution_count": 139,
     "metadata": {},
     "output_type": "execute_result"
    },
    {
     "data": {
      "image/png": "[encoded data removed]",
      "text/plain": [
       "<Figure size 1008x432 with 1 Axes>"
      ]
     },
     "metadata": {
      "needs_background": "light"
     },
     "output_type": "display_data"
    }
   ],
   "source": [
    "plt.figure(figsize=(14,6))\n",
    "plt.title('Tertiary Category Discount%', fontsize=20)\n",
    "sns.barplot(Tertiary_Category_Discounts['Discount%-mean'], Tertiary_Category_Discounts['Tertiary_Category'], alpha = 0.75)"
   ]
  },
  {
   "cell_type": "code",
   "execution_count": 140,
   "metadata": {},
   "outputs": [
    {
     "data": {
      "text/plain": [
       "<AxesSubplot:title={'center':'Quaternary Category Discount%'}, xlabel='Discount%-mean', ylabel='Quaternary_Category'>"
      ]
     },
     "execution_count": 140,
     "metadata": {},
     "output_type": "execute_result"
    },
    {
     "data": {
      "image/png": "[encoded data removed]",
      "text/plain": [
       "<Figure size 1008x432 with 1 Axes>"
      ]
     },
     "metadata": {
      "needs_background": "light"
     },
     "output_type": "display_data"
    }
   ],
   "source": [
    "plt.figure(figsize=(14,6))\n",
    "plt.title('Quaternary Category Discount%', fontsize=20)\n",
    "sns.barplot(Quaternary_Category_Discounts['Discount%-mean'], Quaternary_Category_Discounts['Quaternary_Category'], alpha = 0.75)"
   ]
  },
  {
   "cell_type": "markdown",
   "metadata": {},
   "source": [
    "#### AIM 5 : SALES DISTRIBUTION ACROSS TIME PERIOD"
   ]
  },
  {
   "cell_type": "code",
   "execution_count": 141,
   "metadata": {},
   "outputs": [
    {
     "data": {
      "text/html": [
       "<div>\n",
       "<style scoped>\n",
       "    .dataframe tbody tr th:only-of-type {\n",
       "        vertical-align: middle;\n",
       "    }\n",
       "\n",
       "    .dataframe tbody tr th {\n",
       "        vertical-align: top;\n",
       "    }\n",
       "\n",
       "    .dataframe thead th {\n",
       "        text-align: right;\n",
       "    }\n",
       "</style>\n",
       "<table border=\"1\" class=\"dataframe\">\n",
       "  <thead>\n",
       "    <tr style=\"text-align: right;\">\n",
       "      <th></th>\n",
       "      <th>product_name</th>\n",
       "      <th>Primary_Category</th>\n",
       "      <th>retail_price</th>\n",
       "      <th>discounted_price</th>\n",
       "      <th>description</th>\n",
       "      <th>Discount%</th>\n",
       "      <th>sale_month</th>\n",
       "      <th>sale_year</th>\n",
       "      <th>Secondary_Category</th>\n",
       "      <th>Tertiary_Category</th>\n",
       "      <th>Quaternary_Category</th>\n",
       "    </tr>\n",
       "  </thead>\n",
       "  <tbody>\n",
       "    <tr>\n",
       "      <th>0</th>\n",
       "      <td>alisha solid women cycling shorts</td>\n",
       "      <td>clothing</td>\n",
       "      <td>999.0</td>\n",
       "      <td>379.0</td>\n",
       "      <td>key features of alisha solid women cycling sho...</td>\n",
       "      <td>62.1</td>\n",
       "      <td>3</td>\n",
       "      <td>2016</td>\n",
       "      <td>women clothing</td>\n",
       "      <td>lingeriesleepswimwear</td>\n",
       "      <td>shorts</td>\n",
       "    </tr>\n",
       "    <tr>\n",
       "      <th>1</th>\n",
       "      <td>fabhomedecor fabric double sofa bed</td>\n",
       "      <td>furniture</td>\n",
       "      <td>32157.0</td>\n",
       "      <td>22646.0</td>\n",
       "      <td>fabhomedecor fabric double sofa bedfinish colo...</td>\n",
       "      <td>29.6</td>\n",
       "      <td>3</td>\n",
       "      <td>2016</td>\n",
       "      <td>living room furniture</td>\n",
       "      <td>sofa bedsfutons</td>\n",
       "      <td>fabhomedecor fabric double sofa bedfinish colo</td>\n",
       "    </tr>\n",
       "    <tr>\n",
       "      <th>2</th>\n",
       "      <td>aw bellies</td>\n",
       "      <td>footwear</td>\n",
       "      <td>999.0</td>\n",
       "      <td>499.0</td>\n",
       "      <td>key features of aw bellies sandals wedges heel...</td>\n",
       "      <td>50.1</td>\n",
       "      <td>3</td>\n",
       "      <td>2016</td>\n",
       "      <td>women footwear</td>\n",
       "      <td>ballerinas</td>\n",
       "      <td>aw bellies</td>\n",
       "    </tr>\n",
       "    <tr>\n",
       "      <th>3</th>\n",
       "      <td>alisha solid women cycling shorts</td>\n",
       "      <td>clothing</td>\n",
       "      <td>699.0</td>\n",
       "      <td>267.0</td>\n",
       "      <td>key features of alisha solid women cycling sho...</td>\n",
       "      <td>61.8</td>\n",
       "      <td>3</td>\n",
       "      <td>2016</td>\n",
       "      <td>women clothing</td>\n",
       "      <td>lingeriesleepswimwear</td>\n",
       "      <td>shorts</td>\n",
       "    </tr>\n",
       "    <tr>\n",
       "      <th>4</th>\n",
       "      <td>sicons purpose arnica dog shampoo</td>\n",
       "      <td>pet supplies</td>\n",
       "      <td>220.0</td>\n",
       "      <td>210.0</td>\n",
       "      <td>specifications of sicons all purpose arnica do...</td>\n",
       "      <td>4.5</td>\n",
       "      <td>3</td>\n",
       "      <td>2016</td>\n",
       "      <td>grooming</td>\n",
       "      <td>skincoat care</td>\n",
       "      <td>shampoo</td>\n",
       "    </tr>\n",
       "  </tbody>\n",
       "</table>\n",
       "</div>"
      ],
      "text/plain": [
       "                          product_name Primary_Category  retail_price  \\\n",
       "0    alisha solid women cycling shorts         clothing         999.0   \n",
       "1  fabhomedecor fabric double sofa bed        furniture       32157.0   \n",
       "2                           aw bellies         footwear         999.0   \n",
       "3    alisha solid women cycling shorts         clothing         699.0   \n",
       "4    sicons purpose arnica dog shampoo     pet supplies         220.0   \n",
       "\n",
       "   discounted_price                                        description  \\\n",
       "0             379.0  key features of alisha solid women cycling sho...   \n",
       "1           22646.0  fabhomedecor fabric double sofa bedfinish colo...   \n",
       "2             499.0  key features of aw bellies sandals wedges heel...   \n",
       "3             267.0  key features of alisha solid women cycling sho...   \n",
       "4             210.0  specifications of sicons all purpose arnica do...   \n",
       "\n",
       "   Discount%  sale_month  sale_year     Secondary_Category  \\\n",
       "0       62.1           3       2016         women clothing   \n",
       "1       29.6           3       2016  living room furniture   \n",
       "2       50.1           3       2016         women footwear   \n",
       "3       61.8           3       2016         women clothing   \n",
       "4        4.5           3       2016               grooming   \n",
       "\n",
       "       Tertiary_Category                             Quaternary_Category  \n",
       "0  lingeriesleepswimwear                                          shorts  \n",
       "1        sofa bedsfutons  fabhomedecor fabric double sofa bedfinish colo  \n",
       "2             ballerinas                                      aw bellies  \n",
       "3  lingeriesleepswimwear                                          shorts  \n",
       "4          skincoat care                                         shampoo  "
      ]
     },
     "execution_count": 141,
     "metadata": {},
     "output_type": "execute_result"
    }
   ],
   "source": [
    "flipkart1_df.head()"
   ]
  },
  {
   "cell_type": "code",
   "execution_count": 142,
   "metadata": {},
   "outputs": [],
   "source": [
    "# Let us map the month numbers names of month using map function from a dictionary\n",
    "months = {1 : 'January',\n",
    "         2 : 'February',\n",
    "         3 : 'March',\n",
    "         4 : 'April',\n",
    "         5 : 'May',\n",
    "         6 : 'June',\n",
    "         7 : 'July',\n",
    "         8 : 'August',\n",
    "         9 : 'September',\n",
    "         10 : 'October',\n",
    "         11: 'November',\n",
    "         12 : 'December'}\n",
    "\n",
    "flipkart1_df['sale_month'] = flipkart1_df['sale_month'].map(months)"
   ]
  },
  {
   "cell_type": "code",
   "execution_count": 143,
   "metadata": {},
   "outputs": [
    {
     "data": {
      "text/html": [
       "<div>\n",
       "<style scoped>\n",
       "    .dataframe tbody tr th:only-of-type {\n",
       "        vertical-align: middle;\n",
       "    }\n",
       "\n",
       "    .dataframe tbody tr th {\n",
       "        vertical-align: top;\n",
       "    }\n",
       "\n",
       "    .dataframe thead th {\n",
       "        text-align: right;\n",
       "    }\n",
       "</style>\n",
       "<table border=\"1\" class=\"dataframe\">\n",
       "  <thead>\n",
       "    <tr style=\"text-align: right;\">\n",
       "      <th></th>\n",
       "      <th>product_name</th>\n",
       "      <th>Primary_Category</th>\n",
       "      <th>retail_price</th>\n",
       "      <th>discounted_price</th>\n",
       "      <th>description</th>\n",
       "      <th>Discount%</th>\n",
       "      <th>sale_month</th>\n",
       "      <th>sale_year</th>\n",
       "      <th>Secondary_Category</th>\n",
       "      <th>Tertiary_Category</th>\n",
       "      <th>Quaternary_Category</th>\n",
       "    </tr>\n",
       "  </thead>\n",
       "  <tbody>\n",
       "    <tr>\n",
       "      <th>0</th>\n",
       "      <td>alisha solid women cycling shorts</td>\n",
       "      <td>clothing</td>\n",
       "      <td>999.0</td>\n",
       "      <td>379.0</td>\n",
       "      <td>key features of alisha solid women cycling sho...</td>\n",
       "      <td>62.1</td>\n",
       "      <td>March</td>\n",
       "      <td>2016</td>\n",
       "      <td>women clothing</td>\n",
       "      <td>lingeriesleepswimwear</td>\n",
       "      <td>shorts</td>\n",
       "    </tr>\n",
       "    <tr>\n",
       "      <th>1</th>\n",
       "      <td>fabhomedecor fabric double sofa bed</td>\n",
       "      <td>furniture</td>\n",
       "      <td>32157.0</td>\n",
       "      <td>22646.0</td>\n",
       "      <td>fabhomedecor fabric double sofa bedfinish colo...</td>\n",
       "      <td>29.6</td>\n",
       "      <td>March</td>\n",
       "      <td>2016</td>\n",
       "      <td>living room furniture</td>\n",
       "      <td>sofa bedsfutons</td>\n",
       "      <td>fabhomedecor fabric double sofa bedfinish colo</td>\n",
       "    </tr>\n",
       "    <tr>\n",
       "      <th>2</th>\n",
       "      <td>aw bellies</td>\n",
       "      <td>footwear</td>\n",
       "      <td>999.0</td>\n",
       "      <td>499.0</td>\n",
       "      <td>key features of aw bellies sandals wedges heel...</td>\n",
       "      <td>50.1</td>\n",
       "      <td>March</td>\n",
       "      <td>2016</td>\n",
       "      <td>women footwear</td>\n",
       "      <td>ballerinas</td>\n",
       "      <td>aw bellies</td>\n",
       "    </tr>\n",
       "    <tr>\n",
       "      <th>3</th>\n",
       "      <td>alisha solid women cycling shorts</td>\n",
       "      <td>clothing</td>\n",
       "      <td>699.0</td>\n",
       "      <td>267.0</td>\n",
       "      <td>key features of alisha solid women cycling sho...</td>\n",
       "      <td>61.8</td>\n",
       "      <td>March</td>\n",
       "      <td>2016</td>\n",
       "      <td>women clothing</td>\n",
       "      <td>lingeriesleepswimwear</td>\n",
       "      <td>shorts</td>\n",
       "    </tr>\n",
       "    <tr>\n",
       "      <th>4</th>\n",
       "      <td>sicons purpose arnica dog shampoo</td>\n",
       "      <td>pet supplies</td>\n",
       "      <td>220.0</td>\n",
       "      <td>210.0</td>\n",
       "      <td>specifications of sicons all purpose arnica do...</td>\n",
       "      <td>4.5</td>\n",
       "      <td>March</td>\n",
       "      <td>2016</td>\n",
       "      <td>grooming</td>\n",
       "      <td>skincoat care</td>\n",
       "      <td>shampoo</td>\n",
       "    </tr>\n",
       "  </tbody>\n",
       "</table>\n",
       "</div>"
      ],
      "text/plain": [
       "                          product_name Primary_Category  retail_price  \\\n",
       "0    alisha solid women cycling shorts         clothing         999.0   \n",
       "1  fabhomedecor fabric double sofa bed        furniture       32157.0   \n",
       "2                           aw bellies         footwear         999.0   \n",
       "3    alisha solid women cycling shorts         clothing         699.0   \n",
       "4    sicons purpose arnica dog shampoo     pet supplies         220.0   \n",
       "\n",
       "   discounted_price                                        description  \\\n",
       "0             379.0  key features of alisha solid women cycling sho...   \n",
       "1           22646.0  fabhomedecor fabric double sofa bedfinish colo...   \n",
       "2             499.0  key features of aw bellies sandals wedges heel...   \n",
       "3             267.0  key features of alisha solid women cycling sho...   \n",
       "4             210.0  specifications of sicons all purpose arnica do...   \n",
       "\n",
       "   Discount% sale_month  sale_year     Secondary_Category  \\\n",
       "0       62.1      March       2016         women clothing   \n",
       "1       29.6      March       2016  living room furniture   \n",
       "2       50.1      March       2016         women footwear   \n",
       "3       61.8      March       2016         women clothing   \n",
       "4        4.5      March       2016               grooming   \n",
       "\n",
       "       Tertiary_Category                             Quaternary_Category  \n",
       "0  lingeriesleepswimwear                                          shorts  \n",
       "1        sofa bedsfutons  fabhomedecor fabric double sofa bedfinish colo  \n",
       "2             ballerinas                                      aw bellies  \n",
       "3  lingeriesleepswimwear                                          shorts  \n",
       "4          skincoat care                                         shampoo  "
      ]
     },
     "execution_count": 143,
     "metadata": {},
     "output_type": "execute_result"
    }
   ],
   "source": [
    "flipkart1_df.head()"
   ]
  },
  {
   "cell_type": "code",
   "execution_count": 144,
   "metadata": {},
   "outputs": [
    {
     "data": {
      "text/plain": [
       "December    10315\n",
       "January      4850\n",
       "March        1634\n",
       "April        1137\n",
       "June         1046\n",
       "May           773\n",
       "February      245\n",
       "Name: sale_month, dtype: int64"
      ]
     },
     "execution_count": 144,
     "metadata": {},
     "output_type": "execute_result"
    }
   ],
   "source": [
    "monthly_sales = flipkart1_df['sale_month'].value_counts()\n",
    "monthly_sales"
   ]
  },
  {
   "cell_type": "code",
   "execution_count": 145,
   "metadata": {},
   "outputs": [
    {
     "data": {
      "text/plain": [
       "Text(0.5, 1.0, 'Products Monthly Sales')"
      ]
     },
     "execution_count": 145,
     "metadata": {},
     "output_type": "execute_result"
    },
    {
     "data": {
      "image/png": "[encoded data removed]",
      "text/plain": [
       "<Figure size 864x288 with 1 Axes>"
      ]
     },
     "metadata": {
      "needs_background": "light"
     },
     "output_type": "display_data"
    }
   ],
   "source": [
    "# MONTHLY SALES DISTRIBUTION\n",
    "# Plot monthly distribution of sales\n",
    "plt.figure(figsize=(12,4))\n",
    "sns.barplot(monthly_sales.values, monthly_sales.index)\n",
    "plt.title('Products Monthly Sales', fontsize=20)"
   ]
  },
  {
   "cell_type": "code",
   "execution_count": 146,
   "metadata": {},
   "outputs": [
    {
     "data": {
      "text/plain": [
       "2015    10315\n",
       "2016     9685\n",
       "Name: sale_year, dtype: int64"
      ]
     },
     "execution_count": 146,
     "metadata": {},
     "output_type": "execute_result"
    }
   ],
   "source": [
    "yearly_sales = flipkart1_df['sale_year'].value_counts()\n",
    "yearly_sales"
   ]
  },
  {
   "cell_type": "code",
   "execution_count": 147,
   "metadata": {},
   "outputs": [
    {
     "data": {
      "text/plain": [
       "<AxesSubplot:>"
      ]
     },
     "execution_count": 147,
     "metadata": {},
     "output_type": "execute_result"
    },
    {
     "data": {
      "image/png": "[encoded data removed]",
      "text/plain": [
       "<Figure size 288x432 with 1 Axes>"
      ]
     },
     "metadata": {
      "needs_background": "light"
     },
     "output_type": "display_data"
    }
   ],
   "source": [
    "# YEARLY SALES DISTRIBUTION\n",
    "plt.figure(figsize=(4,6))\n",
    "sns.barplot(yearly_sales.index, yearly_sales.values)"
   ]
  },
  {
   "cell_type": "markdown",
   "metadata": {},
   "source": [
    "#  4. TRAINING MODEL"
   ]
  },
  {
   "cell_type": "code",
   "execution_count": 148,
   "metadata": {},
   "outputs": [],
   "source": [
    "import matplotlib.pyplot as plt\n",
    "import seaborn as sns\n",
    "import numpy as np\n",
    "import pandas as pd"
   ]
  },
  {
   "cell_type": "markdown",
   "metadata": {},
   "source": [
    "## LOADING MODEL"
   ]
  },
  {
   "cell_type": "code",
   "execution_count": 149,
   "metadata": {},
   "outputs": [
    {
     "name": "stdout",
     "output_type": "stream",
     "text": [
      "   abeez boysmengirlsblackpack  \\\n",
      "0                            0   \n",
      "1                            0   \n",
      "2                            0   \n",
      "3                            0   \n",
      "4                            0   \n",
      "\n",
      "   abhinl fashion cotton printed semi stitched salw  \\\n",
      "0                                                 0   \n",
      "1                                                 0   \n",
      "2                                                 0   \n",
      "3                                                 0   \n",
      "4                                                 0   \n",
      "\n",
      "   adidas ind pro thi gua thigh guardwhiteblue  \\\n",
      "0                                            0   \n",
      "1                                            0   \n",
      "2                                            0   \n",
      "3                                            0   \n",
      "4                                            0   \n",
      "\n",
      "   ajaero slim fit women dark blue jeans  \\\n",
      "0                                      0   \n",
      "1                                      0   \n",
      "2                                      0   \n",
      "3                                      0   \n",
      "4                                      0   \n",
      "\n",
      "   amita home furnishing cotton floral single bedsh  \\\n",
      "0                                                 0   \n",
      "1                                                 0   \n",
      "2                                                 0   \n",
      "3                                                 0   \n",
      "4                                                 0   \n",
      "\n",
      "   amita home furnishing cotton printed single beds  \\\n",
      "0                                                 0   \n",
      "1                                                 0   \n",
      "2                                                 0   \n",
      "3                                                 0   \n",
      "4                                                 0   \n",
      "\n",
      "   anand archies girls flats  anand archies girls wedges  \\\n",
      "0                          0                           0   \n",
      "1                          0                           0   \n",
      "2                          0                           0   \n",
      "3                          0                           0   \n",
      "4                          0                           0   \n",
      "\n",
      "   anasazi casualsleeve solid women top  anuradha art stylish hair clipblack  \\\n",
      "0                                     0                                    0   \n",
      "1                                     0                                    0   \n",
      "2                                     0                                    0   \n",
      "3                                     0                                    0   \n",
      "4                                     0                                    0   \n",
      "\n",
      "   ...  wearable smart devices  \\\n",
      "0  ...                       0   \n",
      "1  ...                       0   \n",
      "2  ...                       0   \n",
      "3  ...                       0   \n",
      "4  ...                       0   \n",
      "\n",
      "   wella elements leight weight renewing conditione  \\\n",
      "0                                                 0   \n",
      "1                                                 0   \n",
      "2                                                 0   \n",
      "3                                                 0   \n",
      "4                                                 0   \n",
      "\n",
      "   wellon fittings setpiecesfor ro water pur  women flats  wow women flats  \\\n",
      "0                                          0            0                0   \n",
      "1                                          0            0                0   \n",
      "2                                          0            0                0   \n",
      "3                                          0            0                0   \n",
      "4                                          0            0                0   \n",
      "\n",
      "   xy decor cotton sofa coverwhite pack  yo baby girl trousers  \\\n",
      "0                                     0                      0   \n",
      "1                                     0                      0   \n",
      "2                                     0                      0   \n",
      "3                                     0                      0   \n",
      "4                                     0                      0   \n",
      "\n",
      "   zevrr sterling silver swarovski zirconia platinu  zikrak exim women wedges  \\\n",
      "0                                                 0                         0   \n",
      "1                                                 0                         0   \n",
      "2                                                 0                         0   \n",
      "3                                                 0                         0   \n",
      "4                                                 0                         0   \n",
      "\n",
      "   zixtro bugblackbackpack  \n",
      "0                        0  \n",
      "1                        0  \n",
      "2                        0  \n",
      "3                        0  \n",
      "4                        0  \n",
      "\n",
      "[5 rows x 257 columns]\n"
     ]
    }
   ],
   "source": [
    "from sklearn.linear_model import LogisticRegression\n",
    "\n",
    "X = flipkart1_df['product_name']\n",
    "y = flipkart1_df['Primary_Category']\n",
    "one_hot_encoded_label = pd.get_dummies(y)\n",
    "print(one_hot_encoded_label.head())"
   ]
  },
  {
   "cell_type": "markdown",
   "metadata": {},
   "source": [
    "###  Splitting data into training and testing data"
   ]
  },
  {
   "cell_type": "code",
   "execution_count": 150,
   "metadata": {},
   "outputs": [
    {
     "name": "stdout",
     "output_type": "stream",
     "text": [
      "percentage of the X_train data:75.00%\n",
      "percentage of the X_test data:25.00%\n",
      "percentage of the y_train data:75.00%\n",
      "percentage of the y_test data:25.00%\n"
     ]
    }
   ],
   "source": [
    "from sklearn.model_selection import train_test_split\n",
    "\n",
    "X_train, X_test, y_train, y_test = train_test_split(X, y, test_size = 0.25, random_state=42)\n",
    "\n",
    "print(\"percentage of the X_train data:{:0.2f}%\".format(len(X_train)/len(flipkart1_df)*100))\n",
    "print(\"percentage of the X_test data:{:0.2f}%\".format(len(X_test)/len(flipkart1_df)*100))\n",
    "print(\"percentage of the y_train data:{:0.2f}%\".format(len(y_train)/len(flipkart1_df)*100))\n",
    "print(\"percentage of the y_test data:{:0.2f}%\".format(len(y_test)/len(flipkart1_df)*100))"
   ]
  },
  {
   "cell_type": "markdown",
   "metadata": {},
   "source": [
    "###  Extracting Features"
   ]
  },
  {
   "cell_type": "code",
   "execution_count": 151,
   "metadata": {
    "scrolled": true
   },
   "outputs": [
    {
     "name": "stdout",
     "output_type": "stream",
     "text": [
      "Features Length  2008\n",
      "Smallest tfidf:\n",
      "['sunshadecurtainset' 'vetra' 'ety' 'mhk' 'ipadapple' 'chargingmeter'\n",
      " 'lexel' 'typesun' 'offor' 'almond']\n",
      "\n",
      "Largest tfidf: \n",
      "['zyxel' 'oil' 'nail' 'necklace' 'neo' 'netgear' 'netis' 'nike' 'note'\n",
      " 'notebook']\n"
     ]
    }
   ],
   "source": [
    "from sklearn.feature_extraction.text import TfidfVectorizer\n",
    "\n",
    "vect = TfidfVectorizer(min_df=5).fit(X_train)\n",
    "print(\"Features Length \", len(vect.get_feature_names()))\n",
    "X_train_vectorized = vect.transform(X_train)\n",
    "feature_names = np.array(vect.get_feature_names())\n",
    "sorted_tfidf_index = X_train_vectorized.max(0).toarray()[0].argsort()\n",
    "\n",
    "print('Smallest tfidf:\\n{}\\n'.format(feature_names[sorted_tfidf_index[:10]]))\n",
    "print('Largest tfidf: \\n{}'.format(feature_names[sorted_tfidf_index[:-11:-1]]))\n",
    "\n",
    "X_train_vectorized = vect.transform(X_train)"
   ]
  },
  {
   "cell_type": "markdown",
   "metadata": {},
   "source": [
    "# Train the Model"
   ]
  },
  {
   "cell_type": "code",
   "execution_count": 152,
   "metadata": {},
   "outputs": [
    {
     "name": "stdout",
     "output_type": "stream",
     "text": [
      "After :  1 run  Accuracy :  95.0 %\n",
      "After :  2 run  Accuracy :  99.0 %\n",
      "After :  3 run  Accuracy :  100.0 %\n",
      "Smallest Coefs:\n",
      "['set' 'women' 'fit' 'car' 'plastic' 'cotton' 'black' 'sunglasses' 'combo'\n",
      " 'blue']\n",
      "\n",
      "Largest Coefs: \n",
      "['pro' 'adidas' 'guard' 'zephyrr' 'zakaah' 'bridal' 'itzmyfashion'\n",
      " 'specimen' 'urthn' 'urbaano']\n",
      "First two prediction  ['clothing' 'furniture']\n",
      "Final Accuracy :100.00\n"
     ]
    }
   ],
   "source": [
    "from sklearn.linear_model import LogisticRegression\n",
    "from sklearn.metrics import accuracy_score\n",
    "c_val =[0.2,0.75, 1, 2, 3, 4, 5, 10,15,20,25]\n",
    "\n",
    "iter=0\n",
    "acc_vect=[]\n",
    "for i in range(3):\n",
    "    acc_val=[]\n",
    "    for c in c_val:\n",
    "        \n",
    "        X = flipkart1_df['product_name']\n",
    "        y = flipkart1_df['Primary_Category']\n",
    "        one_hot_encoded_label = pd.get_dummies(y)\n",
    "        from sklearn.model_selection import train_test_split\n",
    "        X_train, X_test, y_train, y_test = train_test_split(X, y, test_size = 0.25, random_state=42)\n",
    "        from sklearn.feature_extraction.text import TfidfVectorizer\n",
    "        vect = TfidfVectorizer(min_df=5).fit(X_train)\n",
    "        X_train_vectorized = vect.transform(X_train)\n",
    "        feature_names = np.array(vect.get_feature_names())\n",
    "        sorted_tfidf_index = X_train_vectorized.max(0).toarray()[0].argsort()\n",
    "        X_train_vectorized = vect.transform(X_train)\n",
    "        \n",
    "        model = LogisticRegression(C=c,solver='saga')\n",
    "        model.fit(X_train_vectorized, y_train)\n",
    "        #print (\"Accuracy for C=%s: %s\" % (c, accuracy_score(y_test, model.predict(vect.transform(X_test)))))\n",
    "        acc_val.append(round(accuracy_score(y_test, model.predict(vect.transform(X_test))),2))\n",
    "        \n",
    "    flipkart1_df['Primary_Category']=model.predict(vect.transform(flipkart1_df.product_name[0:]))\n",
    "    print(\"After : \",i+1,\"run \", \"Accuracy : \",acc_val[-1]*100,\"%\")\n",
    "    acc_vect.append(acc_val)\n",
    "sorted_coef_index = model.coef_[0].argsort()\n",
    "#after training model\n",
    "print('Smallest Coefs:\\n{}\\n'.format(feature_names[sorted_coef_index[:10]]))\n",
    "print('Largest Coefs: \\n{}'.format(feature_names[sorted_coef_index[:-11:-1]]))\n",
    "print(\"First two prediction \", model.predict(vect.transform(flipkart1_df.product_name[0:2])))\n",
    "print(\"Final Accuracy :{:0.2f}\".format(acc_val[-1]*100))"
   ]
  },
  {
   "cell_type": "markdown",
   "metadata": {},
   "source": [
    "###  Model Accuracy plot and confusion matrix"
   ]
  },
  {
   "cell_type": "markdown",
   "metadata": {},
   "source": [
    "####  Accuracy vs Coercion value plot"
   ]
  },
  {
   "cell_type": "code",
   "execution_count": 153,
   "metadata": {},
   "outputs": [
    {
     "data": {
      "image/png": "[encoded data removed]",
      "text/plain": [
       "<Figure size 720x576 with 1 Axes>"
      ]
     },
     "metadata": {
      "needs_background": "light"
     },
     "output_type": "display_data"
    }
   ],
   "source": [
    "plt.figure(figsize=(10,8))\n",
    "plt.plot(c_val, [element * 100 for element in acc_vect[0]],color=\"blue\",label='1st Run Accuracy: '+str(acc_vect[0][-1]*100)+\"%\")\n",
    "plt.plot(c_val, [element * 100 for element in acc_vect[1]],color=\"grey\",label='2st Run Accuracy: '+str(acc_vect[1][-1]*100)+\"%\")\n",
    "plt.plot(c_val, [element * 100 for element in acc_vect[2]],color=\"green\",label='3st Run Accuracy: '+str(acc_vect[2][-1]*100)+\"%\")\n",
    "plt.xlabel('Coercion Value')\n",
    "plt.legend()\n",
    "plt.ylabel('Accuracy')\n",
    "plt.show()"
   ]
  },
  {
   "cell_type": "markdown",
   "metadata": {},
   "source": [
    "##### Confusion matrices are used to visualize important predictive analytics like recall, specificity, accuracy, and precision."
   ]
  },
  {
   "cell_type": "markdown",
   "metadata": {},
   "source": [
    "#### Confusion Matrix"
   ]
  },
  {
   "cell_type": "code",
   "execution_count": 154,
   "metadata": {},
   "outputs": [
    {
     "name": "stdout",
     "output_type": "stream",
     "text": [
      "[[  1   0   0 ...   0   0   0]\n",
      " [  0   1   0 ...   0   0   0]\n",
      " [  0   0 252 ...   0   0   0]\n",
      " ...\n",
      " [  0   0   0 ...   2   0   0]\n",
      " [  0   0   0 ...   0 143   0]\n",
      " [  0   0   0 ...   0   0   1]]\n"
     ]
    },
    {
     "data": {
      "image/png": "[encoded data removed]",
      "text/plain": [
       "<Figure size 1080x1080 with 2 Axes>"
      ]
     },
     "metadata": {
      "needs_background": "light"
     },
     "output_type": "display_data"
    }
   ],
   "source": [
    "import matplotlib.pyplot as plt\n",
    "import seaborn as sns\n",
    "from sklearn.metrics import confusion_matrix\n",
    "\n",
    "predictions = model.predict(vect.transform(X_test))\n",
    "cm = confusion_matrix(y_test.to_numpy(), predictions)\n",
    "print(cm)\n",
    "plt.figure(figsize=(15,15))\n",
    "ax=sns.heatmap(cm, annot=True, fmt=\".3f\", linewidths=1, square = True, cmap = 'Blues_r');\n",
    "plt.ylabel('Actual label');\n",
    "plt.xlabel('Predicted label');\n",
    "ax.set_aspect(\"equal\")\n",
    "b, t = plt.ylim() # discover the values for bottom and top\n",
    "b += 0.5 # Add 0.5 to the bottom\n",
    "t -= 0.5 # Subtract 0.5 from the top\n",
    "plt.ylim(b, t) # update the ylim(bottom, top) values\n",
    "all_sample_title = 'Accuracy Score: {:0.2f}%'.format(acc_val[-1]*100)\n",
    "plt.title(all_sample_title, size = 15);"
   ]
  }
 ],
 "metadata": {
  "kernelspec": {
   "display_name": "Python 3",
   "language": "python",
   "name": "python3"
  },
  "language_info": {
   "codemirror_mode": {
    "name": "ipython",
    "version": 3
   },
   "file_extension": ".py",
   "mimetype": "text/x-python",
   "name": "python",
   "nbconvert_exporter": "python",
   "pygments_lexer": "ipython3",
   "version": "3.8.5"
  }
 },
 "nbformat": 4,
 "nbformat_minor": 4
}
